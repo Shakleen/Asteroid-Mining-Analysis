{
 "cells": [
  {
   "cell_type": "code",
   "execution_count": 1,
   "metadata": {},
   "outputs": [],
   "source": [
    "import os\n",
    "\n",
    "os.chdir(\"../\")"
   ]
  },
  {
   "cell_type": "markdown",
   "metadata": {},
   "source": [
    "# Data Cleaning\n",
    "\n",
    "This notebook deals with everything associated with data cleaning. Which includes filling in missing values, handling noise, tackling inconsistancies, etc."
   ]
  },
  {
   "cell_type": "markdown",
   "metadata": {},
   "source": [
    "## Loading Dataset"
   ]
  },
  {
   "cell_type": "code",
   "execution_count": 2,
   "metadata": {},
   "outputs": [],
   "source": [
    "import pandas as pd\n",
    "import plotly.express as px"
   ]
  },
  {
   "cell_type": "code",
   "execution_count": 3,
   "metadata": {},
   "outputs": [
    {
     "name": "stdout",
     "output_type": "stream",
     "text": [
      "Number of (rows, columns) = (1340607, 43)\n"
     ]
    }
   ],
   "source": [
    "df = pd.read_csv(\"data/Asteroid_Data.csv\", low_memory=False)\n",
    "print(f\"Number of (rows, columns) = {df.shape}\")"
   ]
  },
  {
   "cell_type": "code",
   "execution_count": 4,
   "metadata": {},
   "outputs": [
    {
     "data": {
      "text/html": [
       "<div>\n",
       "<style scoped>\n",
       "    .dataframe tbody tr th:only-of-type {\n",
       "        vertical-align: middle;\n",
       "    }\n",
       "\n",
       "    .dataframe tbody tr th {\n",
       "        vertical-align: top;\n",
       "    }\n",
       "\n",
       "    .dataframe thead th {\n",
       "        text-align: right;\n",
       "    }\n",
       "</style>\n",
       "<table border=\"1\" class=\"dataframe\">\n",
       "  <thead>\n",
       "    <tr style=\"text-align: right;\">\n",
       "      <th></th>\n",
       "      <th>full_name</th>\n",
       "      <th>a</th>\n",
       "      <th>e</th>\n",
       "      <th>i</th>\n",
       "      <th>om</th>\n",
       "      <th>w</th>\n",
       "      <th>q</th>\n",
       "      <th>ad</th>\n",
       "      <th>per_y</th>\n",
       "      <th>data_arc</th>\n",
       "      <th>...</th>\n",
       "      <th>moid</th>\n",
       "      <th>moid_ld</th>\n",
       "      <th>sigma_e</th>\n",
       "      <th>sigma_a</th>\n",
       "      <th>sigma_q</th>\n",
       "      <th>sigma_i</th>\n",
       "      <th>sigma_per</th>\n",
       "      <th>class</th>\n",
       "      <th>first_obs</th>\n",
       "      <th>last_obs</th>\n",
       "    </tr>\n",
       "  </thead>\n",
       "  <tbody>\n",
       "    <tr>\n",
       "      <th>378060</th>\n",
       "      <td>378061 (2006 TZ91)</td>\n",
       "      <td>2.303</td>\n",
       "      <td>0.1618</td>\n",
       "      <td>2.57</td>\n",
       "      <td>248.39</td>\n",
       "      <td>138.95</td>\n",
       "      <td>1.931</td>\n",
       "      <td>2.68</td>\n",
       "      <td>3.50</td>\n",
       "      <td>6175.0</td>\n",
       "      <td>...</td>\n",
       "      <td>0.935</td>\n",
       "      <td>364.0</td>\n",
       "      <td>4.300000e-08</td>\n",
       "      <td>7.900000e-09</td>\n",
       "      <td>1.000000e-07</td>\n",
       "      <td>5.000000e-06</td>\n",
       "      <td>0.000007</td>\n",
       "      <td>MBA</td>\n",
       "      <td>2006-10-13</td>\n",
       "      <td>2023-09-09</td>\n",
       "    </tr>\n",
       "    <tr>\n",
       "      <th>846878</th>\n",
       "      <td>(2013 GK125)</td>\n",
       "      <td>2.661</td>\n",
       "      <td>0.2665</td>\n",
       "      <td>8.25</td>\n",
       "      <td>142.64</td>\n",
       "      <td>67.35</td>\n",
       "      <td>1.952</td>\n",
       "      <td>3.37</td>\n",
       "      <td>4.34</td>\n",
       "      <td>1436.0</td>\n",
       "      <td>...</td>\n",
       "      <td>0.964</td>\n",
       "      <td>375.0</td>\n",
       "      <td>4.100000e-06</td>\n",
       "      <td>2.600000e-06</td>\n",
       "      <td>1.300000e-05</td>\n",
       "      <td>5.300000e-05</td>\n",
       "      <td>0.002300</td>\n",
       "      <td>MBA</td>\n",
       "      <td>2013-04-11</td>\n",
       "      <td>2017-03-17</td>\n",
       "    </tr>\n",
       "    <tr>\n",
       "      <th>5466</th>\n",
       "      <td>5467 (1988 AG)</td>\n",
       "      <td>2.807</td>\n",
       "      <td>0.1696</td>\n",
       "      <td>8.76</td>\n",
       "      <td>339.01</td>\n",
       "      <td>141.03</td>\n",
       "      <td>2.331</td>\n",
       "      <td>3.28</td>\n",
       "      <td>4.70</td>\n",
       "      <td>18165.0</td>\n",
       "      <td>...</td>\n",
       "      <td>1.350</td>\n",
       "      <td>526.0</td>\n",
       "      <td>3.000000e-09</td>\n",
       "      <td>7.600000e-09</td>\n",
       "      <td>4.000000e-09</td>\n",
       "      <td>7.000000e-08</td>\n",
       "      <td>0.000007</td>\n",
       "      <td>MBA</td>\n",
       "      <td>1974-02-16</td>\n",
       "      <td>2023-11-11</td>\n",
       "    </tr>\n",
       "  </tbody>\n",
       "</table>\n",
       "<p>3 rows × 43 columns</p>\n",
       "</div>"
      ],
      "text/plain": [
       "                  full_name      a       e     i      om       w      q    ad  \\\n",
       "378060   378061 (2006 TZ91)  2.303  0.1618  2.57  248.39  138.95  1.931  2.68   \n",
       "846878         (2013 GK125)  2.661  0.2665  8.25  142.64   67.35  1.952  3.37   \n",
       "5466         5467 (1988 AG)  2.807  0.1696  8.76  339.01  141.03  2.331  3.28   \n",
       "\n",
       "        per_y  data_arc  ...   moid  moid_ld       sigma_e       sigma_a  \\\n",
       "378060   3.50    6175.0  ...  0.935    364.0  4.300000e-08  7.900000e-09   \n",
       "846878   4.34    1436.0  ...  0.964    375.0  4.100000e-06  2.600000e-06   \n",
       "5466     4.70   18165.0  ...  1.350    526.0  3.000000e-09  7.600000e-09   \n",
       "\n",
       "             sigma_q       sigma_i  sigma_per  class   first_obs    last_obs  \n",
       "378060  1.000000e-07  5.000000e-06   0.000007    MBA  2006-10-13  2023-09-09  \n",
       "846878  1.300000e-05  5.300000e-05   0.002300    MBA  2013-04-11  2017-03-17  \n",
       "5466    4.000000e-09  7.000000e-08   0.000007    MBA  1974-02-16  2023-11-11  \n",
       "\n",
       "[3 rows x 43 columns]"
      ]
     },
     "execution_count": 4,
     "metadata": {},
     "output_type": "execute_result"
    }
   ],
   "source": [
    "df.sample(3)"
   ]
  },
  {
   "cell_type": "code",
   "execution_count": 5,
   "metadata": {},
   "outputs": [
    {
     "name": "stdout",
     "output_type": "stream",
     "text": [
      "<class 'pandas.core.frame.DataFrame'>\n",
      "RangeIndex: 1340607 entries, 0 to 1340606\n",
      "Data columns (total 43 columns):\n",
      " #   Column          Non-Null Count    Dtype  \n",
      "---  ------          --------------    -----  \n",
      " 0   full_name       1340607 non-null  object \n",
      " 1   a               1340607 non-null  float64\n",
      " 2   e               1340607 non-null  float64\n",
      " 3   i               1340607 non-null  float64\n",
      " 4   om              1340607 non-null  float64\n",
      " 5   w               1340607 non-null  float64\n",
      " 6   q               1340607 non-null  float64\n",
      " 7   ad              1340602 non-null  float64\n",
      " 8   per_y           1340602 non-null  float64\n",
      " 9   data_arc        1340063 non-null  float64\n",
      " 10  condition_code  1340584 non-null  object \n",
      " 11  n_obs_used      1340607 non-null  int64  \n",
      " 12  n_del_obs_used  1034 non-null     float64\n",
      " 13  n_dop_obs_used  1034 non-null     float64\n",
      " 14  H               1339457 non-null  float64\n",
      " 15  epoch_mjd       1340607 non-null  int64  \n",
      " 16  ma              1340606 non-null  float64\n",
      " 17  diameter        139624 non-null   float64\n",
      " 18  extent          20 non-null       object \n",
      " 19  albedo          138496 non-null   float64\n",
      " 20  rot_per         34103 non-null    float64\n",
      " 21  GM              15 non-null       float64\n",
      " 22  BV              1021 non-null     float64\n",
      " 23  UB              979 non-null      float64\n",
      " 24  IR              1 non-null        float64\n",
      " 25  spec_B          1666 non-null     object \n",
      " 26  spec_T          980 non-null      object \n",
      " 27  neo             1340602 non-null  object \n",
      " 28  pha             1338494 non-null  object \n",
      " 29  G               119 non-null      float64\n",
      " 30  diameter_sigma  139499 non-null   float64\n",
      " 31  n               1340607 non-null  float64\n",
      " 32  per             1340602 non-null  float64\n",
      " 33  moid            1338495 non-null  float64\n",
      " 34  moid_ld         1338495 non-null  float64\n",
      " 35  sigma_e         1338494 non-null  float64\n",
      " 36  sigma_a         1338494 non-null  float64\n",
      " 37  sigma_q         1338494 non-null  float64\n",
      " 38  sigma_i         1338494 non-null  float64\n",
      " 39  sigma_per       1338489 non-null  float64\n",
      " 40  class           1340607 non-null  object \n",
      " 41  first_obs       1340607 non-null  object \n",
      " 42  last_obs        1340607 non-null  object \n",
      "dtypes: float64(31), int64(2), object(10)\n",
      "memory usage: 439.8+ MB\n"
     ]
    }
   ],
   "source": [
    "df.info()"
   ]
  },
  {
   "cell_type": "markdown",
   "metadata": {},
   "source": [
    "## Missing Values\n",
    "\n",
    "This section deals with handling missing values."
   ]
  },
  {
   "cell_type": "markdown",
   "metadata": {},
   "source": [
    "### Identify Missing Columns\n",
    "\n",
    "In this subsection, I'll identify which columns have missing values. What percentage of the values are missing. I visualize the missing statistics in a bar plot. I, then, chart a course on how to handle the different levels of missing values."
   ]
  },
  {
   "cell_type": "code",
   "execution_count": 6,
   "metadata": {},
   "outputs": [],
   "source": [
    "missing = pd.DataFrame(\n",
    "    df.apply(lambda x: x.isna(), axis=1).sum().sort_values(ascending=True)\n",
    ").reset_index()\n",
    "\n",
    "missing.rename(columns={0: \"Missing\", \"index\": \"Column\"}, inplace=True)\n",
    "missing[\"Percent\"] = missing[\"Missing\"] / df.shape[0] * 100"
   ]
  },
  {
   "cell_type": "code",
   "execution_count": 7,
   "metadata": {},
   "outputs": [
    {
     "data": {
      "application/vnd.plotly.v1+json": {
       "config": {
        "plotlyServerURL": "https://plot.ly"
       },
       "data": [
        {
         "alignmentgroup": "True",
         "hovertemplate": "Column=%{x}<br>Percent=%{y}<br>Missing=%{text}<extra></extra>",
         "legendgroup": "",
         "marker": {
          "color": "#636efa",
          "pattern": {
           "shape": ""
          }
         },
         "name": "",
         "offsetgroup": "",
         "orientation": "v",
         "showlegend": false,
         "text": [
          1,
          5,
          5,
          5,
          5,
          23,
          544,
          1150,
          2112,
          2112,
          2113,
          2113,
          2113,
          2113,
          2113,
          2118,
          1200983,
          1201108,
          1202111,
          1306504,
          1338941,
          1339573,
          1339573,
          1339586,
          1339627,
          1339628,
          1340488,
          1340587,
          1340592,
          1340606
         ],
         "textposition": "auto",
         "type": "bar",
         "x": [
          "ma",
          "per",
          "neo",
          "ad",
          "per_y",
          "condition_code",
          "data_arc",
          "H",
          "moid_ld",
          "moid",
          "pha",
          "sigma_i",
          "sigma_q",
          "sigma_a",
          "sigma_e",
          "sigma_per",
          "diameter",
          "diameter_sigma",
          "albedo",
          "rot_per",
          "spec_B",
          "n_del_obs_used",
          "n_dop_obs_used",
          "BV",
          "spec_T",
          "UB",
          "G",
          "extent",
          "GM",
          "IR"
         ],
         "xaxis": "x",
         "y": [
          0.00007459307612148826,
          0.0003729653806074413,
          0.0003729653806074413,
          0.0003729653806074413,
          0.0003729653806074413,
          0.0017156407507942298,
          0.04057863341008961,
          0.08578203753971149,
          0.15754057676858318,
          0.15754057676858318,
          0.15761516984470467,
          0.15761516984470467,
          0.15761516984470467,
          0.15761516984470467,
          0.15761516984470467,
          0.15798813522531213,
          89.58501633961332,
          89.59434047412851,
          89.66915732947837,
          97.45615232502888,
          99.8757279351816,
          99.92287075929039,
          99.92287075929039,
          99.92384046927995,
          99.92689878540094,
          99.92697337847706,
          99.99112342394154,
          99.99850813847758,
          99.99888110385817,
          99.99992540692388
         ],
         "yaxis": "y"
        }
       ],
       "layout": {
        "barmode": "relative",
        "height": 600,
        "legend": {
         "tracegroupgap": 0
        },
        "margin": {
         "t": 60
        },
        "template": {
         "data": {
          "bar": [
           {
            "error_x": {
             "color": "#2a3f5f"
            },
            "error_y": {
             "color": "#2a3f5f"
            },
            "marker": {
             "line": {
              "color": "#E5ECF6",
              "width": 0.5
             },
             "pattern": {
              "fillmode": "overlay",
              "size": 10,
              "solidity": 0.2
             }
            },
            "type": "bar"
           }
          ],
          "barpolar": [
           {
            "marker": {
             "line": {
              "color": "#E5ECF6",
              "width": 0.5
             },
             "pattern": {
              "fillmode": "overlay",
              "size": 10,
              "solidity": 0.2
             }
            },
            "type": "barpolar"
           }
          ],
          "carpet": [
           {
            "aaxis": {
             "endlinecolor": "#2a3f5f",
             "gridcolor": "white",
             "linecolor": "white",
             "minorgridcolor": "white",
             "startlinecolor": "#2a3f5f"
            },
            "baxis": {
             "endlinecolor": "#2a3f5f",
             "gridcolor": "white",
             "linecolor": "white",
             "minorgridcolor": "white",
             "startlinecolor": "#2a3f5f"
            },
            "type": "carpet"
           }
          ],
          "choropleth": [
           {
            "colorbar": {
             "outlinewidth": 0,
             "ticks": ""
            },
            "type": "choropleth"
           }
          ],
          "contour": [
           {
            "colorbar": {
             "outlinewidth": 0,
             "ticks": ""
            },
            "colorscale": [
             [
              0,
              "#0d0887"
             ],
             [
              0.1111111111111111,
              "#46039f"
             ],
             [
              0.2222222222222222,
              "#7201a8"
             ],
             [
              0.3333333333333333,
              "#9c179e"
             ],
             [
              0.4444444444444444,
              "#bd3786"
             ],
             [
              0.5555555555555556,
              "#d8576b"
             ],
             [
              0.6666666666666666,
              "#ed7953"
             ],
             [
              0.7777777777777778,
              "#fb9f3a"
             ],
             [
              0.8888888888888888,
              "#fdca26"
             ],
             [
              1,
              "#f0f921"
             ]
            ],
            "type": "contour"
           }
          ],
          "contourcarpet": [
           {
            "colorbar": {
             "outlinewidth": 0,
             "ticks": ""
            },
            "type": "contourcarpet"
           }
          ],
          "heatmap": [
           {
            "colorbar": {
             "outlinewidth": 0,
             "ticks": ""
            },
            "colorscale": [
             [
              0,
              "#0d0887"
             ],
             [
              0.1111111111111111,
              "#46039f"
             ],
             [
              0.2222222222222222,
              "#7201a8"
             ],
             [
              0.3333333333333333,
              "#9c179e"
             ],
             [
              0.4444444444444444,
              "#bd3786"
             ],
             [
              0.5555555555555556,
              "#d8576b"
             ],
             [
              0.6666666666666666,
              "#ed7953"
             ],
             [
              0.7777777777777778,
              "#fb9f3a"
             ],
             [
              0.8888888888888888,
              "#fdca26"
             ],
             [
              1,
              "#f0f921"
             ]
            ],
            "type": "heatmap"
           }
          ],
          "heatmapgl": [
           {
            "colorbar": {
             "outlinewidth": 0,
             "ticks": ""
            },
            "colorscale": [
             [
              0,
              "#0d0887"
             ],
             [
              0.1111111111111111,
              "#46039f"
             ],
             [
              0.2222222222222222,
              "#7201a8"
             ],
             [
              0.3333333333333333,
              "#9c179e"
             ],
             [
              0.4444444444444444,
              "#bd3786"
             ],
             [
              0.5555555555555556,
              "#d8576b"
             ],
             [
              0.6666666666666666,
              "#ed7953"
             ],
             [
              0.7777777777777778,
              "#fb9f3a"
             ],
             [
              0.8888888888888888,
              "#fdca26"
             ],
             [
              1,
              "#f0f921"
             ]
            ],
            "type": "heatmapgl"
           }
          ],
          "histogram": [
           {
            "marker": {
             "pattern": {
              "fillmode": "overlay",
              "size": 10,
              "solidity": 0.2
             }
            },
            "type": "histogram"
           }
          ],
          "histogram2d": [
           {
            "colorbar": {
             "outlinewidth": 0,
             "ticks": ""
            },
            "colorscale": [
             [
              0,
              "#0d0887"
             ],
             [
              0.1111111111111111,
              "#46039f"
             ],
             [
              0.2222222222222222,
              "#7201a8"
             ],
             [
              0.3333333333333333,
              "#9c179e"
             ],
             [
              0.4444444444444444,
              "#bd3786"
             ],
             [
              0.5555555555555556,
              "#d8576b"
             ],
             [
              0.6666666666666666,
              "#ed7953"
             ],
             [
              0.7777777777777778,
              "#fb9f3a"
             ],
             [
              0.8888888888888888,
              "#fdca26"
             ],
             [
              1,
              "#f0f921"
             ]
            ],
            "type": "histogram2d"
           }
          ],
          "histogram2dcontour": [
           {
            "colorbar": {
             "outlinewidth": 0,
             "ticks": ""
            },
            "colorscale": [
             [
              0,
              "#0d0887"
             ],
             [
              0.1111111111111111,
              "#46039f"
             ],
             [
              0.2222222222222222,
              "#7201a8"
             ],
             [
              0.3333333333333333,
              "#9c179e"
             ],
             [
              0.4444444444444444,
              "#bd3786"
             ],
             [
              0.5555555555555556,
              "#d8576b"
             ],
             [
              0.6666666666666666,
              "#ed7953"
             ],
             [
              0.7777777777777778,
              "#fb9f3a"
             ],
             [
              0.8888888888888888,
              "#fdca26"
             ],
             [
              1,
              "#f0f921"
             ]
            ],
            "type": "histogram2dcontour"
           }
          ],
          "mesh3d": [
           {
            "colorbar": {
             "outlinewidth": 0,
             "ticks": ""
            },
            "type": "mesh3d"
           }
          ],
          "parcoords": [
           {
            "line": {
             "colorbar": {
              "outlinewidth": 0,
              "ticks": ""
             }
            },
            "type": "parcoords"
           }
          ],
          "pie": [
           {
            "automargin": true,
            "type": "pie"
           }
          ],
          "scatter": [
           {
            "fillpattern": {
             "fillmode": "overlay",
             "size": 10,
             "solidity": 0.2
            },
            "type": "scatter"
           }
          ],
          "scatter3d": [
           {
            "line": {
             "colorbar": {
              "outlinewidth": 0,
              "ticks": ""
             }
            },
            "marker": {
             "colorbar": {
              "outlinewidth": 0,
              "ticks": ""
             }
            },
            "type": "scatter3d"
           }
          ],
          "scattercarpet": [
           {
            "marker": {
             "colorbar": {
              "outlinewidth": 0,
              "ticks": ""
             }
            },
            "type": "scattercarpet"
           }
          ],
          "scattergeo": [
           {
            "marker": {
             "colorbar": {
              "outlinewidth": 0,
              "ticks": ""
             }
            },
            "type": "scattergeo"
           }
          ],
          "scattergl": [
           {
            "marker": {
             "colorbar": {
              "outlinewidth": 0,
              "ticks": ""
             }
            },
            "type": "scattergl"
           }
          ],
          "scattermapbox": [
           {
            "marker": {
             "colorbar": {
              "outlinewidth": 0,
              "ticks": ""
             }
            },
            "type": "scattermapbox"
           }
          ],
          "scatterpolar": [
           {
            "marker": {
             "colorbar": {
              "outlinewidth": 0,
              "ticks": ""
             }
            },
            "type": "scatterpolar"
           }
          ],
          "scatterpolargl": [
           {
            "marker": {
             "colorbar": {
              "outlinewidth": 0,
              "ticks": ""
             }
            },
            "type": "scatterpolargl"
           }
          ],
          "scatterternary": [
           {
            "marker": {
             "colorbar": {
              "outlinewidth": 0,
              "ticks": ""
             }
            },
            "type": "scatterternary"
           }
          ],
          "surface": [
           {
            "colorbar": {
             "outlinewidth": 0,
             "ticks": ""
            },
            "colorscale": [
             [
              0,
              "#0d0887"
             ],
             [
              0.1111111111111111,
              "#46039f"
             ],
             [
              0.2222222222222222,
              "#7201a8"
             ],
             [
              0.3333333333333333,
              "#9c179e"
             ],
             [
              0.4444444444444444,
              "#bd3786"
             ],
             [
              0.5555555555555556,
              "#d8576b"
             ],
             [
              0.6666666666666666,
              "#ed7953"
             ],
             [
              0.7777777777777778,
              "#fb9f3a"
             ],
             [
              0.8888888888888888,
              "#fdca26"
             ],
             [
              1,
              "#f0f921"
             ]
            ],
            "type": "surface"
           }
          ],
          "table": [
           {
            "cells": {
             "fill": {
              "color": "#EBF0F8"
             },
             "line": {
              "color": "white"
             }
            },
            "header": {
             "fill": {
              "color": "#C8D4E3"
             },
             "line": {
              "color": "white"
             }
            },
            "type": "table"
           }
          ]
         },
         "layout": {
          "annotationdefaults": {
           "arrowcolor": "#2a3f5f",
           "arrowhead": 0,
           "arrowwidth": 1
          },
          "autotypenumbers": "strict",
          "coloraxis": {
           "colorbar": {
            "outlinewidth": 0,
            "ticks": ""
           }
          },
          "colorscale": {
           "diverging": [
            [
             0,
             "#8e0152"
            ],
            [
             0.1,
             "#c51b7d"
            ],
            [
             0.2,
             "#de77ae"
            ],
            [
             0.3,
             "#f1b6da"
            ],
            [
             0.4,
             "#fde0ef"
            ],
            [
             0.5,
             "#f7f7f7"
            ],
            [
             0.6,
             "#e6f5d0"
            ],
            [
             0.7,
             "#b8e186"
            ],
            [
             0.8,
             "#7fbc41"
            ],
            [
             0.9,
             "#4d9221"
            ],
            [
             1,
             "#276419"
            ]
           ],
           "sequential": [
            [
             0,
             "#0d0887"
            ],
            [
             0.1111111111111111,
             "#46039f"
            ],
            [
             0.2222222222222222,
             "#7201a8"
            ],
            [
             0.3333333333333333,
             "#9c179e"
            ],
            [
             0.4444444444444444,
             "#bd3786"
            ],
            [
             0.5555555555555556,
             "#d8576b"
            ],
            [
             0.6666666666666666,
             "#ed7953"
            ],
            [
             0.7777777777777778,
             "#fb9f3a"
            ],
            [
             0.8888888888888888,
             "#fdca26"
            ],
            [
             1,
             "#f0f921"
            ]
           ],
           "sequentialminus": [
            [
             0,
             "#0d0887"
            ],
            [
             0.1111111111111111,
             "#46039f"
            ],
            [
             0.2222222222222222,
             "#7201a8"
            ],
            [
             0.3333333333333333,
             "#9c179e"
            ],
            [
             0.4444444444444444,
             "#bd3786"
            ],
            [
             0.5555555555555556,
             "#d8576b"
            ],
            [
             0.6666666666666666,
             "#ed7953"
            ],
            [
             0.7777777777777778,
             "#fb9f3a"
            ],
            [
             0.8888888888888888,
             "#fdca26"
            ],
            [
             1,
             "#f0f921"
            ]
           ]
          },
          "colorway": [
           "#636efa",
           "#EF553B",
           "#00cc96",
           "#ab63fa",
           "#FFA15A",
           "#19d3f3",
           "#FF6692",
           "#B6E880",
           "#FF97FF",
           "#FECB52"
          ],
          "font": {
           "color": "#2a3f5f"
          },
          "geo": {
           "bgcolor": "white",
           "lakecolor": "white",
           "landcolor": "#E5ECF6",
           "showlakes": true,
           "showland": true,
           "subunitcolor": "white"
          },
          "hoverlabel": {
           "align": "left"
          },
          "hovermode": "closest",
          "mapbox": {
           "style": "light"
          },
          "paper_bgcolor": "white",
          "plot_bgcolor": "#E5ECF6",
          "polar": {
           "angularaxis": {
            "gridcolor": "white",
            "linecolor": "white",
            "ticks": ""
           },
           "bgcolor": "#E5ECF6",
           "radialaxis": {
            "gridcolor": "white",
            "linecolor": "white",
            "ticks": ""
           }
          },
          "scene": {
           "xaxis": {
            "backgroundcolor": "#E5ECF6",
            "gridcolor": "white",
            "gridwidth": 2,
            "linecolor": "white",
            "showbackground": true,
            "ticks": "",
            "zerolinecolor": "white"
           },
           "yaxis": {
            "backgroundcolor": "#E5ECF6",
            "gridcolor": "white",
            "gridwidth": 2,
            "linecolor": "white",
            "showbackground": true,
            "ticks": "",
            "zerolinecolor": "white"
           },
           "zaxis": {
            "backgroundcolor": "#E5ECF6",
            "gridcolor": "white",
            "gridwidth": 2,
            "linecolor": "white",
            "showbackground": true,
            "ticks": "",
            "zerolinecolor": "white"
           }
          },
          "shapedefaults": {
           "line": {
            "color": "#2a3f5f"
           }
          },
          "ternary": {
           "aaxis": {
            "gridcolor": "white",
            "linecolor": "white",
            "ticks": ""
           },
           "baxis": {
            "gridcolor": "white",
            "linecolor": "white",
            "ticks": ""
           },
           "bgcolor": "#E5ECF6",
           "caxis": {
            "gridcolor": "white",
            "linecolor": "white",
            "ticks": ""
           }
          },
          "title": {
           "x": 0.05
          },
          "xaxis": {
           "automargin": true,
           "gridcolor": "white",
           "linecolor": "white",
           "ticks": "",
           "title": {
            "standoff": 15
           },
           "zerolinecolor": "white",
           "zerolinewidth": 2
          },
          "yaxis": {
           "automargin": true,
           "gridcolor": "white",
           "linecolor": "white",
           "ticks": "",
           "title": {
            "standoff": 15
           },
           "zerolinecolor": "white",
           "zerolinewidth": 2
          }
         }
        },
        "title": {
         "text": "Bar Chart<br><sup>Missing Values of each column</sup>",
         "x": 0.5
        },
        "width": 800,
        "xaxis": {
         "anchor": "y",
         "domain": [
          0,
          1
         ],
         "title": {
          "text": "Column"
         }
        },
        "yaxis": {
         "anchor": "x",
         "domain": [
          0,
          1
         ],
         "title": {
          "text": "Percent"
         }
        }
       }
      }
     },
     "metadata": {},
     "output_type": "display_data"
    }
   ],
   "source": [
    "fig = px.bar(missing[missing.Missing > 0], x=\"Column\", y=\"Percent\", text=\"Missing\")\n",
    "fig.update_layout(\n",
    "    height=600,\n",
    "    width=800,\n",
    "    title_x=0.5,\n",
    "    title_text=f\"Bar Chart<br><sup>Missing Values of each column</sup>\",\n",
    ")\n",
    "fig.show()"
   ]
  },
  {
   "cell_type": "markdown",
   "metadata": {},
   "source": [
    "**Observation 1**\n",
    "\n",
    "Nearly all values in `rot_per` to `IR` are missing. Predicting them from the existing ones will be hard as there isn't enough data. \n",
    "\n",
    "    The best way to deal with these columns is to drop them. If I learn of a better way to handle these missing values, I'll come and deal with them later on."
   ]
  },
  {
   "cell_type": "code",
   "execution_count": 8,
   "metadata": {},
   "outputs": [
    {
     "data": {
      "text/html": [
       "<div>\n",
       "<style scoped>\n",
       "    .dataframe tbody tr th:only-of-type {\n",
       "        vertical-align: middle;\n",
       "    }\n",
       "\n",
       "    .dataframe tbody tr th {\n",
       "        vertical-align: top;\n",
       "    }\n",
       "\n",
       "    .dataframe thead th {\n",
       "        text-align: right;\n",
       "    }\n",
       "</style>\n",
       "<table border=\"1\" class=\"dataframe\">\n",
       "  <thead>\n",
       "    <tr style=\"text-align: right;\">\n",
       "      <th></th>\n",
       "      <th>Column</th>\n",
       "      <th>Missing</th>\n",
       "      <th>Percent</th>\n",
       "    </tr>\n",
       "  </thead>\n",
       "  <tbody>\n",
       "    <tr>\n",
       "      <th>32</th>\n",
       "      <td>rot_per</td>\n",
       "      <td>1306504</td>\n",
       "      <td>97.456152</td>\n",
       "    </tr>\n",
       "    <tr>\n",
       "      <th>33</th>\n",
       "      <td>spec_B</td>\n",
       "      <td>1338941</td>\n",
       "      <td>99.875728</td>\n",
       "    </tr>\n",
       "    <tr>\n",
       "      <th>34</th>\n",
       "      <td>n_del_obs_used</td>\n",
       "      <td>1339573</td>\n",
       "      <td>99.922871</td>\n",
       "    </tr>\n",
       "    <tr>\n",
       "      <th>35</th>\n",
       "      <td>n_dop_obs_used</td>\n",
       "      <td>1339573</td>\n",
       "      <td>99.922871</td>\n",
       "    </tr>\n",
       "    <tr>\n",
       "      <th>36</th>\n",
       "      <td>BV</td>\n",
       "      <td>1339586</td>\n",
       "      <td>99.923840</td>\n",
       "    </tr>\n",
       "    <tr>\n",
       "      <th>37</th>\n",
       "      <td>spec_T</td>\n",
       "      <td>1339627</td>\n",
       "      <td>99.926899</td>\n",
       "    </tr>\n",
       "    <tr>\n",
       "      <th>38</th>\n",
       "      <td>UB</td>\n",
       "      <td>1339628</td>\n",
       "      <td>99.926973</td>\n",
       "    </tr>\n",
       "    <tr>\n",
       "      <th>39</th>\n",
       "      <td>G</td>\n",
       "      <td>1340488</td>\n",
       "      <td>99.991123</td>\n",
       "    </tr>\n",
       "    <tr>\n",
       "      <th>40</th>\n",
       "      <td>extent</td>\n",
       "      <td>1340587</td>\n",
       "      <td>99.998508</td>\n",
       "    </tr>\n",
       "    <tr>\n",
       "      <th>41</th>\n",
       "      <td>GM</td>\n",
       "      <td>1340592</td>\n",
       "      <td>99.998881</td>\n",
       "    </tr>\n",
       "    <tr>\n",
       "      <th>42</th>\n",
       "      <td>IR</td>\n",
       "      <td>1340606</td>\n",
       "      <td>99.999925</td>\n",
       "    </tr>\n",
       "  </tbody>\n",
       "</table>\n",
       "</div>"
      ],
      "text/plain": [
       "            Column  Missing    Percent\n",
       "32         rot_per  1306504  97.456152\n",
       "33          spec_B  1338941  99.875728\n",
       "34  n_del_obs_used  1339573  99.922871\n",
       "35  n_dop_obs_used  1339573  99.922871\n",
       "36              BV  1339586  99.923840\n",
       "37          spec_T  1339627  99.926899\n",
       "38              UB  1339628  99.926973\n",
       "39               G  1340488  99.991123\n",
       "40          extent  1340587  99.998508\n",
       "41              GM  1340592  99.998881\n",
       "42              IR  1340606  99.999925"
      ]
     },
     "execution_count": 8,
     "metadata": {},
     "output_type": "execute_result"
    }
   ],
   "source": [
    "missing[missing.Percent > 90]"
   ]
  },
  {
   "cell_type": "markdown",
   "metadata": {},
   "source": [
    "**Observation 2**\n",
    "\n",
    "A big chunk of `diameter` and `albedo` values are missing. \n",
    "\n",
    "    Predicting them with a Machine Learning model should be possible from the 20\\% data that is available. I'll use a simple deep learning model to do this."
   ]
  },
  {
   "cell_type": "code",
   "execution_count": 9,
   "metadata": {},
   "outputs": [
    {
     "data": {
      "text/html": [
       "<div>\n",
       "<style scoped>\n",
       "    .dataframe tbody tr th:only-of-type {\n",
       "        vertical-align: middle;\n",
       "    }\n",
       "\n",
       "    .dataframe tbody tr th {\n",
       "        vertical-align: top;\n",
       "    }\n",
       "\n",
       "    .dataframe thead th {\n",
       "        text-align: right;\n",
       "    }\n",
       "</style>\n",
       "<table border=\"1\" class=\"dataframe\">\n",
       "  <thead>\n",
       "    <tr style=\"text-align: right;\">\n",
       "      <th></th>\n",
       "      <th>Column</th>\n",
       "      <th>Missing</th>\n",
       "      <th>Percent</th>\n",
       "    </tr>\n",
       "  </thead>\n",
       "  <tbody>\n",
       "    <tr>\n",
       "      <th>29</th>\n",
       "      <td>diameter</td>\n",
       "      <td>1200983</td>\n",
       "      <td>89.585016</td>\n",
       "    </tr>\n",
       "    <tr>\n",
       "      <th>31</th>\n",
       "      <td>albedo</td>\n",
       "      <td>1202111</td>\n",
       "      <td>89.669157</td>\n",
       "    </tr>\n",
       "  </tbody>\n",
       "</table>\n",
       "</div>"
      ],
      "text/plain": [
       "      Column  Missing    Percent\n",
       "29  diameter  1200983  89.585016\n",
       "31    albedo  1202111  89.669157"
      ]
     },
     "execution_count": 9,
     "metadata": {},
     "output_type": "execute_result"
    }
   ],
   "source": [
    "missing[missing.Column.isin([\"diameter\", \"albedo\"])]"
   ]
  },
  {
   "cell_type": "markdown",
   "metadata": {},
   "source": [
    "**Observation 3**\n",
    "\n",
    "Some columns have absolutely no missing values. \n",
    "\n",
    "    Nothing needs to be done for these columns. I'll use these to help me in imputing other missing values."
   ]
  },
  {
   "cell_type": "code",
   "execution_count": 10,
   "metadata": {},
   "outputs": [
    {
     "data": {
      "text/html": [
       "<div>\n",
       "<style scoped>\n",
       "    .dataframe tbody tr th:only-of-type {\n",
       "        vertical-align: middle;\n",
       "    }\n",
       "\n",
       "    .dataframe tbody tr th {\n",
       "        vertical-align: top;\n",
       "    }\n",
       "\n",
       "    .dataframe thead th {\n",
       "        text-align: right;\n",
       "    }\n",
       "</style>\n",
       "<table border=\"1\" class=\"dataframe\">\n",
       "  <thead>\n",
       "    <tr style=\"text-align: right;\">\n",
       "      <th></th>\n",
       "      <th>Column</th>\n",
       "      <th>Missing</th>\n",
       "      <th>Percent</th>\n",
       "    </tr>\n",
       "  </thead>\n",
       "  <tbody>\n",
       "    <tr>\n",
       "      <th>0</th>\n",
       "      <td>full_name</td>\n",
       "      <td>0</td>\n",
       "      <td>0.0</td>\n",
       "    </tr>\n",
       "    <tr>\n",
       "      <th>1</th>\n",
       "      <td>class</td>\n",
       "      <td>0</td>\n",
       "      <td>0.0</td>\n",
       "    </tr>\n",
       "    <tr>\n",
       "      <th>2</th>\n",
       "      <td>n</td>\n",
       "      <td>0</td>\n",
       "      <td>0.0</td>\n",
       "    </tr>\n",
       "    <tr>\n",
       "      <th>3</th>\n",
       "      <td>first_obs</td>\n",
       "      <td>0</td>\n",
       "      <td>0.0</td>\n",
       "    </tr>\n",
       "    <tr>\n",
       "      <th>4</th>\n",
       "      <td>epoch_mjd</td>\n",
       "      <td>0</td>\n",
       "      <td>0.0</td>\n",
       "    </tr>\n",
       "    <tr>\n",
       "      <th>5</th>\n",
       "      <td>n_obs_used</td>\n",
       "      <td>0</td>\n",
       "      <td>0.0</td>\n",
       "    </tr>\n",
       "    <tr>\n",
       "      <th>6</th>\n",
       "      <td>last_obs</td>\n",
       "      <td>0</td>\n",
       "      <td>0.0</td>\n",
       "    </tr>\n",
       "    <tr>\n",
       "      <th>7</th>\n",
       "      <td>a</td>\n",
       "      <td>0</td>\n",
       "      <td>0.0</td>\n",
       "    </tr>\n",
       "    <tr>\n",
       "      <th>8</th>\n",
       "      <td>e</td>\n",
       "      <td>0</td>\n",
       "      <td>0.0</td>\n",
       "    </tr>\n",
       "    <tr>\n",
       "      <th>9</th>\n",
       "      <td>w</td>\n",
       "      <td>0</td>\n",
       "      <td>0.0</td>\n",
       "    </tr>\n",
       "    <tr>\n",
       "      <th>10</th>\n",
       "      <td>q</td>\n",
       "      <td>0</td>\n",
       "      <td>0.0</td>\n",
       "    </tr>\n",
       "    <tr>\n",
       "      <th>11</th>\n",
       "      <td>i</td>\n",
       "      <td>0</td>\n",
       "      <td>0.0</td>\n",
       "    </tr>\n",
       "    <tr>\n",
       "      <th>12</th>\n",
       "      <td>om</td>\n",
       "      <td>0</td>\n",
       "      <td>0.0</td>\n",
       "    </tr>\n",
       "  </tbody>\n",
       "</table>\n",
       "</div>"
      ],
      "text/plain": [
       "        Column  Missing  Percent\n",
       "0    full_name        0      0.0\n",
       "1        class        0      0.0\n",
       "2            n        0      0.0\n",
       "3    first_obs        0      0.0\n",
       "4    epoch_mjd        0      0.0\n",
       "5   n_obs_used        0      0.0\n",
       "6     last_obs        0      0.0\n",
       "7            a        0      0.0\n",
       "8            e        0      0.0\n",
       "9            w        0      0.0\n",
       "10           q        0      0.0\n",
       "11           i        0      0.0\n",
       "12          om        0      0.0"
      ]
     },
     "execution_count": 10,
     "metadata": {},
     "output_type": "execute_result"
    }
   ],
   "source": [
    "missing[missing.Missing == 0]"
   ]
  },
  {
   "cell_type": "markdown",
   "metadata": {},
   "source": [
    "**Observation 4**\n",
    "\n",
    "Most columns have $<5\\%$ data is missing. \n",
    "\n",
    "    These can be filled in using imputation techniques. For numerical columns, I'll use imputation by group median. For categorical, I'll impute by group mode."
   ]
  },
  {
   "cell_type": "code",
   "execution_count": 11,
   "metadata": {},
   "outputs": [
    {
     "data": {
      "text/html": [
       "<div>\n",
       "<style scoped>\n",
       "    .dataframe tbody tr th:only-of-type {\n",
       "        vertical-align: middle;\n",
       "    }\n",
       "\n",
       "    .dataframe tbody tr th {\n",
       "        vertical-align: top;\n",
       "    }\n",
       "\n",
       "    .dataframe thead th {\n",
       "        text-align: right;\n",
       "    }\n",
       "</style>\n",
       "<table border=\"1\" class=\"dataframe\">\n",
       "  <thead>\n",
       "    <tr style=\"text-align: right;\">\n",
       "      <th></th>\n",
       "      <th>Column</th>\n",
       "      <th>Missing</th>\n",
       "      <th>Percent</th>\n",
       "    </tr>\n",
       "  </thead>\n",
       "  <tbody>\n",
       "    <tr>\n",
       "      <th>13</th>\n",
       "      <td>ma</td>\n",
       "      <td>1</td>\n",
       "      <td>0.000075</td>\n",
       "    </tr>\n",
       "    <tr>\n",
       "      <th>14</th>\n",
       "      <td>per</td>\n",
       "      <td>5</td>\n",
       "      <td>0.000373</td>\n",
       "    </tr>\n",
       "    <tr>\n",
       "      <th>15</th>\n",
       "      <td>neo</td>\n",
       "      <td>5</td>\n",
       "      <td>0.000373</td>\n",
       "    </tr>\n",
       "    <tr>\n",
       "      <th>16</th>\n",
       "      <td>ad</td>\n",
       "      <td>5</td>\n",
       "      <td>0.000373</td>\n",
       "    </tr>\n",
       "    <tr>\n",
       "      <th>17</th>\n",
       "      <td>per_y</td>\n",
       "      <td>5</td>\n",
       "      <td>0.000373</td>\n",
       "    </tr>\n",
       "    <tr>\n",
       "      <th>18</th>\n",
       "      <td>condition_code</td>\n",
       "      <td>23</td>\n",
       "      <td>0.001716</td>\n",
       "    </tr>\n",
       "    <tr>\n",
       "      <th>19</th>\n",
       "      <td>data_arc</td>\n",
       "      <td>544</td>\n",
       "      <td>0.040579</td>\n",
       "    </tr>\n",
       "    <tr>\n",
       "      <th>20</th>\n",
       "      <td>H</td>\n",
       "      <td>1150</td>\n",
       "      <td>0.085782</td>\n",
       "    </tr>\n",
       "    <tr>\n",
       "      <th>21</th>\n",
       "      <td>moid_ld</td>\n",
       "      <td>2112</td>\n",
       "      <td>0.157541</td>\n",
       "    </tr>\n",
       "    <tr>\n",
       "      <th>22</th>\n",
       "      <td>moid</td>\n",
       "      <td>2112</td>\n",
       "      <td>0.157541</td>\n",
       "    </tr>\n",
       "    <tr>\n",
       "      <th>23</th>\n",
       "      <td>pha</td>\n",
       "      <td>2113</td>\n",
       "      <td>0.157615</td>\n",
       "    </tr>\n",
       "    <tr>\n",
       "      <th>24</th>\n",
       "      <td>sigma_i</td>\n",
       "      <td>2113</td>\n",
       "      <td>0.157615</td>\n",
       "    </tr>\n",
       "    <tr>\n",
       "      <th>25</th>\n",
       "      <td>sigma_q</td>\n",
       "      <td>2113</td>\n",
       "      <td>0.157615</td>\n",
       "    </tr>\n",
       "    <tr>\n",
       "      <th>26</th>\n",
       "      <td>sigma_a</td>\n",
       "      <td>2113</td>\n",
       "      <td>0.157615</td>\n",
       "    </tr>\n",
       "    <tr>\n",
       "      <th>27</th>\n",
       "      <td>sigma_e</td>\n",
       "      <td>2113</td>\n",
       "      <td>0.157615</td>\n",
       "    </tr>\n",
       "    <tr>\n",
       "      <th>28</th>\n",
       "      <td>sigma_per</td>\n",
       "      <td>2118</td>\n",
       "      <td>0.157988</td>\n",
       "    </tr>\n",
       "  </tbody>\n",
       "</table>\n",
       "</div>"
      ],
      "text/plain": [
       "            Column  Missing   Percent\n",
       "13              ma        1  0.000075\n",
       "14             per        5  0.000373\n",
       "15             neo        5  0.000373\n",
       "16              ad        5  0.000373\n",
       "17           per_y        5  0.000373\n",
       "18  condition_code       23  0.001716\n",
       "19        data_arc      544  0.040579\n",
       "20               H     1150  0.085782\n",
       "21         moid_ld     2112  0.157541\n",
       "22            moid     2112  0.157541\n",
       "23             pha     2113  0.157615\n",
       "24         sigma_i     2113  0.157615\n",
       "25         sigma_q     2113  0.157615\n",
       "26         sigma_a     2113  0.157615\n",
       "27         sigma_e     2113  0.157615\n",
       "28       sigma_per     2118  0.157988"
      ]
     },
     "execution_count": 11,
     "metadata": {},
     "output_type": "execute_result"
    }
   ],
   "source": [
    "missing[(missing.Percent < 5) & (missing.Missing > 0)]"
   ]
  },
  {
   "cell_type": "markdown",
   "metadata": {},
   "source": [
    "### Dropping Columns\n",
    "\n",
    "In this subsection, I drop the columns that have more than 90\\% of their values missing."
   ]
  },
  {
   "cell_type": "code",
   "execution_count": 12,
   "metadata": {},
   "outputs": [
    {
     "name": "stdout",
     "output_type": "stream",
     "text": [
      "After dropping, dataframe shape = (1340607, 25)\n"
     ]
    }
   ],
   "source": [
    "df.drop(\n",
    "    columns=[\n",
    "        \"full_name\",\n",
    "        \"rot_per\",\n",
    "        \"spec_B\",\n",
    "        \"spec_T\",\n",
    "        \"G\",\n",
    "        \"BV\",\n",
    "        \"UB\",\n",
    "        \"IR\",\n",
    "        \"GM\",\n",
    "        \"extent\",\n",
    "        \"n_del_obs_used\",\n",
    "        \"n_dop_obs_used\",\n",
    "        \"sigma_i\",\n",
    "        \"sigma_q\",\n",
    "        \"sigma_a\",\n",
    "        \"sigma_e\",\n",
    "        \"sigma_per\",\n",
    "        \"diameter_sigma\",\n",
    "    ],\n",
    "    inplace=True,\n",
    ")\n",
    "\n",
    "print(f\"After dropping, dataframe shape = {df.shape}\")"
   ]
  },
  {
   "cell_type": "markdown",
   "metadata": {},
   "source": [
    "### Imputation"
   ]
  },
  {
   "cell_type": "markdown",
   "metadata": {},
   "source": [
    "#### Imputation by Group\n",
    "\n",
    "In this subsection, I'll impute missing values for columns with less than 5\\% of their data missing."
   ]
  },
  {
   "cell_type": "markdown",
   "metadata": {},
   "source": [
    "##### `neo` column"
   ]
  },
  {
   "cell_type": "code",
   "execution_count": 13,
   "metadata": {},
   "outputs": [
    {
     "data": {
      "text/html": [
       "<div>\n",
       "<style scoped>\n",
       "    .dataframe tbody tr th:only-of-type {\n",
       "        vertical-align: middle;\n",
       "    }\n",
       "\n",
       "    .dataframe tbody tr th {\n",
       "        vertical-align: top;\n",
       "    }\n",
       "\n",
       "    .dataframe thead th {\n",
       "        text-align: right;\n",
       "    }\n",
       "</style>\n",
       "<table border=\"1\" class=\"dataframe\">\n",
       "  <thead>\n",
       "    <tr style=\"text-align: right;\">\n",
       "      <th></th>\n",
       "      <th>a</th>\n",
       "      <th>e</th>\n",
       "      <th>i</th>\n",
       "      <th>om</th>\n",
       "      <th>w</th>\n",
       "      <th>q</th>\n",
       "      <th>ad</th>\n",
       "      <th>per_y</th>\n",
       "      <th>data_arc</th>\n",
       "      <th>condition_code</th>\n",
       "      <th>...</th>\n",
       "      <th>albedo</th>\n",
       "      <th>neo</th>\n",
       "      <th>pha</th>\n",
       "      <th>n</th>\n",
       "      <th>per</th>\n",
       "      <th>moid</th>\n",
       "      <th>moid_ld</th>\n",
       "      <th>class</th>\n",
       "      <th>first_obs</th>\n",
       "      <th>last_obs</th>\n",
       "    </tr>\n",
       "  </thead>\n",
       "  <tbody>\n",
       "    <tr>\n",
       "      <th>1084193</th>\n",
       "      <td>-57.170</td>\n",
       "      <td>1.0219</td>\n",
       "      <td>145.42</td>\n",
       "      <td>166.04</td>\n",
       "      <td>77.96</td>\n",
       "      <td>1.250</td>\n",
       "      <td>NaN</td>\n",
       "      <td>NaN</td>\n",
       "      <td>17.0</td>\n",
       "      <td>NaN</td>\n",
       "      <td>...</td>\n",
       "      <td>NaN</td>\n",
       "      <td>NaN</td>\n",
       "      <td>N</td>\n",
       "      <td>2.280000e-03</td>\n",
       "      <td>NaN</td>\n",
       "      <td>0.6010</td>\n",
       "      <td>234.0</td>\n",
       "      <td>HYA</td>\n",
       "      <td>2016-12-11</td>\n",
       "      <td>2016-12-28</td>\n",
       "    </tr>\n",
       "    <tr>\n",
       "      <th>1125900</th>\n",
       "      <td>-1.272</td>\n",
       "      <td>1.2011</td>\n",
       "      <td>122.74</td>\n",
       "      <td>24.60</td>\n",
       "      <td>241.81</td>\n",
       "      <td>0.256</td>\n",
       "      <td>NaN</td>\n",
       "      <td>NaN</td>\n",
       "      <td>80.0</td>\n",
       "      <td>NaN</td>\n",
       "      <td>...</td>\n",
       "      <td>NaN</td>\n",
       "      <td>NaN</td>\n",
       "      <td>N</td>\n",
       "      <td>6.867000e-01</td>\n",
       "      <td>NaN</td>\n",
       "      <td>0.0958</td>\n",
       "      <td>37.3</td>\n",
       "      <td>HYA</td>\n",
       "      <td>2017-10-14</td>\n",
       "      <td>2018-01-02</td>\n",
       "    </tr>\n",
       "    <tr>\n",
       "      <th>1220367</th>\n",
       "      <td>-50670.000</td>\n",
       "      <td>1.0011</td>\n",
       "      <td>72.83</td>\n",
       "      <td>287.13</td>\n",
       "      <td>29.58</td>\n",
       "      <td>53.433</td>\n",
       "      <td>NaN</td>\n",
       "      <td>NaN</td>\n",
       "      <td>56.0</td>\n",
       "      <td>NaN</td>\n",
       "      <td>...</td>\n",
       "      <td>NaN</td>\n",
       "      <td>NaN</td>\n",
       "      <td>N</td>\n",
       "      <td>8.641000e-08</td>\n",
       "      <td>NaN</td>\n",
       "      <td>52.5000</td>\n",
       "      <td>20400.0</td>\n",
       "      <td>HYA</td>\n",
       "      <td>2020-06-20</td>\n",
       "      <td>2020-08-15</td>\n",
       "    </tr>\n",
       "    <tr>\n",
       "      <th>1285026</th>\n",
       "      <td>-2290.000</td>\n",
       "      <td>1.0013</td>\n",
       "      <td>137.14</td>\n",
       "      <td>228.80</td>\n",
       "      <td>193.28</td>\n",
       "      <td>2.995</td>\n",
       "      <td>NaN</td>\n",
       "      <td>NaN</td>\n",
       "      <td>389.0</td>\n",
       "      <td>NaN</td>\n",
       "      <td>...</td>\n",
       "      <td>NaN</td>\n",
       "      <td>NaN</td>\n",
       "      <td>N</td>\n",
       "      <td>8.991000e-06</td>\n",
       "      <td>NaN</td>\n",
       "      <td>2.0100</td>\n",
       "      <td>784.0</td>\n",
       "      <td>HYA</td>\n",
       "      <td>2021-10-30</td>\n",
       "      <td>2022-11-23</td>\n",
       "    </tr>\n",
       "    <tr>\n",
       "      <th>1328329</th>\n",
       "      <td>-15820.000</td>\n",
       "      <td>1.0001</td>\n",
       "      <td>12.11</td>\n",
       "      <td>347.39</td>\n",
       "      <td>86.85</td>\n",
       "      <td>1.358</td>\n",
       "      <td>NaN</td>\n",
       "      <td>NaN</td>\n",
       "      <td>25.0</td>\n",
       "      <td>NaN</td>\n",
       "      <td>...</td>\n",
       "      <td>NaN</td>\n",
       "      <td>NaN</td>\n",
       "      <td>N</td>\n",
       "      <td>4.955000e-07</td>\n",
       "      <td>NaN</td>\n",
       "      <td>0.4450</td>\n",
       "      <td>173.0</td>\n",
       "      <td>HYA</td>\n",
       "      <td>2023-09-15</td>\n",
       "      <td>2023-10-10</td>\n",
       "    </tr>\n",
       "  </tbody>\n",
       "</table>\n",
       "<p>5 rows × 25 columns</p>\n",
       "</div>"
      ],
      "text/plain": [
       "                 a       e       i      om       w       q  ad  per_y  \\\n",
       "1084193    -57.170  1.0219  145.42  166.04   77.96   1.250 NaN    NaN   \n",
       "1125900     -1.272  1.2011  122.74   24.60  241.81   0.256 NaN    NaN   \n",
       "1220367 -50670.000  1.0011   72.83  287.13   29.58  53.433 NaN    NaN   \n",
       "1285026  -2290.000  1.0013  137.14  228.80  193.28   2.995 NaN    NaN   \n",
       "1328329 -15820.000  1.0001   12.11  347.39   86.85   1.358 NaN    NaN   \n",
       "\n",
       "         data_arc condition_code  ...  albedo  neo  pha             n  per  \\\n",
       "1084193      17.0            NaN  ...     NaN  NaN    N  2.280000e-03  NaN   \n",
       "1125900      80.0            NaN  ...     NaN  NaN    N  6.867000e-01  NaN   \n",
       "1220367      56.0            NaN  ...     NaN  NaN    N  8.641000e-08  NaN   \n",
       "1285026     389.0            NaN  ...     NaN  NaN    N  8.991000e-06  NaN   \n",
       "1328329      25.0            NaN  ...     NaN  NaN    N  4.955000e-07  NaN   \n",
       "\n",
       "            moid  moid_ld class   first_obs    last_obs  \n",
       "1084193   0.6010    234.0   HYA  2016-12-11  2016-12-28  \n",
       "1125900   0.0958     37.3   HYA  2017-10-14  2018-01-02  \n",
       "1220367  52.5000  20400.0   HYA  2020-06-20  2020-08-15  \n",
       "1285026   2.0100    784.0   HYA  2021-10-30  2022-11-23  \n",
       "1328329   0.4450    173.0   HYA  2023-09-15  2023-10-10  \n",
       "\n",
       "[5 rows x 25 columns]"
      ]
     },
     "execution_count": 13,
     "metadata": {},
     "output_type": "execute_result"
    }
   ],
   "source": [
    "df[df.neo.isna()]"
   ]
  },
  {
   "cell_type": "markdown",
   "metadata": {},
   "source": [
    "I can use `pha` column to group and impute. Other categorical columns, \n",
    "\n",
    "* `condition_code` is null for all these rows.\n",
    "* `class` can't be used. Because all instances of the groups have null `neo` values."
   ]
  },
  {
   "cell_type": "code",
   "execution_count": 14,
   "metadata": {},
   "outputs": [
    {
     "data": {
      "text/plain": [
       "pha\n",
       "N    N\n",
       "Y    Y\n",
       "Name: neo, dtype: object"
      ]
     },
     "execution_count": 14,
     "metadata": {},
     "output_type": "execute_result"
    }
   ],
   "source": [
    "df.groupby(\"pha\").neo.apply(lambda x: x.mode().iloc[0])"
   ]
  },
  {
   "cell_type": "markdown",
   "metadata": {},
   "source": [
    "Rows with `pha` of **N** has a `neo` mode of **N**. So, I'll impute the missing `neo` values with this."
   ]
  },
  {
   "cell_type": "code",
   "execution_count": 15,
   "metadata": {},
   "outputs": [],
   "source": [
    "df.neo.fillna(\"N\", inplace=True)"
   ]
  },
  {
   "cell_type": "markdown",
   "metadata": {},
   "source": [
    "To confirm, I should have zero missing values now."
   ]
  },
  {
   "cell_type": "code",
   "execution_count": 16,
   "metadata": {},
   "outputs": [
    {
     "data": {
      "text/plain": [
       "0"
      ]
     },
     "execution_count": 16,
     "metadata": {},
     "output_type": "execute_result"
    }
   ],
   "source": [
    "df.neo.isna().sum()"
   ]
  },
  {
   "cell_type": "markdown",
   "metadata": {},
   "source": [
    "##### `condition_code` column"
   ]
  },
  {
   "cell_type": "code",
   "execution_count": 17,
   "metadata": {},
   "outputs": [],
   "source": [
    "df[\"condition_code\"] = (\n",
    "    df.groupby([\"class\", \"neo\"])\n",
    "    .transform(lambda x: x.fillna(x.mode().iloc[0]))\n",
    "    .condition_code\n",
    ")"
   ]
  },
  {
   "cell_type": "code",
   "execution_count": 18,
   "metadata": {},
   "outputs": [
    {
     "data": {
      "text/html": [
       "<div>\n",
       "<style scoped>\n",
       "    .dataframe tbody tr th:only-of-type {\n",
       "        vertical-align: middle;\n",
       "    }\n",
       "\n",
       "    .dataframe tbody tr th {\n",
       "        vertical-align: top;\n",
       "    }\n",
       "\n",
       "    .dataframe thead th {\n",
       "        text-align: right;\n",
       "    }\n",
       "</style>\n",
       "<table border=\"1\" class=\"dataframe\">\n",
       "  <thead>\n",
       "    <tr style=\"text-align: right;\">\n",
       "      <th></th>\n",
       "      <th>a</th>\n",
       "      <th>e</th>\n",
       "      <th>i</th>\n",
       "      <th>om</th>\n",
       "      <th>w</th>\n",
       "      <th>q</th>\n",
       "      <th>ad</th>\n",
       "      <th>per_y</th>\n",
       "      <th>data_arc</th>\n",
       "      <th>condition_code</th>\n",
       "      <th>...</th>\n",
       "      <th>albedo</th>\n",
       "      <th>neo</th>\n",
       "      <th>pha</th>\n",
       "      <th>n</th>\n",
       "      <th>per</th>\n",
       "      <th>moid</th>\n",
       "      <th>moid_ld</th>\n",
       "      <th>class</th>\n",
       "      <th>first_obs</th>\n",
       "      <th>last_obs</th>\n",
       "    </tr>\n",
       "  </thead>\n",
       "  <tbody>\n",
       "    <tr>\n",
       "      <th>1084193</th>\n",
       "      <td>-57.170</td>\n",
       "      <td>1.0219</td>\n",
       "      <td>145.42</td>\n",
       "      <td>166.04</td>\n",
       "      <td>77.96</td>\n",
       "      <td>1.250</td>\n",
       "      <td>NaN</td>\n",
       "      <td>NaN</td>\n",
       "      <td>17.0</td>\n",
       "      <td>NaN</td>\n",
       "      <td>...</td>\n",
       "      <td>NaN</td>\n",
       "      <td>N</td>\n",
       "      <td>N</td>\n",
       "      <td>2.280000e-03</td>\n",
       "      <td>NaN</td>\n",
       "      <td>0.6010</td>\n",
       "      <td>234.0</td>\n",
       "      <td>HYA</td>\n",
       "      <td>2016-12-11</td>\n",
       "      <td>2016-12-28</td>\n",
       "    </tr>\n",
       "    <tr>\n",
       "      <th>1125900</th>\n",
       "      <td>-1.272</td>\n",
       "      <td>1.2011</td>\n",
       "      <td>122.74</td>\n",
       "      <td>24.60</td>\n",
       "      <td>241.81</td>\n",
       "      <td>0.256</td>\n",
       "      <td>NaN</td>\n",
       "      <td>NaN</td>\n",
       "      <td>80.0</td>\n",
       "      <td>NaN</td>\n",
       "      <td>...</td>\n",
       "      <td>NaN</td>\n",
       "      <td>N</td>\n",
       "      <td>N</td>\n",
       "      <td>6.867000e-01</td>\n",
       "      <td>NaN</td>\n",
       "      <td>0.0958</td>\n",
       "      <td>37.3</td>\n",
       "      <td>HYA</td>\n",
       "      <td>2017-10-14</td>\n",
       "      <td>2018-01-02</td>\n",
       "    </tr>\n",
       "    <tr>\n",
       "      <th>1220367</th>\n",
       "      <td>-50670.000</td>\n",
       "      <td>1.0011</td>\n",
       "      <td>72.83</td>\n",
       "      <td>287.13</td>\n",
       "      <td>29.58</td>\n",
       "      <td>53.433</td>\n",
       "      <td>NaN</td>\n",
       "      <td>NaN</td>\n",
       "      <td>56.0</td>\n",
       "      <td>NaN</td>\n",
       "      <td>...</td>\n",
       "      <td>NaN</td>\n",
       "      <td>N</td>\n",
       "      <td>N</td>\n",
       "      <td>8.641000e-08</td>\n",
       "      <td>NaN</td>\n",
       "      <td>52.5000</td>\n",
       "      <td>20400.0</td>\n",
       "      <td>HYA</td>\n",
       "      <td>2020-06-20</td>\n",
       "      <td>2020-08-15</td>\n",
       "    </tr>\n",
       "    <tr>\n",
       "      <th>1285026</th>\n",
       "      <td>-2290.000</td>\n",
       "      <td>1.0013</td>\n",
       "      <td>137.14</td>\n",
       "      <td>228.80</td>\n",
       "      <td>193.28</td>\n",
       "      <td>2.995</td>\n",
       "      <td>NaN</td>\n",
       "      <td>NaN</td>\n",
       "      <td>389.0</td>\n",
       "      <td>NaN</td>\n",
       "      <td>...</td>\n",
       "      <td>NaN</td>\n",
       "      <td>N</td>\n",
       "      <td>N</td>\n",
       "      <td>8.991000e-06</td>\n",
       "      <td>NaN</td>\n",
       "      <td>2.0100</td>\n",
       "      <td>784.0</td>\n",
       "      <td>HYA</td>\n",
       "      <td>2021-10-30</td>\n",
       "      <td>2022-11-23</td>\n",
       "    </tr>\n",
       "    <tr>\n",
       "      <th>1328329</th>\n",
       "      <td>-15820.000</td>\n",
       "      <td>1.0001</td>\n",
       "      <td>12.11</td>\n",
       "      <td>347.39</td>\n",
       "      <td>86.85</td>\n",
       "      <td>1.358</td>\n",
       "      <td>NaN</td>\n",
       "      <td>NaN</td>\n",
       "      <td>25.0</td>\n",
       "      <td>NaN</td>\n",
       "      <td>...</td>\n",
       "      <td>NaN</td>\n",
       "      <td>N</td>\n",
       "      <td>N</td>\n",
       "      <td>4.955000e-07</td>\n",
       "      <td>NaN</td>\n",
       "      <td>0.4450</td>\n",
       "      <td>173.0</td>\n",
       "      <td>HYA</td>\n",
       "      <td>2023-09-15</td>\n",
       "      <td>2023-10-10</td>\n",
       "    </tr>\n",
       "  </tbody>\n",
       "</table>\n",
       "<p>5 rows × 25 columns</p>\n",
       "</div>"
      ],
      "text/plain": [
       "                 a       e       i      om       w       q  ad  per_y  \\\n",
       "1084193    -57.170  1.0219  145.42  166.04   77.96   1.250 NaN    NaN   \n",
       "1125900     -1.272  1.2011  122.74   24.60  241.81   0.256 NaN    NaN   \n",
       "1220367 -50670.000  1.0011   72.83  287.13   29.58  53.433 NaN    NaN   \n",
       "1285026  -2290.000  1.0013  137.14  228.80  193.28   2.995 NaN    NaN   \n",
       "1328329 -15820.000  1.0001   12.11  347.39   86.85   1.358 NaN    NaN   \n",
       "\n",
       "         data_arc condition_code  ...  albedo  neo  pha             n  per  \\\n",
       "1084193      17.0            NaN  ...     NaN    N    N  2.280000e-03  NaN   \n",
       "1125900      80.0            NaN  ...     NaN    N    N  6.867000e-01  NaN   \n",
       "1220367      56.0            NaN  ...     NaN    N    N  8.641000e-08  NaN   \n",
       "1285026     389.0            NaN  ...     NaN    N    N  8.991000e-06  NaN   \n",
       "1328329      25.0            NaN  ...     NaN    N    N  4.955000e-07  NaN   \n",
       "\n",
       "            moid  moid_ld class   first_obs    last_obs  \n",
       "1084193   0.6010    234.0   HYA  2016-12-11  2016-12-28  \n",
       "1125900   0.0958     37.3   HYA  2017-10-14  2018-01-02  \n",
       "1220367  52.5000  20400.0   HYA  2020-06-20  2020-08-15  \n",
       "1285026   2.0100    784.0   HYA  2021-10-30  2022-11-23  \n",
       "1328329   0.4450    173.0   HYA  2023-09-15  2023-10-10  \n",
       "\n",
       "[5 rows x 25 columns]"
      ]
     },
     "execution_count": 18,
     "metadata": {},
     "output_type": "execute_result"
    }
   ],
   "source": [
    "df[df.condition_code.isna()]"
   ]
  },
  {
   "cell_type": "code",
   "execution_count": 19,
   "metadata": {},
   "outputs": [
    {
     "data": {
      "text/plain": [
       "neo\n",
       "N    0\n",
       "Y    7\n",
       "Name: condition_code, dtype: object"
      ]
     },
     "execution_count": 19,
     "metadata": {},
     "output_type": "execute_result"
    }
   ],
   "source": [
    "df.groupby(\"neo\").apply(lambda x: x.mode().iloc[0]).condition_code"
   ]
  },
  {
   "cell_type": "markdown",
   "metadata": {},
   "source": [
    "Rows with `neo` value **N** has mostly have a `condition_code` value of 0."
   ]
  },
  {
   "cell_type": "code",
   "execution_count": 20,
   "metadata": {},
   "outputs": [],
   "source": [
    "df.condition_code.fillna(\"0\", inplace=True)"
   ]
  },
  {
   "cell_type": "code",
   "execution_count": 21,
   "metadata": {},
   "outputs": [
    {
     "data": {
      "text/plain": [
       "0"
      ]
     },
     "execution_count": 21,
     "metadata": {},
     "output_type": "execute_result"
    }
   ],
   "source": [
    "df.condition_code.isna().sum()"
   ]
  },
  {
   "cell_type": "markdown",
   "metadata": {},
   "source": [
    "##### `pha` column"
   ]
  },
  {
   "cell_type": "code",
   "execution_count": 22,
   "metadata": {},
   "outputs": [
    {
     "data": {
      "text/plain": [
       "0"
      ]
     },
     "execution_count": 22,
     "metadata": {},
     "output_type": "execute_result"
    }
   ],
   "source": [
    "df[\"pha\"] = (\n",
    "    df.groupby([\"class\", \"neo\"]).transform(lambda x: x.fillna(x.mode().iloc[0])).pha\n",
    ")\n",
    "\n",
    "df[\"pha\"].isnull().sum()"
   ]
  },
  {
   "cell_type": "markdown",
   "metadata": {},
   "source": [
    "##### Numerical Columns"
   ]
  },
  {
   "cell_type": "code",
   "execution_count": 23,
   "metadata": {},
   "outputs": [
    {
     "data": {
      "text/plain": [
       "ma          0\n",
       "per         0\n",
       "ad          0\n",
       "per_y       0\n",
       "data_arc    0\n",
       "H           1\n",
       "moid        1\n",
       "moid_ld     1\n",
       "dtype: int64"
      ]
     },
     "execution_count": 23,
     "metadata": {},
     "output_type": "execute_result"
    }
   ],
   "source": [
    "impute_columns = [\"ma\", \"per\", \"ad\", \"per_y\", \"data_arc\", \"H\", \"moid\", \"moid_ld\"]\n",
    "\n",
    "df[impute_columns] = (\n",
    "    df.groupby(by=[\"neo\", \"condition_code\"])[impute_columns]\n",
    "    .apply(lambda x: x.fillna(x.median()))\n",
    "    .reset_index()[impute_columns]\n",
    ")\n",
    "\n",
    "df[impute_columns].isnull().sum()"
   ]
  },
  {
   "cell_type": "code",
   "execution_count": 24,
   "metadata": {},
   "outputs": [
    {
     "data": {
      "text/html": [
       "<div>\n",
       "<style scoped>\n",
       "    .dataframe tbody tr th:only-of-type {\n",
       "        vertical-align: middle;\n",
       "    }\n",
       "\n",
       "    .dataframe tbody tr th {\n",
       "        vertical-align: top;\n",
       "    }\n",
       "\n",
       "    .dataframe thead th {\n",
       "        text-align: right;\n",
       "    }\n",
       "</style>\n",
       "<table border=\"1\" class=\"dataframe\">\n",
       "  <thead>\n",
       "    <tr style=\"text-align: right;\">\n",
       "      <th></th>\n",
       "      <th>a</th>\n",
       "      <th>e</th>\n",
       "      <th>i</th>\n",
       "      <th>om</th>\n",
       "      <th>w</th>\n",
       "      <th>q</th>\n",
       "      <th>ad</th>\n",
       "      <th>per_y</th>\n",
       "      <th>data_arc</th>\n",
       "      <th>condition_code</th>\n",
       "      <th>...</th>\n",
       "      <th>albedo</th>\n",
       "      <th>neo</th>\n",
       "      <th>pha</th>\n",
       "      <th>n</th>\n",
       "      <th>per</th>\n",
       "      <th>moid</th>\n",
       "      <th>moid_ld</th>\n",
       "      <th>class</th>\n",
       "      <th>first_obs</th>\n",
       "      <th>last_obs</th>\n",
       "    </tr>\n",
       "  </thead>\n",
       "  <tbody>\n",
       "    <tr>\n",
       "      <th>1306656</th>\n",
       "      <td>3.171</td>\n",
       "      <td>0.1008</td>\n",
       "      <td>8.52</td>\n",
       "      <td>342.48</td>\n",
       "      <td>8.14</td>\n",
       "      <td>2.851</td>\n",
       "      <td>3.53</td>\n",
       "      <td>4.62</td>\n",
       "      <td>2.0</td>\n",
       "      <td>7</td>\n",
       "      <td>...</td>\n",
       "      <td>NaN</td>\n",
       "      <td>N</td>\n",
       "      <td>N</td>\n",
       "      <td>0.1745</td>\n",
       "      <td>1690.0</td>\n",
       "      <td>NaN</td>\n",
       "      <td>NaN</td>\n",
       "      <td>MBA</td>\n",
       "      <td>2022-09-16</td>\n",
       "      <td>2022-09-28</td>\n",
       "    </tr>\n",
       "  </tbody>\n",
       "</table>\n",
       "<p>1 rows × 25 columns</p>\n",
       "</div>"
      ],
      "text/plain": [
       "             a       e     i      om     w      q    ad  per_y  data_arc  \\\n",
       "1306656  3.171  0.1008  8.52  342.48  8.14  2.851  3.53   4.62       2.0   \n",
       "\n",
       "        condition_code  ...  albedo  neo  pha       n     per  moid moid_ld  \\\n",
       "1306656              7  ...     NaN    N    N  0.1745  1690.0   NaN     NaN   \n",
       "\n",
       "        class   first_obs    last_obs  \n",
       "1306656   MBA  2022-09-16  2022-09-28  \n",
       "\n",
       "[1 rows x 25 columns]"
      ]
     },
     "execution_count": 24,
     "metadata": {},
     "output_type": "execute_result"
    }
   ],
   "source": [
    "df[df[\"H\"].isnull()].dropna(how=\"all\")"
   ]
  },
  {
   "cell_type": "code",
   "execution_count": 25,
   "metadata": {},
   "outputs": [
    {
     "data": {
      "text/plain": [
       "H           17.40\n",
       "moid         1.25\n",
       "moid_ld    488.00\n",
       "Name: MBA, dtype: float64"
      ]
     },
     "execution_count": 25,
     "metadata": {},
     "output_type": "execute_result"
    }
   ],
   "source": [
    "df.groupby(\"class\")[impute_columns].apply(lambda x: x.median()).loc[\n",
    "    \"MBA\", [\"H\", \"moid\", \"moid_ld\"]\n",
    "]"
   ]
  },
  {
   "cell_type": "code",
   "execution_count": 26,
   "metadata": {},
   "outputs": [],
   "source": [
    "df.H.fillna(17.40, inplace=True)\n",
    "df.moid.fillna(1.25, inplace=True)\n",
    "df.moid_ld.fillna(488.00, inplace=True)"
   ]
  },
  {
   "cell_type": "code",
   "execution_count": 27,
   "metadata": {},
   "outputs": [
    {
     "data": {
      "text/plain": [
       "ma          0\n",
       "per         0\n",
       "ad          0\n",
       "per_y       0\n",
       "data_arc    0\n",
       "H           0\n",
       "moid        0\n",
       "moid_ld     0\n",
       "dtype: int64"
      ]
     },
     "execution_count": 27,
     "metadata": {},
     "output_type": "execute_result"
    }
   ],
   "source": [
    "df[impute_columns].isnull().sum()"
   ]
  },
  {
   "cell_type": "markdown",
   "metadata": {},
   "source": [
    "#### Impute using MLP"
   ]
  },
  {
   "cell_type": "markdown",
   "metadata": {},
   "source": [
    "##### `albedo` column"
   ]
  },
  {
   "cell_type": "code",
   "execution_count": 28,
   "metadata": {},
   "outputs": [],
   "source": [
    "import torch\n",
    "torch.manual_seed(29)\n",
    "\n",
    "from src.deep_learning import mlp, train_script, create_dataloader"
   ]
  },
  {
   "cell_type": "code",
   "execution_count": 29,
   "metadata": {},
   "outputs": [],
   "source": [
    "categorical_columns = [\"pha\", \"neo\", \"condition_code\", \"class\"]\n",
    "numerical_columns = df.columns.drop(categorical_columns).drop([\"first_obs\", \"last_obs\", \"diameter\"])\n",
    "target_columns = [\"albedo\"]\n",
    "exclude_columns = [\"first_obs\", \"last_obs\", \"diameter\"]"
   ]
  },
  {
   "cell_type": "code",
   "execution_count": 30,
   "metadata": {},
   "outputs": [
    {
     "name": "stdout",
     "output_type": "stream",
     "text": [
      "Number of examples for training purposes: 138496\n",
      "Number of examples for inference purposes: 1202111\n",
      "Training X shape: torch.Size([128256, 45])\n",
      "Training y shape: torch.Size([128256, 1])\n",
      "Validation X shape: torch.Size([10240, 45])\n",
      "Validation y shape: torch.Size([10240, 1])\n",
      "Inference X shape: torch.Size([1202111, 45])\n",
      "Inference y shape: torch.Size([1202111, 1])\n"
     ]
    }
   ],
   "source": [
    "train_loader, valid_loader, inf_loader = create_dataloader.create_dataloader(\n",
    "    df,\n",
    "    numerical_columns,\n",
    "    categorical_columns,\n",
    "    target_columns,\n",
    "    exclude_columns,\n",
    "    2048,\n",
    "    False,\n",
    ")"
   ]
  },
  {
   "cell_type": "code",
   "execution_count": 107,
   "metadata": {},
   "outputs": [
    {
     "data": {
      "text/plain": [
       "<module 'src.deep_learning.train_script' from '/home/ishrak/Documents/Asteroid-Mining-Analysis/src/deep_learning/train_script.py'>"
      ]
     },
     "execution_count": 107,
     "metadata": {},
     "output_type": "execute_result"
    }
   ],
   "source": [
    "import importlib\n",
    "importlib.reload(mlp)\n",
    "importlib.reload(train_script)"
   ]
  },
  {
   "cell_type": "code",
   "execution_count": 108,
   "metadata": {},
   "outputs": [
    {
     "name": "stderr",
     "output_type": "stream",
     "text": [
      "/home/ishrak/Documents/Asteroid-Mining-Analysis/.venv/lib/python3.11/site-packages/torch/nn/modules/lazy.py:180: UserWarning:\n",
      "\n",
      "Lazy modules are a new feature under heavy development so changes to the API or functionality can happen at any moment.\n",
      "\n"
     ]
    },
    {
     "name": "stdout",
     "output_type": "stream",
     "text": [
      "The training process has done!\n"
     ]
    }
   ],
   "source": [
    "model = mlp.MLP_Albedo(\n",
    "    n=3,\n",
    "    num_output_list=[256, 128, 64],\n",
    "    dropout_list=[0.2, 0.15, 0.1],\n",
    "    device=mlp.device,\n",
    ")\n",
    "\n",
    "model = train_script.train_epoch(\n",
    "    model,\n",
    "    device=mlp.device,\n",
    "    num_epochs=10000,\n",
    "    learning_rate=1e-2,\n",
    "    gamma=0.999,\n",
    "    patience=50,\n",
    "    root_save_dir=\"model_dir/model_albedo\",\n",
    "    model_name=\"resnet\",\n",
    "    train_loader=train_loader,\n",
    "    valid_loader=valid_loader,\n",
    ")"
   ]
  },
  {
   "cell_type": "code",
   "execution_count": 109,
   "metadata": {},
   "outputs": [
    {
     "data": {
      "text/plain": [
       "<All keys matched successfully>"
      ]
     },
     "execution_count": 109,
     "metadata": {},
     "output_type": "execute_result"
    }
   ],
   "source": [
    "model.load_state_dict(torch.load(\"model_dir/model_albedo/resnet\"))"
   ]
  },
  {
   "cell_type": "code",
   "execution_count": 110,
   "metadata": {},
   "outputs": [
    {
     "data": {
      "text/plain": [
       "1202111"
      ]
     },
     "execution_count": 110,
     "metadata": {},
     "output_type": "execute_result"
    }
   ],
   "source": [
    "predictions = []\n",
    "\n",
    "for X, _ in inf_loader:\n",
    "    X = X.to(mlp.device)\n",
    "    predictions += model(X).cpu().tolist()\n",
    "    \n",
    "len(predictions)"
   ]
  },
  {
   "cell_type": "code",
   "execution_count": 111,
   "metadata": {},
   "outputs": [
    {
     "data": {
      "text/html": [
       "<div>\n",
       "<style scoped>\n",
       "    .dataframe tbody tr th:only-of-type {\n",
       "        vertical-align: middle;\n",
       "    }\n",
       "\n",
       "    .dataframe tbody tr th {\n",
       "        vertical-align: top;\n",
       "    }\n",
       "\n",
       "    .dataframe thead th {\n",
       "        text-align: right;\n",
       "    }\n",
       "</style>\n",
       "<table border=\"1\" class=\"dataframe\">\n",
       "  <thead>\n",
       "    <tr style=\"text-align: right;\">\n",
       "      <th></th>\n",
       "      <th>albedo</th>\n",
       "    </tr>\n",
       "  </thead>\n",
       "  <tbody>\n",
       "    <tr>\n",
       "      <th>count</th>\n",
       "      <td>138496.000000</td>\n",
       "    </tr>\n",
       "    <tr>\n",
       "      <th>mean</th>\n",
       "      <td>0.130099</td>\n",
       "    </tr>\n",
       "    <tr>\n",
       "      <th>std</th>\n",
       "      <td>0.110358</td>\n",
       "    </tr>\n",
       "    <tr>\n",
       "      <th>min</th>\n",
       "      <td>0.001000</td>\n",
       "    </tr>\n",
       "    <tr>\n",
       "      <th>25%</th>\n",
       "      <td>0.053000</td>\n",
       "    </tr>\n",
       "    <tr>\n",
       "      <th>50%</th>\n",
       "      <td>0.078000</td>\n",
       "    </tr>\n",
       "    <tr>\n",
       "      <th>75%</th>\n",
       "      <td>0.189000</td>\n",
       "    </tr>\n",
       "    <tr>\n",
       "      <th>max</th>\n",
       "      <td>1.000000</td>\n",
       "    </tr>\n",
       "  </tbody>\n",
       "</table>\n",
       "</div>"
      ],
      "text/plain": [
       "              albedo\n",
       "count  138496.000000\n",
       "mean        0.130099\n",
       "std         0.110358\n",
       "min         0.001000\n",
       "25%         0.053000\n",
       "50%         0.078000\n",
       "75%         0.189000\n",
       "max         1.000000"
      ]
     },
     "execution_count": 111,
     "metadata": {},
     "output_type": "execute_result"
    }
   ],
   "source": [
    "df[target_columns].describe()"
   ]
  },
  {
   "cell_type": "code",
   "execution_count": 118,
   "metadata": {},
   "outputs": [
    {
     "data": {
      "text/html": [
       "<div>\n",
       "<style scoped>\n",
       "    .dataframe tbody tr th:only-of-type {\n",
       "        vertical-align: middle;\n",
       "    }\n",
       "\n",
       "    .dataframe tbody tr th {\n",
       "        vertical-align: top;\n",
       "    }\n",
       "\n",
       "    .dataframe thead th {\n",
       "        text-align: right;\n",
       "    }\n",
       "</style>\n",
       "<table border=\"1\" class=\"dataframe\">\n",
       "  <thead>\n",
       "    <tr style=\"text-align: right;\">\n",
       "      <th></th>\n",
       "      <th>a</th>\n",
       "      <th>e</th>\n",
       "      <th>i</th>\n",
       "      <th>om</th>\n",
       "      <th>w</th>\n",
       "      <th>q</th>\n",
       "      <th>ad</th>\n",
       "      <th>per_y</th>\n",
       "      <th>data_arc</th>\n",
       "      <th>n_obs_used</th>\n",
       "      <th>H</th>\n",
       "      <th>epoch_mjd</th>\n",
       "      <th>ma</th>\n",
       "      <th>diameter</th>\n",
       "      <th>albedo</th>\n",
       "      <th>n</th>\n",
       "      <th>per</th>\n",
       "      <th>moid</th>\n",
       "      <th>moid_ld</th>\n",
       "    </tr>\n",
       "  </thead>\n",
       "  <tbody>\n",
       "    <tr>\n",
       "      <th>count</th>\n",
       "      <td>1.340607e+06</td>\n",
       "      <td>1.340607e+06</td>\n",
       "      <td>1.340607e+06</td>\n",
       "      <td>1.340607e+06</td>\n",
       "      <td>1.340607e+06</td>\n",
       "      <td>1.340607e+06</td>\n",
       "      <td>1.340607e+06</td>\n",
       "      <td>1.340607e+06</td>\n",
       "      <td>1.340607e+06</td>\n",
       "      <td>1.340607e+06</td>\n",
       "      <td>1.340607e+06</td>\n",
       "      <td>1.340607e+06</td>\n",
       "      <td>1.340607e+06</td>\n",
       "      <td>139624.000000</td>\n",
       "      <td>1.340607e+06</td>\n",
       "      <td>1.340607e+06</td>\n",
       "      <td>1.340607e+06</td>\n",
       "      <td>1.340607e+06</td>\n",
       "      <td>1.340607e+06</td>\n",
       "    </tr>\n",
       "    <tr>\n",
       "      <th>mean</th>\n",
       "      <td>2.852933e+00</td>\n",
       "      <td>1.582127e-01</td>\n",
       "      <td>9.277613e+00</td>\n",
       "      <td>1.691431e+02</td>\n",
       "      <td>1.818311e+02</td>\n",
       "      <td>2.395253e+00</td>\n",
       "      <td>3.413375e+00</td>\n",
       "      <td>8.491103e+00</td>\n",
       "      <td>6.188569e+03</td>\n",
       "      <td>3.084926e+02</td>\n",
       "      <td>1.743330e+01</td>\n",
       "      <td>6.012431e+04</td>\n",
       "      <td>1.775757e+02</td>\n",
       "      <td>5.458924</td>\n",
       "      <td>1.409907e-01</td>\n",
       "      <td>2.354267e-01</td>\n",
       "      <td>3.102006e+03</td>\n",
       "      <td>1.411861e+00</td>\n",
       "      <td>5.494518e+02</td>\n",
       "    </tr>\n",
       "    <tr>\n",
       "      <th>std</th>\n",
       "      <td>4.865619e+01</td>\n",
       "      <td>9.366901e-02</td>\n",
       "      <td>6.640524e+00</td>\n",
       "      <td>1.028926e+02</td>\n",
       "      <td>1.037753e+02</td>\n",
       "      <td>2.091184e+00</td>\n",
       "      <td>3.202090e+01</td>\n",
       "      <td>1.750673e+03</td>\n",
       "      <td>3.947785e+03</td>\n",
       "      <td>6.118063e+02</td>\n",
       "      <td>1.820140e+00</td>\n",
       "      <td>5.517375e+02</td>\n",
       "      <td>1.058745e+02</td>\n",
       "      <td>9.308008</td>\n",
       "      <td>5.176330e-02</td>\n",
       "      <td>8.185746e-02</td>\n",
       "      <td>6.397652e+05</td>\n",
       "      <td>2.087489e+00</td>\n",
       "      <td>8.123503e+02</td>\n",
       "    </tr>\n",
       "    <tr>\n",
       "      <th>min</th>\n",
       "      <td>-5.067000e+04</td>\n",
       "      <td>0.000000e+00</td>\n",
       "      <td>1.000000e-02</td>\n",
       "      <td>0.000000e+00</td>\n",
       "      <td>0.000000e+00</td>\n",
       "      <td>7.000000e-02</td>\n",
       "      <td>6.500000e-01</td>\n",
       "      <td>3.140000e-01</td>\n",
       "      <td>1.000000e+00</td>\n",
       "      <td>3.000000e+00</td>\n",
       "      <td>-1.220000e+00</td>\n",
       "      <td>2.505100e+04</td>\n",
       "      <td>-1.000000e-02</td>\n",
       "      <td>0.002500</td>\n",
       "      <td>-5.229052e-02</td>\n",
       "      <td>8.641000e-08</td>\n",
       "      <td>1.150000e+02</td>\n",
       "      <td>3.930000e-07</td>\n",
       "      <td>1.530000e-04</td>\n",
       "    </tr>\n",
       "    <tr>\n",
       "      <th>25%</th>\n",
       "      <td>2.397000e+00</td>\n",
       "      <td>9.310000e-02</td>\n",
       "      <td>4.370000e+00</td>\n",
       "      <td>8.123000e+01</td>\n",
       "      <td>9.188000e+01</td>\n",
       "      <td>1.972000e+00</td>\n",
       "      <td>2.800000e+00</td>\n",
       "      <td>3.710000e+00</td>\n",
       "      <td>4.013000e+03</td>\n",
       "      <td>4.400000e+01</td>\n",
       "      <td>1.657000e+01</td>\n",
       "      <td>6.020000e+04</td>\n",
       "      <td>8.487500e+01</td>\n",
       "      <td>2.763000</td>\n",
       "      <td>1.144609e-01</td>\n",
       "      <td>1.878000e-01</td>\n",
       "      <td>1.360000e+03</td>\n",
       "      <td>9.800000e-01</td>\n",
       "      <td>3.810000e+02</td>\n",
       "    </tr>\n",
       "    <tr>\n",
       "      <th>50%</th>\n",
       "      <td>2.662000e+00</td>\n",
       "      <td>1.472000e-01</td>\n",
       "      <td>7.820000e+00</td>\n",
       "      <td>1.603400e+02</td>\n",
       "      <td>1.836200e+02</td>\n",
       "      <td>2.238000e+00</td>\n",
       "      <td>3.080000e+00</td>\n",
       "      <td>4.340000e+00</td>\n",
       "      <td>6.260000e+03</td>\n",
       "      <td>1.050000e+02</td>\n",
       "      <td>1.744000e+01</td>\n",
       "      <td>6.020000e+04</td>\n",
       "      <td>1.755000e+02</td>\n",
       "      <td>3.949000</td>\n",
       "      <td>1.370179e-01</td>\n",
       "      <td>2.269000e-01</td>\n",
       "      <td>1.590000e+03</td>\n",
       "      <td>1.250000e+00</td>\n",
       "      <td>4.870000e+02</td>\n",
       "    </tr>\n",
       "    <tr>\n",
       "      <th>75%</th>\n",
       "      <td>3.021000e+00</td>\n",
       "      <td>2.035000e-01</td>\n",
       "      <td>1.265000e+01</td>\n",
       "      <td>2.541700e+02</td>\n",
       "      <td>2.717000e+02</td>\n",
       "      <td>2.588000e+00</td>\n",
       "      <td>3.390000e+00</td>\n",
       "      <td>5.250000e+00</td>\n",
       "      <td>8.118000e+03</td>\n",
       "      <td>2.860000e+02</td>\n",
       "      <td>1.829000e+01</td>\n",
       "      <td>6.020000e+04</td>\n",
       "      <td>2.696000e+02</td>\n",
       "      <td>5.731000</td>\n",
       "      <td>1.599090e-01</td>\n",
       "      <td>2.657000e-01</td>\n",
       "      <td>1.920000e+03</td>\n",
       "      <td>1.600000e+00</td>\n",
       "      <td>6.230000e+02</td>\n",
       "    </tr>\n",
       "    <tr>\n",
       "      <th>max</th>\n",
       "      <td>1.451000e+04</td>\n",
       "      <td>1.201100e+00</td>\n",
       "      <td>1.784600e+02</td>\n",
       "      <td>3.600000e+02</td>\n",
       "      <td>3.600000e+02</td>\n",
       "      <td>8.053800e+01</td>\n",
       "      <td>2.902006e+04</td>\n",
       "      <td>1.750000e+06</td>\n",
       "      <td>7.997900e+04</td>\n",
       "      <td>1.778300e+04</td>\n",
       "      <td>3.358000e+01</td>\n",
       "      <td>6.029600e+04</td>\n",
       "      <td>3.678800e+02</td>\n",
       "      <td>939.400000</td>\n",
       "      <td>1.000000e+00</td>\n",
       "      <td>3.142000e+00</td>\n",
       "      <td>6.390000e+08</td>\n",
       "      <td>7.960000e+01</td>\n",
       "      <td>3.100000e+04</td>\n",
       "    </tr>\n",
       "  </tbody>\n",
       "</table>\n",
       "</div>"
      ],
      "text/plain": [
       "                  a             e             i            om             w  \\\n",
       "count  1.340607e+06  1.340607e+06  1.340607e+06  1.340607e+06  1.340607e+06   \n",
       "mean   2.852933e+00  1.582127e-01  9.277613e+00  1.691431e+02  1.818311e+02   \n",
       "std    4.865619e+01  9.366901e-02  6.640524e+00  1.028926e+02  1.037753e+02   \n",
       "min   -5.067000e+04  0.000000e+00  1.000000e-02  0.000000e+00  0.000000e+00   \n",
       "25%    2.397000e+00  9.310000e-02  4.370000e+00  8.123000e+01  9.188000e+01   \n",
       "50%    2.662000e+00  1.472000e-01  7.820000e+00  1.603400e+02  1.836200e+02   \n",
       "75%    3.021000e+00  2.035000e-01  1.265000e+01  2.541700e+02  2.717000e+02   \n",
       "max    1.451000e+04  1.201100e+00  1.784600e+02  3.600000e+02  3.600000e+02   \n",
       "\n",
       "                  q            ad         per_y      data_arc    n_obs_used  \\\n",
       "count  1.340607e+06  1.340607e+06  1.340607e+06  1.340607e+06  1.340607e+06   \n",
       "mean   2.395253e+00  3.413375e+00  8.491103e+00  6.188569e+03  3.084926e+02   \n",
       "std    2.091184e+00  3.202090e+01  1.750673e+03  3.947785e+03  6.118063e+02   \n",
       "min    7.000000e-02  6.500000e-01  3.140000e-01  1.000000e+00  3.000000e+00   \n",
       "25%    1.972000e+00  2.800000e+00  3.710000e+00  4.013000e+03  4.400000e+01   \n",
       "50%    2.238000e+00  3.080000e+00  4.340000e+00  6.260000e+03  1.050000e+02   \n",
       "75%    2.588000e+00  3.390000e+00  5.250000e+00  8.118000e+03  2.860000e+02   \n",
       "max    8.053800e+01  2.902006e+04  1.750000e+06  7.997900e+04  1.778300e+04   \n",
       "\n",
       "                  H     epoch_mjd            ma       diameter        albedo  \\\n",
       "count  1.340607e+06  1.340607e+06  1.340607e+06  139624.000000  1.340607e+06   \n",
       "mean   1.743330e+01  6.012431e+04  1.775757e+02       5.458924  1.409907e-01   \n",
       "std    1.820140e+00  5.517375e+02  1.058745e+02       9.308008  5.176330e-02   \n",
       "min   -1.220000e+00  2.505100e+04 -1.000000e-02       0.002500 -5.229052e-02   \n",
       "25%    1.657000e+01  6.020000e+04  8.487500e+01       2.763000  1.144609e-01   \n",
       "50%    1.744000e+01  6.020000e+04  1.755000e+02       3.949000  1.370179e-01   \n",
       "75%    1.829000e+01  6.020000e+04  2.696000e+02       5.731000  1.599090e-01   \n",
       "max    3.358000e+01  6.029600e+04  3.678800e+02     939.400000  1.000000e+00   \n",
       "\n",
       "                  n           per          moid       moid_ld  \n",
       "count  1.340607e+06  1.340607e+06  1.340607e+06  1.340607e+06  \n",
       "mean   2.354267e-01  3.102006e+03  1.411861e+00  5.494518e+02  \n",
       "std    8.185746e-02  6.397652e+05  2.087489e+00  8.123503e+02  \n",
       "min    8.641000e-08  1.150000e+02  3.930000e-07  1.530000e-04  \n",
       "25%    1.878000e-01  1.360000e+03  9.800000e-01  3.810000e+02  \n",
       "50%    2.269000e-01  1.590000e+03  1.250000e+00  4.870000e+02  \n",
       "75%    2.657000e-01  1.920000e+03  1.600000e+00  6.230000e+02  \n",
       "max    3.142000e+00  6.390000e+08  7.960000e+01  3.100000e+04  "
      ]
     },
     "execution_count": 118,
     "metadata": {},
     "output_type": "execute_result"
    }
   ],
   "source": [
    "df.loc[(df[\"albedo\"].isnull()), \"albedo\"] = predictions\n",
    "df[\"albedo\"].describe()"
   ]
  },
  {
   "cell_type": "code",
   "execution_count": 123,
   "metadata": {},
   "outputs": [],
   "source": [
    "df.drop(index=df[df.albedo < 0].index, inplace=True)"
   ]
  },
  {
   "cell_type": "markdown",
   "metadata": {},
   "source": [
    "##### `diameter` column"
   ]
  },
  {
   "cell_type": "code",
   "execution_count": 124,
   "metadata": {},
   "outputs": [],
   "source": [
    "categorical_columns = [\"pha\", \"neo\", \"condition_code\", \"class\"]\n",
    "numerical_columns = df.columns.drop(categorical_columns).drop([\"first_obs\", \"last_obs\"])\n",
    "target_columns = [\"diameter\"]\n",
    "exclude_columns = [\"first_obs\", \"last_obs\"]"
   ]
  },
  {
   "cell_type": "code",
   "execution_count": 125,
   "metadata": {},
   "outputs": [
    {
     "name": "stdout",
     "output_type": "stream",
     "text": [
      "Number of examples for training purposes: 139624\n",
      "Number of examples for inference purposes: 1200975\n",
      "Training X shape: torch.Size([129384, 46])\n",
      "Training y shape: torch.Size([129384, 1])\n",
      "Validation X shape: torch.Size([10240, 46])\n",
      "Validation y shape: torch.Size([10240, 1])\n",
      "Inference X shape: torch.Size([1200975, 46])\n",
      "Inference y shape: torch.Size([1200975, 1])\n"
     ]
    }
   ],
   "source": [
    "train_loader, valid_loader, inf_loader = create_dataloader.create_dataloader(\n",
    "    df,\n",
    "    numerical_columns,\n",
    "    categorical_columns,\n",
    "    target_columns,\n",
    "    exclude_columns,\n",
    "    2048,\n",
    "    False,\n",
    ")"
   ]
  },
  {
   "cell_type": "code",
   "execution_count": 141,
   "metadata": {},
   "outputs": [
    {
     "data": {
      "text/plain": [
       "<module 'src.deep_learning.train_script' from '/home/ishrak/Documents/Asteroid-Mining-Analysis/src/deep_learning/train_script.py'>"
      ]
     },
     "execution_count": 141,
     "metadata": {},
     "output_type": "execute_result"
    }
   ],
   "source": [
    "import importlib\n",
    "importlib.reload(mlp)\n",
    "importlib.reload(train_script)"
   ]
  },
  {
   "cell_type": "code",
   "execution_count": 151,
   "metadata": {},
   "outputs": [
    {
     "name": "stderr",
     "output_type": "stream",
     "text": [
      "/home/ishrak/Documents/Asteroid-Mining-Analysis/.venv/lib/python3.11/site-packages/torch/nn/modules/lazy.py:180: UserWarning:\n",
      "\n",
      "Lazy modules are a new feature under heavy development so changes to the API or functionality can happen at any moment.\n",
      "\n"
     ]
    },
    {
     "name": "stdout",
     "output_type": "stream",
     "text": [
      "The training process has done!\n"
     ]
    }
   ],
   "source": [
    "model = mlp.MLP_Diameter(\n",
    "    n=3,\n",
    "    num_output_list=[256, 128, 64],\n",
    "    dropout_list=[0.2, 0.15, 0.1],\n",
    "    device=mlp.device,\n",
    ")\n",
    "\n",
    "model = train_script.train_epoch(\n",
    "    model,\n",
    "    device=mlp.device,\n",
    "    num_epochs=1000,\n",
    "    learning_rate=1e-4,\n",
    "    gamma=0.99,\n",
    "    patience=50,\n",
    "    root_save_dir=\"model_dir/model_diameter\",\n",
    "    model_name=\"resnet\",\n",
    "    train_loader=train_loader,\n",
    "    valid_loader=valid_loader,\n",
    ")"
   ]
  },
  {
   "cell_type": "code",
   "execution_count": 152,
   "metadata": {},
   "outputs": [
    {
     "data": {
      "text/plain": [
       "<All keys matched successfully>"
      ]
     },
     "execution_count": 152,
     "metadata": {},
     "output_type": "execute_result"
    }
   ],
   "source": [
    "model.load_state_dict(torch.load(\"model_dir/model_diameter/resnet\"))"
   ]
  },
  {
   "cell_type": "code",
   "execution_count": 153,
   "metadata": {},
   "outputs": [
    {
     "data": {
      "text/plain": [
       "1200975"
      ]
     },
     "execution_count": 153,
     "metadata": {},
     "output_type": "execute_result"
    }
   ],
   "source": [
    "predictions = []\n",
    "\n",
    "for X, _ in inf_loader:\n",
    "    X = X.to(mlp.device)\n",
    "    predictions += model(X).cpu().tolist()\n",
    "    \n",
    "len(predictions)"
   ]
  },
  {
   "cell_type": "code",
   "execution_count": 154,
   "metadata": {},
   "outputs": [
    {
     "data": {
      "text/html": [
       "<div>\n",
       "<style scoped>\n",
       "    .dataframe tbody tr th:only-of-type {\n",
       "        vertical-align: middle;\n",
       "    }\n",
       "\n",
       "    .dataframe tbody tr th {\n",
       "        vertical-align: top;\n",
       "    }\n",
       "\n",
       "    .dataframe thead th {\n",
       "        text-align: right;\n",
       "    }\n",
       "</style>\n",
       "<table border=\"1\" class=\"dataframe\">\n",
       "  <thead>\n",
       "    <tr style=\"text-align: right;\">\n",
       "      <th></th>\n",
       "      <th>diameter</th>\n",
       "    </tr>\n",
       "  </thead>\n",
       "  <tbody>\n",
       "    <tr>\n",
       "      <th>count</th>\n",
       "      <td>139624.000000</td>\n",
       "    </tr>\n",
       "    <tr>\n",
       "      <th>mean</th>\n",
       "      <td>5.458924</td>\n",
       "    </tr>\n",
       "    <tr>\n",
       "      <th>std</th>\n",
       "      <td>9.308008</td>\n",
       "    </tr>\n",
       "    <tr>\n",
       "      <th>min</th>\n",
       "      <td>0.002500</td>\n",
       "    </tr>\n",
       "    <tr>\n",
       "      <th>25%</th>\n",
       "      <td>2.763000</td>\n",
       "    </tr>\n",
       "    <tr>\n",
       "      <th>50%</th>\n",
       "      <td>3.949000</td>\n",
       "    </tr>\n",
       "    <tr>\n",
       "      <th>75%</th>\n",
       "      <td>5.731000</td>\n",
       "    </tr>\n",
       "    <tr>\n",
       "      <th>max</th>\n",
       "      <td>939.400000</td>\n",
       "    </tr>\n",
       "  </tbody>\n",
       "</table>\n",
       "</div>"
      ],
      "text/plain": [
       "            diameter\n",
       "count  139624.000000\n",
       "mean        5.458924\n",
       "std         9.308008\n",
       "min         0.002500\n",
       "25%         2.763000\n",
       "50%         3.949000\n",
       "75%         5.731000\n",
       "max       939.400000"
      ]
     },
     "execution_count": 154,
     "metadata": {},
     "output_type": "execute_result"
    }
   ],
   "source": [
    "df[target_columns].describe()"
   ]
  },
  {
   "cell_type": "code",
   "execution_count": 157,
   "metadata": {},
   "outputs": [
    {
     "data": {
      "text/plain": [
       "count    1.340599e+06\n",
       "mean     2.968320e+00\n",
       "std      3.139675e+00\n",
       "min      2.500000e-03\n",
       "25%      2.616776e+00\n",
       "50%      2.807216e+00\n",
       "75%      2.922971e+00\n",
       "max      9.394000e+02\n",
       "Name: diameter, dtype: float64"
      ]
     },
     "execution_count": 157,
     "metadata": {},
     "output_type": "execute_result"
    }
   ],
   "source": [
    "df.loc[(df[\"diameter\"].isnull()), \"diameter\"] = predictions\n",
    "df[\"diameter\"].describe()"
   ]
  },
  {
   "cell_type": "code",
   "execution_count": 158,
   "metadata": {},
   "outputs": [
    {
     "data": {
      "text/plain": [
       "a                 0\n",
       "e                 0\n",
       "i                 0\n",
       "om                0\n",
       "w                 0\n",
       "q                 0\n",
       "ad                0\n",
       "per_y             0\n",
       "data_arc          0\n",
       "condition_code    0\n",
       "n_obs_used        0\n",
       "H                 0\n",
       "epoch_mjd         0\n",
       "ma                0\n",
       "diameter          0\n",
       "albedo            0\n",
       "neo               0\n",
       "pha               0\n",
       "n                 0\n",
       "per               0\n",
       "moid              0\n",
       "moid_ld           0\n",
       "class             0\n",
       "first_obs         0\n",
       "last_obs          0\n",
       "dtype: int64"
      ]
     },
     "execution_count": 158,
     "metadata": {},
     "output_type": "execute_result"
    }
   ],
   "source": [
    "df.isna().sum()"
   ]
  },
  {
   "cell_type": "code",
   "execution_count": 159,
   "metadata": {},
   "outputs": [],
   "source": [
    "df.to_csv(\"data/Asteroid_Imputed.csv\")"
   ]
  },
  {
   "cell_type": "markdown",
   "metadata": {},
   "source": [
    "## Resolving Inconsistences"
   ]
  },
  {
   "cell_type": "code",
   "execution_count": null,
   "metadata": {},
   "outputs": [],
   "source": []
  }
 ],
 "metadata": {
  "kernelspec": {
   "display_name": ".venv",
   "language": "python",
   "name": "python3"
  },
  "language_info": {
   "codemirror_mode": {
    "name": "ipython",
    "version": 3
   },
   "file_extension": ".py",
   "mimetype": "text/x-python",
   "name": "python",
   "nbconvert_exporter": "python",
   "pygments_lexer": "ipython3",
   "version": "3.11.6"
  }
 },
 "nbformat": 4,
 "nbformat_minor": 2
}
