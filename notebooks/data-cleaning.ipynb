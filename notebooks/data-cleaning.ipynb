{
 "cells": [
  {
   "cell_type": "code",
   "execution_count": 1,
   "metadata": {},
   "outputs": [],
   "source": [
    "import os\n",
    "os.chdir(\"../\")"
   ]
  },
  {
   "cell_type": "markdown",
   "metadata": {},
   "source": [
    "# Data Cleaning\n",
    "\n",
    "This notebook deals with everything associated with data cleaning. Which includes filling in missing values, handling noise, tackling inconsistancies, etc."
   ]
  },
  {
   "cell_type": "markdown",
   "metadata": {},
   "source": [
    "## Loading Dataset"
   ]
  },
  {
   "cell_type": "code",
   "execution_count": 2,
   "metadata": {},
   "outputs": [],
   "source": [
    "import pandas as pd\n",
    "import plotly.express as px"
   ]
  },
  {
   "cell_type": "code",
   "execution_count": 3,
   "metadata": {},
   "outputs": [
    {
     "name": "stdout",
     "output_type": "stream",
     "text": [
      "Number of (rows, columns) = (839714, 31)\n"
     ]
    }
   ],
   "source": [
    "df = pd.read_csv(\"data/Asteroid_Updated.csv\", low_memory=False)\n",
    "print(f\"Number of (rows, columns) = {df.shape}\")"
   ]
  },
  {
   "cell_type": "code",
   "execution_count": 4,
   "metadata": {},
   "outputs": [
    {
     "data": {
      "text/html": [
       "<div>\n",
       "<style scoped>\n",
       "    .dataframe tbody tr th:only-of-type {\n",
       "        vertical-align: middle;\n",
       "    }\n",
       "\n",
       "    .dataframe tbody tr th {\n",
       "        vertical-align: top;\n",
       "    }\n",
       "\n",
       "    .dataframe thead th {\n",
       "        text-align: right;\n",
       "    }\n",
       "</style>\n",
       "<table border=\"1\" class=\"dataframe\">\n",
       "  <thead>\n",
       "    <tr style=\"text-align: right;\">\n",
       "      <th></th>\n",
       "      <th>name</th>\n",
       "      <th>a</th>\n",
       "      <th>e</th>\n",
       "      <th>i</th>\n",
       "      <th>om</th>\n",
       "      <th>w</th>\n",
       "      <th>q</th>\n",
       "      <th>ad</th>\n",
       "      <th>per_y</th>\n",
       "      <th>data_arc</th>\n",
       "      <th>...</th>\n",
       "      <th>UB</th>\n",
       "      <th>IR</th>\n",
       "      <th>spec_B</th>\n",
       "      <th>spec_T</th>\n",
       "      <th>G</th>\n",
       "      <th>moid</th>\n",
       "      <th>class</th>\n",
       "      <th>n</th>\n",
       "      <th>per</th>\n",
       "      <th>ma</th>\n",
       "    </tr>\n",
       "  </thead>\n",
       "  <tbody>\n",
       "    <tr>\n",
       "      <th>258229</th>\n",
       "      <td>NaN</td>\n",
       "      <td>3.051257</td>\n",
       "      <td>0.072386</td>\n",
       "      <td>9.104585</td>\n",
       "      <td>219.281976</td>\n",
       "      <td>207.423067</td>\n",
       "      <td>2.830388</td>\n",
       "      <td>3.272125</td>\n",
       "      <td>5.329989</td>\n",
       "      <td>7191.0</td>\n",
       "      <td>...</td>\n",
       "      <td>NaN</td>\n",
       "      <td>NaN</td>\n",
       "      <td>NaN</td>\n",
       "      <td>NaN</td>\n",
       "      <td>NaN</td>\n",
       "      <td>1.84647</td>\n",
       "      <td>MBA</td>\n",
       "      <td>0.184921</td>\n",
       "      <td>1946.778664</td>\n",
       "      <td>62.292407</td>\n",
       "    </tr>\n",
       "    <tr>\n",
       "      <th>155216</th>\n",
       "      <td>NaN</td>\n",
       "      <td>2.668516</td>\n",
       "      <td>0.054510</td>\n",
       "      <td>2.000629</td>\n",
       "      <td>326.909127</td>\n",
       "      <td>46.035094</td>\n",
       "      <td>2.523056</td>\n",
       "      <td>2.813976</td>\n",
       "      <td>4.359262</td>\n",
       "      <td>6671.0</td>\n",
       "      <td>...</td>\n",
       "      <td>NaN</td>\n",
       "      <td>NaN</td>\n",
       "      <td>NaN</td>\n",
       "      <td>NaN</td>\n",
       "      <td>NaN</td>\n",
       "      <td>1.52237</td>\n",
       "      <td>MBA</td>\n",
       "      <td>0.226099</td>\n",
       "      <td>1592.220399</td>\n",
       "      <td>83.644396</td>\n",
       "    </tr>\n",
       "    <tr>\n",
       "      <th>751061</th>\n",
       "      <td>NaN</td>\n",
       "      <td>2.839077</td>\n",
       "      <td>0.198508</td>\n",
       "      <td>14.445930</td>\n",
       "      <td>119.394940</td>\n",
       "      <td>218.012150</td>\n",
       "      <td>2.275498</td>\n",
       "      <td>3.402655</td>\n",
       "      <td>4.783810</td>\n",
       "      <td>NaN</td>\n",
       "      <td>...</td>\n",
       "      <td>NaN</td>\n",
       "      <td>NaN</td>\n",
       "      <td>NaN</td>\n",
       "      <td>NaN</td>\n",
       "      <td>NaN</td>\n",
       "      <td>NaN</td>\n",
       "      <td>MBA</td>\n",
       "      <td>0.206034</td>\n",
       "      <td>1747.286719</td>\n",
       "      <td>208.217490</td>\n",
       "    </tr>\n",
       "  </tbody>\n",
       "</table>\n",
       "<p>3 rows × 31 columns</p>\n",
       "</div>"
      ],
      "text/plain": [
       "       name         a         e          i          om           w         q  \\\n",
       "258229  NaN  3.051257  0.072386   9.104585  219.281976  207.423067  2.830388   \n",
       "155216  NaN  2.668516  0.054510   2.000629  326.909127   46.035094  2.523056   \n",
       "751061  NaN  2.839077  0.198508  14.445930  119.394940  218.012150  2.275498   \n",
       "\n",
       "              ad     per_y  data_arc  ...  UB  IR  spec_B spec_T   G     moid  \\\n",
       "258229  3.272125  5.329989    7191.0  ... NaN NaN     NaN    NaN NaN  1.84647   \n",
       "155216  2.813976  4.359262    6671.0  ... NaN NaN     NaN    NaN NaN  1.52237   \n",
       "751061  3.402655  4.783810       NaN  ... NaN NaN     NaN    NaN NaN      NaN   \n",
       "\n",
       "       class         n          per          ma  \n",
       "258229   MBA  0.184921  1946.778664   62.292407  \n",
       "155216   MBA  0.226099  1592.220399   83.644396  \n",
       "751061   MBA  0.206034  1747.286719  208.217490  \n",
       "\n",
       "[3 rows x 31 columns]"
      ]
     },
     "execution_count": 4,
     "metadata": {},
     "output_type": "execute_result"
    }
   ],
   "source": [
    "df.sample(3)"
   ]
  },
  {
   "cell_type": "code",
   "execution_count": 5,
   "metadata": {},
   "outputs": [
    {
     "name": "stdout",
     "output_type": "stream",
     "text": [
      "<class 'pandas.core.frame.DataFrame'>\n",
      "RangeIndex: 839714 entries, 0 to 839713\n",
      "Data columns (total 31 columns):\n",
      " #   Column          Non-Null Count   Dtype  \n",
      "---  ------          --------------   -----  \n",
      " 0   name            21967 non-null   object \n",
      " 1   a               839712 non-null  float64\n",
      " 2   e               839714 non-null  float64\n",
      " 3   i               839714 non-null  float64\n",
      " 4   om              839714 non-null  float64\n",
      " 5   w               839714 non-null  float64\n",
      " 6   q               839714 non-null  float64\n",
      " 7   ad              839708 non-null  float64\n",
      " 8   per_y           839713 non-null  float64\n",
      " 9   data_arc        824240 non-null  float64\n",
      " 10  condition_code  838847 non-null  object \n",
      " 11  n_obs_used      839714 non-null  int64  \n",
      " 12  H               837025 non-null  float64\n",
      " 13  neo             839708 non-null  object \n",
      " 14  pha             823272 non-null  object \n",
      " 15  diameter        137636 non-null  object \n",
      " 16  extent          18 non-null      object \n",
      " 17  albedo          136409 non-null  float64\n",
      " 18  rot_per         18796 non-null   float64\n",
      " 19  GM              14 non-null      float64\n",
      " 20  BV              1021 non-null    float64\n",
      " 21  UB              979 non-null     float64\n",
      " 22  IR              1 non-null       float64\n",
      " 23  spec_B          1666 non-null    object \n",
      " 24  spec_T          980 non-null     object \n",
      " 25  G               119 non-null     float64\n",
      " 26  moid            823272 non-null  float64\n",
      " 27  class           839714 non-null  object \n",
      " 28  n               839712 non-null  float64\n",
      " 29  per             839708 non-null  float64\n",
      " 30  ma              839706 non-null  float64\n",
      "dtypes: float64(21), int64(1), object(9)\n",
      "memory usage: 198.6+ MB\n"
     ]
    }
   ],
   "source": [
    "df.info()"
   ]
  },
  {
   "cell_type": "markdown",
   "metadata": {},
   "source": [
    "## Missing Values\n",
    "\n",
    "This section deals with handling missing values."
   ]
  },
  {
   "cell_type": "markdown",
   "metadata": {},
   "source": [
    "### Identify Missing Columns\n",
    "\n",
    "In this subsection, I'll identify which columns have missing values. What percentage of the values are missing. I visualize the missing statistics in a bar plot. I, then, chart a course on how to handle the different levels of missing values."
   ]
  },
  {
   "cell_type": "code",
   "execution_count": 6,
   "metadata": {},
   "outputs": [],
   "source": [
    "missing = pd.DataFrame(\n",
    "    df.apply(lambda x: x.isna(), axis=1).sum().sort_values(ascending=True)\n",
    ").reset_index()\n",
    "\n",
    "missing.rename(columns={0: \"Missing\", \"index\": \"Column\"}, inplace=True)\n",
    "missing[\"Percent\"] = missing[\"Missing\"] / df.shape[0] * 100"
   ]
  },
  {
   "cell_type": "code",
   "execution_count": 7,
   "metadata": {},
   "outputs": [
    {
     "data": {
      "application/vnd.plotly.v1+json": {
       "config": {
        "plotlyServerURL": "https://plot.ly"
       },
       "data": [
        {
         "alignmentgroup": "True",
         "hovertemplate": "Column=%{x}<br>Percent=%{y}<br>Missing=%{text}<extra></extra>",
         "legendgroup": "",
         "marker": {
          "color": "#636efa",
          "pattern": {
           "shape": ""
          }
         },
         "name": "",
         "offsetgroup": "",
         "orientation": "v",
         "showlegend": false,
         "text": [
          1,
          2,
          2,
          6,
          6,
          6,
          8,
          867,
          2689,
          15474,
          16442,
          16442,
          702078,
          703305,
          817747,
          820918,
          838048,
          838693,
          838734,
          838735,
          839595,
          839696,
          839700,
          839713
         ],
         "textposition": "auto",
         "type": "bar",
         "x": [
          "per_y",
          "a",
          "n",
          "ad",
          "neo",
          "per",
          "ma",
          "condition_code",
          "H",
          "data_arc",
          "pha",
          "moid",
          "diameter",
          "albedo",
          "name",
          "rot_per",
          "spec_B",
          "BV",
          "spec_T",
          "UB",
          "G",
          "extent",
          "GM",
          "IR"
         ],
         "xaxis": "x",
         "y": [
          0.00011908816573261849,
          0.00023817633146523698,
          0.00023817633146523698,
          0.0007145289943957109,
          0.0007145289943957109,
          0.0007145289943957109,
          0.0009527053258609479,
          0.10324943969018023,
          0.3202280776550111,
          1.8427702765465386,
          1.9580476209757132,
          1.9580476209757132,
          83.60918122122533,
          83.75530240057924,
          97.38399026335158,
          97.76161883688971,
          99.80159911588946,
          99.87841098278699,
          99.88329359758204,
          99.88341268574776,
          99.98582850827782,
          99.99785641301682,
          99.99833276567975,
          99.99988091183427
         ],
         "yaxis": "y"
        }
       ],
       "layout": {
        "barmode": "relative",
        "height": 600,
        "legend": {
         "tracegroupgap": 0
        },
        "margin": {
         "t": 60
        },
        "template": {
         "data": {
          "bar": [
           {
            "error_x": {
             "color": "#2a3f5f"
            },
            "error_y": {
             "color": "#2a3f5f"
            },
            "marker": {
             "line": {
              "color": "#E5ECF6",
              "width": 0.5
             },
             "pattern": {
              "fillmode": "overlay",
              "size": 10,
              "solidity": 0.2
             }
            },
            "type": "bar"
           }
          ],
          "barpolar": [
           {
            "marker": {
             "line": {
              "color": "#E5ECF6",
              "width": 0.5
             },
             "pattern": {
              "fillmode": "overlay",
              "size": 10,
              "solidity": 0.2
             }
            },
            "type": "barpolar"
           }
          ],
          "carpet": [
           {
            "aaxis": {
             "endlinecolor": "#2a3f5f",
             "gridcolor": "white",
             "linecolor": "white",
             "minorgridcolor": "white",
             "startlinecolor": "#2a3f5f"
            },
            "baxis": {
             "endlinecolor": "#2a3f5f",
             "gridcolor": "white",
             "linecolor": "white",
             "minorgridcolor": "white",
             "startlinecolor": "#2a3f5f"
            },
            "type": "carpet"
           }
          ],
          "choropleth": [
           {
            "colorbar": {
             "outlinewidth": 0,
             "ticks": ""
            },
            "type": "choropleth"
           }
          ],
          "contour": [
           {
            "colorbar": {
             "outlinewidth": 0,
             "ticks": ""
            },
            "colorscale": [
             [
              0,
              "#0d0887"
             ],
             [
              0.1111111111111111,
              "#46039f"
             ],
             [
              0.2222222222222222,
              "#7201a8"
             ],
             [
              0.3333333333333333,
              "#9c179e"
             ],
             [
              0.4444444444444444,
              "#bd3786"
             ],
             [
              0.5555555555555556,
              "#d8576b"
             ],
             [
              0.6666666666666666,
              "#ed7953"
             ],
             [
              0.7777777777777778,
              "#fb9f3a"
             ],
             [
              0.8888888888888888,
              "#fdca26"
             ],
             [
              1,
              "#f0f921"
             ]
            ],
            "type": "contour"
           }
          ],
          "contourcarpet": [
           {
            "colorbar": {
             "outlinewidth": 0,
             "ticks": ""
            },
            "type": "contourcarpet"
           }
          ],
          "heatmap": [
           {
            "colorbar": {
             "outlinewidth": 0,
             "ticks": ""
            },
            "colorscale": [
             [
              0,
              "#0d0887"
             ],
             [
              0.1111111111111111,
              "#46039f"
             ],
             [
              0.2222222222222222,
              "#7201a8"
             ],
             [
              0.3333333333333333,
              "#9c179e"
             ],
             [
              0.4444444444444444,
              "#bd3786"
             ],
             [
              0.5555555555555556,
              "#d8576b"
             ],
             [
              0.6666666666666666,
              "#ed7953"
             ],
             [
              0.7777777777777778,
              "#fb9f3a"
             ],
             [
              0.8888888888888888,
              "#fdca26"
             ],
             [
              1,
              "#f0f921"
             ]
            ],
            "type": "heatmap"
           }
          ],
          "heatmapgl": [
           {
            "colorbar": {
             "outlinewidth": 0,
             "ticks": ""
            },
            "colorscale": [
             [
              0,
              "#0d0887"
             ],
             [
              0.1111111111111111,
              "#46039f"
             ],
             [
              0.2222222222222222,
              "#7201a8"
             ],
             [
              0.3333333333333333,
              "#9c179e"
             ],
             [
              0.4444444444444444,
              "#bd3786"
             ],
             [
              0.5555555555555556,
              "#d8576b"
             ],
             [
              0.6666666666666666,
              "#ed7953"
             ],
             [
              0.7777777777777778,
              "#fb9f3a"
             ],
             [
              0.8888888888888888,
              "#fdca26"
             ],
             [
              1,
              "#f0f921"
             ]
            ],
            "type": "heatmapgl"
           }
          ],
          "histogram": [
           {
            "marker": {
             "pattern": {
              "fillmode": "overlay",
              "size": 10,
              "solidity": 0.2
             }
            },
            "type": "histogram"
           }
          ],
          "histogram2d": [
           {
            "colorbar": {
             "outlinewidth": 0,
             "ticks": ""
            },
            "colorscale": [
             [
              0,
              "#0d0887"
             ],
             [
              0.1111111111111111,
              "#46039f"
             ],
             [
              0.2222222222222222,
              "#7201a8"
             ],
             [
              0.3333333333333333,
              "#9c179e"
             ],
             [
              0.4444444444444444,
              "#bd3786"
             ],
             [
              0.5555555555555556,
              "#d8576b"
             ],
             [
              0.6666666666666666,
              "#ed7953"
             ],
             [
              0.7777777777777778,
              "#fb9f3a"
             ],
             [
              0.8888888888888888,
              "#fdca26"
             ],
             [
              1,
              "#f0f921"
             ]
            ],
            "type": "histogram2d"
           }
          ],
          "histogram2dcontour": [
           {
            "colorbar": {
             "outlinewidth": 0,
             "ticks": ""
            },
            "colorscale": [
             [
              0,
              "#0d0887"
             ],
             [
              0.1111111111111111,
              "#46039f"
             ],
             [
              0.2222222222222222,
              "#7201a8"
             ],
             [
              0.3333333333333333,
              "#9c179e"
             ],
             [
              0.4444444444444444,
              "#bd3786"
             ],
             [
              0.5555555555555556,
              "#d8576b"
             ],
             [
              0.6666666666666666,
              "#ed7953"
             ],
             [
              0.7777777777777778,
              "#fb9f3a"
             ],
             [
              0.8888888888888888,
              "#fdca26"
             ],
             [
              1,
              "#f0f921"
             ]
            ],
            "type": "histogram2dcontour"
           }
          ],
          "mesh3d": [
           {
            "colorbar": {
             "outlinewidth": 0,
             "ticks": ""
            },
            "type": "mesh3d"
           }
          ],
          "parcoords": [
           {
            "line": {
             "colorbar": {
              "outlinewidth": 0,
              "ticks": ""
             }
            },
            "type": "parcoords"
           }
          ],
          "pie": [
           {
            "automargin": true,
            "type": "pie"
           }
          ],
          "scatter": [
           {
            "fillpattern": {
             "fillmode": "overlay",
             "size": 10,
             "solidity": 0.2
            },
            "type": "scatter"
           }
          ],
          "scatter3d": [
           {
            "line": {
             "colorbar": {
              "outlinewidth": 0,
              "ticks": ""
             }
            },
            "marker": {
             "colorbar": {
              "outlinewidth": 0,
              "ticks": ""
             }
            },
            "type": "scatter3d"
           }
          ],
          "scattercarpet": [
           {
            "marker": {
             "colorbar": {
              "outlinewidth": 0,
              "ticks": ""
             }
            },
            "type": "scattercarpet"
           }
          ],
          "scattergeo": [
           {
            "marker": {
             "colorbar": {
              "outlinewidth": 0,
              "ticks": ""
             }
            },
            "type": "scattergeo"
           }
          ],
          "scattergl": [
           {
            "marker": {
             "colorbar": {
              "outlinewidth": 0,
              "ticks": ""
             }
            },
            "type": "scattergl"
           }
          ],
          "scattermapbox": [
           {
            "marker": {
             "colorbar": {
              "outlinewidth": 0,
              "ticks": ""
             }
            },
            "type": "scattermapbox"
           }
          ],
          "scatterpolar": [
           {
            "marker": {
             "colorbar": {
              "outlinewidth": 0,
              "ticks": ""
             }
            },
            "type": "scatterpolar"
           }
          ],
          "scatterpolargl": [
           {
            "marker": {
             "colorbar": {
              "outlinewidth": 0,
              "ticks": ""
             }
            },
            "type": "scatterpolargl"
           }
          ],
          "scatterternary": [
           {
            "marker": {
             "colorbar": {
              "outlinewidth": 0,
              "ticks": ""
             }
            },
            "type": "scatterternary"
           }
          ],
          "surface": [
           {
            "colorbar": {
             "outlinewidth": 0,
             "ticks": ""
            },
            "colorscale": [
             [
              0,
              "#0d0887"
             ],
             [
              0.1111111111111111,
              "#46039f"
             ],
             [
              0.2222222222222222,
              "#7201a8"
             ],
             [
              0.3333333333333333,
              "#9c179e"
             ],
             [
              0.4444444444444444,
              "#bd3786"
             ],
             [
              0.5555555555555556,
              "#d8576b"
             ],
             [
              0.6666666666666666,
              "#ed7953"
             ],
             [
              0.7777777777777778,
              "#fb9f3a"
             ],
             [
              0.8888888888888888,
              "#fdca26"
             ],
             [
              1,
              "#f0f921"
             ]
            ],
            "type": "surface"
           }
          ],
          "table": [
           {
            "cells": {
             "fill": {
              "color": "#EBF0F8"
             },
             "line": {
              "color": "white"
             }
            },
            "header": {
             "fill": {
              "color": "#C8D4E3"
             },
             "line": {
              "color": "white"
             }
            },
            "type": "table"
           }
          ]
         },
         "layout": {
          "annotationdefaults": {
           "arrowcolor": "#2a3f5f",
           "arrowhead": 0,
           "arrowwidth": 1
          },
          "autotypenumbers": "strict",
          "coloraxis": {
           "colorbar": {
            "outlinewidth": 0,
            "ticks": ""
           }
          },
          "colorscale": {
           "diverging": [
            [
             0,
             "#8e0152"
            ],
            [
             0.1,
             "#c51b7d"
            ],
            [
             0.2,
             "#de77ae"
            ],
            [
             0.3,
             "#f1b6da"
            ],
            [
             0.4,
             "#fde0ef"
            ],
            [
             0.5,
             "#f7f7f7"
            ],
            [
             0.6,
             "#e6f5d0"
            ],
            [
             0.7,
             "#b8e186"
            ],
            [
             0.8,
             "#7fbc41"
            ],
            [
             0.9,
             "#4d9221"
            ],
            [
             1,
             "#276419"
            ]
           ],
           "sequential": [
            [
             0,
             "#0d0887"
            ],
            [
             0.1111111111111111,
             "#46039f"
            ],
            [
             0.2222222222222222,
             "#7201a8"
            ],
            [
             0.3333333333333333,
             "#9c179e"
            ],
            [
             0.4444444444444444,
             "#bd3786"
            ],
            [
             0.5555555555555556,
             "#d8576b"
            ],
            [
             0.6666666666666666,
             "#ed7953"
            ],
            [
             0.7777777777777778,
             "#fb9f3a"
            ],
            [
             0.8888888888888888,
             "#fdca26"
            ],
            [
             1,
             "#f0f921"
            ]
           ],
           "sequentialminus": [
            [
             0,
             "#0d0887"
            ],
            [
             0.1111111111111111,
             "#46039f"
            ],
            [
             0.2222222222222222,
             "#7201a8"
            ],
            [
             0.3333333333333333,
             "#9c179e"
            ],
            [
             0.4444444444444444,
             "#bd3786"
            ],
            [
             0.5555555555555556,
             "#d8576b"
            ],
            [
             0.6666666666666666,
             "#ed7953"
            ],
            [
             0.7777777777777778,
             "#fb9f3a"
            ],
            [
             0.8888888888888888,
             "#fdca26"
            ],
            [
             1,
             "#f0f921"
            ]
           ]
          },
          "colorway": [
           "#636efa",
           "#EF553B",
           "#00cc96",
           "#ab63fa",
           "#FFA15A",
           "#19d3f3",
           "#FF6692",
           "#B6E880",
           "#FF97FF",
           "#FECB52"
          ],
          "font": {
           "color": "#2a3f5f"
          },
          "geo": {
           "bgcolor": "white",
           "lakecolor": "white",
           "landcolor": "#E5ECF6",
           "showlakes": true,
           "showland": true,
           "subunitcolor": "white"
          },
          "hoverlabel": {
           "align": "left"
          },
          "hovermode": "closest",
          "mapbox": {
           "style": "light"
          },
          "paper_bgcolor": "white",
          "plot_bgcolor": "#E5ECF6",
          "polar": {
           "angularaxis": {
            "gridcolor": "white",
            "linecolor": "white",
            "ticks": ""
           },
           "bgcolor": "#E5ECF6",
           "radialaxis": {
            "gridcolor": "white",
            "linecolor": "white",
            "ticks": ""
           }
          },
          "scene": {
           "xaxis": {
            "backgroundcolor": "#E5ECF6",
            "gridcolor": "white",
            "gridwidth": 2,
            "linecolor": "white",
            "showbackground": true,
            "ticks": "",
            "zerolinecolor": "white"
           },
           "yaxis": {
            "backgroundcolor": "#E5ECF6",
            "gridcolor": "white",
            "gridwidth": 2,
            "linecolor": "white",
            "showbackground": true,
            "ticks": "",
            "zerolinecolor": "white"
           },
           "zaxis": {
            "backgroundcolor": "#E5ECF6",
            "gridcolor": "white",
            "gridwidth": 2,
            "linecolor": "white",
            "showbackground": true,
            "ticks": "",
            "zerolinecolor": "white"
           }
          },
          "shapedefaults": {
           "line": {
            "color": "#2a3f5f"
           }
          },
          "ternary": {
           "aaxis": {
            "gridcolor": "white",
            "linecolor": "white",
            "ticks": ""
           },
           "baxis": {
            "gridcolor": "white",
            "linecolor": "white",
            "ticks": ""
           },
           "bgcolor": "#E5ECF6",
           "caxis": {
            "gridcolor": "white",
            "linecolor": "white",
            "ticks": ""
           }
          },
          "title": {
           "x": 0.05
          },
          "xaxis": {
           "automargin": true,
           "gridcolor": "white",
           "linecolor": "white",
           "ticks": "",
           "title": {
            "standoff": 15
           },
           "zerolinecolor": "white",
           "zerolinewidth": 2
          },
          "yaxis": {
           "automargin": true,
           "gridcolor": "white",
           "linecolor": "white",
           "ticks": "",
           "title": {
            "standoff": 15
           },
           "zerolinecolor": "white",
           "zerolinewidth": 2
          }
         }
        },
        "title": {
         "text": "Bar Chart<br><sup>Missing Values of each column</sup>",
         "x": 0.5
        },
        "width": 800,
        "xaxis": {
         "anchor": "y",
         "domain": [
          0,
          1
         ],
         "title": {
          "text": "Column"
         }
        },
        "yaxis": {
         "anchor": "x",
         "domain": [
          0,
          1
         ],
         "title": {
          "text": "Percent"
         }
        }
       }
      }
     },
     "metadata": {},
     "output_type": "display_data"
    }
   ],
   "source": [
    "fig = px.bar(missing[missing.Missing > 0], x=\"Column\", y=\"Percent\", text=\"Missing\")\n",
    "fig.update_layout(\n",
    "    height=600,\n",
    "    width=800,\n",
    "    title_x=0.5,\n",
    "    title_text=f\"Bar Chart<br><sup>Missing Values of each column</sup>\"\n",
    ")\n",
    "fig.show()"
   ]
  },
  {
   "cell_type": "markdown",
   "metadata": {},
   "source": [
    "**Observation 1**\n",
    "\n",
    "Nearly all values in `rot_per` to `IR` are missing. Predicting them from the existing ones will be hard as there isn't enough data. \n",
    "\n",
    "    The best way to deal with these columns is to drop them. If I learn of a better way to handle these missing values, I'll come and deal with them later on."
   ]
  },
  {
   "cell_type": "code",
   "execution_count": 8,
   "metadata": {},
   "outputs": [
    {
     "data": {
      "text/html": [
       "<div>\n",
       "<style scoped>\n",
       "    .dataframe tbody tr th:only-of-type {\n",
       "        vertical-align: middle;\n",
       "    }\n",
       "\n",
       "    .dataframe tbody tr th {\n",
       "        vertical-align: top;\n",
       "    }\n",
       "\n",
       "    .dataframe thead th {\n",
       "        text-align: right;\n",
       "    }\n",
       "</style>\n",
       "<table border=\"1\" class=\"dataframe\">\n",
       "  <thead>\n",
       "    <tr style=\"text-align: right;\">\n",
       "      <th></th>\n",
       "      <th>Column</th>\n",
       "      <th>Missing</th>\n",
       "      <th>Percent</th>\n",
       "    </tr>\n",
       "  </thead>\n",
       "  <tbody>\n",
       "    <tr>\n",
       "      <th>21</th>\n",
       "      <td>name</td>\n",
       "      <td>817747</td>\n",
       "      <td>97.383990</td>\n",
       "    </tr>\n",
       "    <tr>\n",
       "      <th>22</th>\n",
       "      <td>rot_per</td>\n",
       "      <td>820918</td>\n",
       "      <td>97.761619</td>\n",
       "    </tr>\n",
       "    <tr>\n",
       "      <th>23</th>\n",
       "      <td>spec_B</td>\n",
       "      <td>838048</td>\n",
       "      <td>99.801599</td>\n",
       "    </tr>\n",
       "    <tr>\n",
       "      <th>24</th>\n",
       "      <td>BV</td>\n",
       "      <td>838693</td>\n",
       "      <td>99.878411</td>\n",
       "    </tr>\n",
       "    <tr>\n",
       "      <th>25</th>\n",
       "      <td>spec_T</td>\n",
       "      <td>838734</td>\n",
       "      <td>99.883294</td>\n",
       "    </tr>\n",
       "    <tr>\n",
       "      <th>26</th>\n",
       "      <td>UB</td>\n",
       "      <td>838735</td>\n",
       "      <td>99.883413</td>\n",
       "    </tr>\n",
       "    <tr>\n",
       "      <th>27</th>\n",
       "      <td>G</td>\n",
       "      <td>839595</td>\n",
       "      <td>99.985829</td>\n",
       "    </tr>\n",
       "    <tr>\n",
       "      <th>28</th>\n",
       "      <td>extent</td>\n",
       "      <td>839696</td>\n",
       "      <td>99.997856</td>\n",
       "    </tr>\n",
       "    <tr>\n",
       "      <th>29</th>\n",
       "      <td>GM</td>\n",
       "      <td>839700</td>\n",
       "      <td>99.998333</td>\n",
       "    </tr>\n",
       "    <tr>\n",
       "      <th>30</th>\n",
       "      <td>IR</td>\n",
       "      <td>839713</td>\n",
       "      <td>99.999881</td>\n",
       "    </tr>\n",
       "  </tbody>\n",
       "</table>\n",
       "</div>"
      ],
      "text/plain": [
       "     Column  Missing    Percent\n",
       "21     name   817747  97.383990\n",
       "22  rot_per   820918  97.761619\n",
       "23   spec_B   838048  99.801599\n",
       "24       BV   838693  99.878411\n",
       "25   spec_T   838734  99.883294\n",
       "26       UB   838735  99.883413\n",
       "27        G   839595  99.985829\n",
       "28   extent   839696  99.997856\n",
       "29       GM   839700  99.998333\n",
       "30       IR   839713  99.999881"
      ]
     },
     "execution_count": 8,
     "metadata": {},
     "output_type": "execute_result"
    }
   ],
   "source": [
    "missing[missing.Percent > 90]"
   ]
  },
  {
   "cell_type": "markdown",
   "metadata": {},
   "source": [
    "**Observation 2**\n",
    "\n",
    "A big chunk of `diameter` and `albedo` values are missing. \n",
    "\n",
    "    Predicting them with a Machine Learning model should be possible from the 20\\% data that is available. I'll use a simple deep learning model to do this."
   ]
  },
  {
   "cell_type": "code",
   "execution_count": 9,
   "metadata": {},
   "outputs": [
    {
     "data": {
      "text/html": [
       "<div>\n",
       "<style scoped>\n",
       "    .dataframe tbody tr th:only-of-type {\n",
       "        vertical-align: middle;\n",
       "    }\n",
       "\n",
       "    .dataframe tbody tr th {\n",
       "        vertical-align: top;\n",
       "    }\n",
       "\n",
       "    .dataframe thead th {\n",
       "        text-align: right;\n",
       "    }\n",
       "</style>\n",
       "<table border=\"1\" class=\"dataframe\">\n",
       "  <thead>\n",
       "    <tr style=\"text-align: right;\">\n",
       "      <th></th>\n",
       "      <th>Column</th>\n",
       "      <th>Missing</th>\n",
       "      <th>Percent</th>\n",
       "    </tr>\n",
       "  </thead>\n",
       "  <tbody>\n",
       "    <tr>\n",
       "      <th>19</th>\n",
       "      <td>diameter</td>\n",
       "      <td>702078</td>\n",
       "      <td>83.609181</td>\n",
       "    </tr>\n",
       "    <tr>\n",
       "      <th>20</th>\n",
       "      <td>albedo</td>\n",
       "      <td>703305</td>\n",
       "      <td>83.755302</td>\n",
       "    </tr>\n",
       "  </tbody>\n",
       "</table>\n",
       "</div>"
      ],
      "text/plain": [
       "      Column  Missing    Percent\n",
       "19  diameter   702078  83.609181\n",
       "20    albedo   703305  83.755302"
      ]
     },
     "execution_count": 9,
     "metadata": {},
     "output_type": "execute_result"
    }
   ],
   "source": [
    "missing[missing.Column.isin([\"diameter\", \"albedo\"])]"
   ]
  },
  {
   "cell_type": "markdown",
   "metadata": {},
   "source": [
    "**Observation 3**\n",
    "\n",
    "Some columns have absolutely no missing values. \n",
    "\n",
    "    Nothing needs to be done for these columns. I'll use these to help me in imputing other missing values."
   ]
  },
  {
   "cell_type": "code",
   "execution_count": 10,
   "metadata": {},
   "outputs": [
    {
     "data": {
      "text/html": [
       "<div>\n",
       "<style scoped>\n",
       "    .dataframe tbody tr th:only-of-type {\n",
       "        vertical-align: middle;\n",
       "    }\n",
       "\n",
       "    .dataframe tbody tr th {\n",
       "        vertical-align: top;\n",
       "    }\n",
       "\n",
       "    .dataframe thead th {\n",
       "        text-align: right;\n",
       "    }\n",
       "</style>\n",
       "<table border=\"1\" class=\"dataframe\">\n",
       "  <thead>\n",
       "    <tr style=\"text-align: right;\">\n",
       "      <th></th>\n",
       "      <th>Column</th>\n",
       "      <th>Missing</th>\n",
       "      <th>Percent</th>\n",
       "    </tr>\n",
       "  </thead>\n",
       "  <tbody>\n",
       "    <tr>\n",
       "      <th>0</th>\n",
       "      <td>e</td>\n",
       "      <td>0</td>\n",
       "      <td>0.0</td>\n",
       "    </tr>\n",
       "    <tr>\n",
       "      <th>1</th>\n",
       "      <td>i</td>\n",
       "      <td>0</td>\n",
       "      <td>0.0</td>\n",
       "    </tr>\n",
       "    <tr>\n",
       "      <th>2</th>\n",
       "      <td>om</td>\n",
       "      <td>0</td>\n",
       "      <td>0.0</td>\n",
       "    </tr>\n",
       "    <tr>\n",
       "      <th>3</th>\n",
       "      <td>w</td>\n",
       "      <td>0</td>\n",
       "      <td>0.0</td>\n",
       "    </tr>\n",
       "    <tr>\n",
       "      <th>4</th>\n",
       "      <td>q</td>\n",
       "      <td>0</td>\n",
       "      <td>0.0</td>\n",
       "    </tr>\n",
       "    <tr>\n",
       "      <th>5</th>\n",
       "      <td>class</td>\n",
       "      <td>0</td>\n",
       "      <td>0.0</td>\n",
       "    </tr>\n",
       "    <tr>\n",
       "      <th>6</th>\n",
       "      <td>n_obs_used</td>\n",
       "      <td>0</td>\n",
       "      <td>0.0</td>\n",
       "    </tr>\n",
       "  </tbody>\n",
       "</table>\n",
       "</div>"
      ],
      "text/plain": [
       "       Column  Missing  Percent\n",
       "0           e        0      0.0\n",
       "1           i        0      0.0\n",
       "2          om        0      0.0\n",
       "3           w        0      0.0\n",
       "4           q        0      0.0\n",
       "5       class        0      0.0\n",
       "6  n_obs_used        0      0.0"
      ]
     },
     "execution_count": 10,
     "metadata": {},
     "output_type": "execute_result"
    }
   ],
   "source": [
    "missing[missing.Missing == 0]"
   ]
  },
  {
   "cell_type": "markdown",
   "metadata": {},
   "source": [
    "**Observation 4**\n",
    "\n",
    "Most columns have $<5\\%$ data is missing. \n",
    "\n",
    "    These can be filled in using imputation techniques. For numerical columns, I'll use imputation by group median. For categorical, I'll impute by group mode."
   ]
  },
  {
   "cell_type": "code",
   "execution_count": 11,
   "metadata": {},
   "outputs": [
    {
     "data": {
      "text/html": [
       "<div>\n",
       "<style scoped>\n",
       "    .dataframe tbody tr th:only-of-type {\n",
       "        vertical-align: middle;\n",
       "    }\n",
       "\n",
       "    .dataframe tbody tr th {\n",
       "        vertical-align: top;\n",
       "    }\n",
       "\n",
       "    .dataframe thead th {\n",
       "        text-align: right;\n",
       "    }\n",
       "</style>\n",
       "<table border=\"1\" class=\"dataframe\">\n",
       "  <thead>\n",
       "    <tr style=\"text-align: right;\">\n",
       "      <th></th>\n",
       "      <th>Column</th>\n",
       "      <th>Missing</th>\n",
       "      <th>Percent</th>\n",
       "    </tr>\n",
       "  </thead>\n",
       "  <tbody>\n",
       "    <tr>\n",
       "      <th>7</th>\n",
       "      <td>per_y</td>\n",
       "      <td>1</td>\n",
       "      <td>0.000119</td>\n",
       "    </tr>\n",
       "    <tr>\n",
       "      <th>8</th>\n",
       "      <td>a</td>\n",
       "      <td>2</td>\n",
       "      <td>0.000238</td>\n",
       "    </tr>\n",
       "    <tr>\n",
       "      <th>9</th>\n",
       "      <td>n</td>\n",
       "      <td>2</td>\n",
       "      <td>0.000238</td>\n",
       "    </tr>\n",
       "    <tr>\n",
       "      <th>10</th>\n",
       "      <td>ad</td>\n",
       "      <td>6</td>\n",
       "      <td>0.000715</td>\n",
       "    </tr>\n",
       "    <tr>\n",
       "      <th>11</th>\n",
       "      <td>neo</td>\n",
       "      <td>6</td>\n",
       "      <td>0.000715</td>\n",
       "    </tr>\n",
       "    <tr>\n",
       "      <th>12</th>\n",
       "      <td>per</td>\n",
       "      <td>6</td>\n",
       "      <td>0.000715</td>\n",
       "    </tr>\n",
       "    <tr>\n",
       "      <th>13</th>\n",
       "      <td>ma</td>\n",
       "      <td>8</td>\n",
       "      <td>0.000953</td>\n",
       "    </tr>\n",
       "    <tr>\n",
       "      <th>14</th>\n",
       "      <td>condition_code</td>\n",
       "      <td>867</td>\n",
       "      <td>0.103249</td>\n",
       "    </tr>\n",
       "    <tr>\n",
       "      <th>15</th>\n",
       "      <td>H</td>\n",
       "      <td>2689</td>\n",
       "      <td>0.320228</td>\n",
       "    </tr>\n",
       "    <tr>\n",
       "      <th>16</th>\n",
       "      <td>data_arc</td>\n",
       "      <td>15474</td>\n",
       "      <td>1.842770</td>\n",
       "    </tr>\n",
       "    <tr>\n",
       "      <th>17</th>\n",
       "      <td>pha</td>\n",
       "      <td>16442</td>\n",
       "      <td>1.958048</td>\n",
       "    </tr>\n",
       "    <tr>\n",
       "      <th>18</th>\n",
       "      <td>moid</td>\n",
       "      <td>16442</td>\n",
       "      <td>1.958048</td>\n",
       "    </tr>\n",
       "  </tbody>\n",
       "</table>\n",
       "</div>"
      ],
      "text/plain": [
       "            Column  Missing   Percent\n",
       "7            per_y        1  0.000119\n",
       "8                a        2  0.000238\n",
       "9                n        2  0.000238\n",
       "10              ad        6  0.000715\n",
       "11             neo        6  0.000715\n",
       "12             per        6  0.000715\n",
       "13              ma        8  0.000953\n",
       "14  condition_code      867  0.103249\n",
       "15               H     2689  0.320228\n",
       "16        data_arc    15474  1.842770\n",
       "17             pha    16442  1.958048\n",
       "18            moid    16442  1.958048"
      ]
     },
     "execution_count": 11,
     "metadata": {},
     "output_type": "execute_result"
    }
   ],
   "source": [
    "missing[(missing.Percent < 5) & (missing.Missing > 0)]"
   ]
  },
  {
   "cell_type": "markdown",
   "metadata": {},
   "source": [
    "### Dropping Columns\n",
    "\n",
    "In this subsection, I drop the columns that have more than 90\\% of their values missing."
   ]
  },
  {
   "cell_type": "code",
   "execution_count": 12,
   "metadata": {},
   "outputs": [
    {
     "name": "stdout",
     "output_type": "stream",
     "text": [
      "After dropping, dataframe shape = (839714, 21)\n"
     ]
    }
   ],
   "source": [
    "df.drop(\n",
    "    columns=[\n",
    "        \"name\",\n",
    "        \"rot_per\",\n",
    "        \"spec_B\",\n",
    "        \"spec_T\",\n",
    "        \"G\",\n",
    "        \"BV\",\n",
    "        \"UB\",\n",
    "        \"IR\",\n",
    "        \"GM\",\n",
    "        \"extent\",\n",
    "    ],\n",
    "    inplace=True,\n",
    ")\n",
    "\n",
    "print(f\"After dropping, dataframe shape = {df.shape}\")"
   ]
  },
  {
   "cell_type": "markdown",
   "metadata": {},
   "source": [
    "### Imputation by Group\n",
    "\n",
    "In this subsection, I'll impute missing values for columns with less than 5\\% of their data missing."
   ]
  },
  {
   "cell_type": "markdown",
   "metadata": {},
   "source": [
    "#### Columns with very few missing values\n",
    "\n",
    "I think grouping by one category will be sufficient to fill in their missing values."
   ]
  },
  {
   "cell_type": "code",
   "execution_count": 13,
   "metadata": {},
   "outputs": [],
   "source": [
    "impute_columns = [\"per_y\", \"a\", \"n\", \"ad\", \"per\", \"ma\"]"
   ]
  },
  {
   "cell_type": "code",
   "execution_count": 14,
   "metadata": {},
   "outputs": [
    {
     "name": "stdout",
     "output_type": "stream",
     "text": [
      "After imputing\n"
     ]
    },
    {
     "data": {
      "text/plain": [
       "per_y    0\n",
       "a        2\n",
       "n        2\n",
       "ad       6\n",
       "per      6\n",
       "ma       2\n",
       "dtype: int64"
      ]
     },
     "execution_count": 14,
     "metadata": {},
     "output_type": "execute_result"
    }
   ],
   "source": [
    "df[impute_columns] = (\n",
    "    df.groupby(by=\"class\")\n",
    "    [impute_columns].apply(lambda x: x.fillna(x.median()))\n",
    "    .reset_index()[impute_columns]\n",
    ")\n",
    "\n",
    "print(\"After imputing\")\n",
    "df[impute_columns].isna().sum()"
   ]
  },
  {
   "cell_type": "markdown",
   "metadata": {},
   "source": [
    "Seems like some values couldn't be imputed in this case. This is due to all values of a particular group being missing. I'll impute these by grouping with some other column."
   ]
  },
  {
   "cell_type": "markdown",
   "metadata": {},
   "source": [
    "##### `neo` column"
   ]
  },
  {
   "cell_type": "code",
   "execution_count": 18,
   "metadata": {},
   "outputs": [
    {
     "data": {
      "text/html": [
       "<div>\n",
       "<style scoped>\n",
       "    .dataframe tbody tr th:only-of-type {\n",
       "        vertical-align: middle;\n",
       "    }\n",
       "\n",
       "    .dataframe tbody tr th {\n",
       "        vertical-align: top;\n",
       "    }\n",
       "\n",
       "    .dataframe thead th {\n",
       "        text-align: right;\n",
       "    }\n",
       "</style>\n",
       "<table border=\"1\" class=\"dataframe\">\n",
       "  <thead>\n",
       "    <tr style=\"text-align: right;\">\n",
       "      <th></th>\n",
       "      <th>a</th>\n",
       "      <th>e</th>\n",
       "      <th>i</th>\n",
       "      <th>om</th>\n",
       "      <th>w</th>\n",
       "      <th>q</th>\n",
       "      <th>ad</th>\n",
       "      <th>per_y</th>\n",
       "      <th>data_arc</th>\n",
       "      <th>condition_code</th>\n",
       "      <th>...</th>\n",
       "      <th>H</th>\n",
       "      <th>neo</th>\n",
       "      <th>pha</th>\n",
       "      <th>diameter</th>\n",
       "      <th>albedo</th>\n",
       "      <th>moid</th>\n",
       "      <th>class</th>\n",
       "      <th>n</th>\n",
       "      <th>per</th>\n",
       "      <th>ma</th>\n",
       "    </tr>\n",
       "  </thead>\n",
       "  <tbody>\n",
       "    <tr>\n",
       "      <th>824768</th>\n",
       "      <td>3.225987</td>\n",
       "      <td>1.201134</td>\n",
       "      <td>122.741706</td>\n",
       "      <td>24.596910</td>\n",
       "      <td>241.810536</td>\n",
       "      <td>0.255912</td>\n",
       "      <td>3.346375</td>\n",
       "      <td>5.794315</td>\n",
       "      <td>80.0</td>\n",
       "      <td>NaN</td>\n",
       "      <td>...</td>\n",
       "      <td>22.0800</td>\n",
       "      <td>NaN</td>\n",
       "      <td>N</td>\n",
       "      <td>NaN</td>\n",
       "      <td>NaN</td>\n",
       "      <td>0.095821</td>\n",
       "      <td>HYA</td>\n",
       "      <td>0.170102</td>\n",
       "      <td>2116.373688</td>\n",
       "      <td>120.046605</td>\n",
       "    </tr>\n",
       "    <tr>\n",
       "      <th>824906</th>\n",
       "      <td>3.974994</td>\n",
       "      <td>1.000826</td>\n",
       "      <td>142.636401</td>\n",
       "      <td>276.230222</td>\n",
       "      <td>326.001880</td>\n",
       "      <td>6.417550</td>\n",
       "      <td>4.596751</td>\n",
       "      <td>7.925248</td>\n",
       "      <td>798.0</td>\n",
       "      <td>NaN</td>\n",
       "      <td>...</td>\n",
       "      <td>10.6440</td>\n",
       "      <td>NaN</td>\n",
       "      <td>N</td>\n",
       "      <td>NaN</td>\n",
       "      <td>NaN</td>\n",
       "      <td>5.464480</td>\n",
       "      <td>HYA</td>\n",
       "      <td>0.124365</td>\n",
       "      <td>2894.696852</td>\n",
       "      <td>234.401961</td>\n",
       "    </tr>\n",
       "    <tr>\n",
       "      <th>836687</th>\n",
       "      <td>39.377318</td>\n",
       "      <td>1.000056</td>\n",
       "      <td>138.380218</td>\n",
       "      <td>130.468071</td>\n",
       "      <td>287.870052</td>\n",
       "      <td>5.858483</td>\n",
       "      <td>43.797854</td>\n",
       "      <td>247.102654</td>\n",
       "      <td>201.0</td>\n",
       "      <td>NaN</td>\n",
       "      <td>...</td>\n",
       "      <td>13.4340</td>\n",
       "      <td>NaN</td>\n",
       "      <td>N</td>\n",
       "      <td>NaN</td>\n",
       "      <td>NaN</td>\n",
       "      <td>5.116310</td>\n",
       "      <td>HYA</td>\n",
       "      <td>0.003989</td>\n",
       "      <td>90254.244354</td>\n",
       "      <td>156.398311</td>\n",
       "    </tr>\n",
       "    <tr>\n",
       "      <th>838330</th>\n",
       "      <td>47.952767</td>\n",
       "      <td>1.000000</td>\n",
       "      <td>89.826795</td>\n",
       "      <td>300.387873</td>\n",
       "      <td>59.801951</td>\n",
       "      <td>8.828361</td>\n",
       "      <td>56.797913</td>\n",
       "      <td>332.069285</td>\n",
       "      <td>111.0</td>\n",
       "      <td>NaN</td>\n",
       "      <td>...</td>\n",
       "      <td>9.5996</td>\n",
       "      <td>NaN</td>\n",
       "      <td>N</td>\n",
       "      <td>NaN</td>\n",
       "      <td>NaN</td>\n",
       "      <td>8.276200</td>\n",
       "      <td>PAA</td>\n",
       "      <td>0.002968</td>\n",
       "      <td>121288.306433</td>\n",
       "      <td>75.896315</td>\n",
       "    </tr>\n",
       "    <tr>\n",
       "      <th>838493</th>\n",
       "      <td>30.356806</td>\n",
       "      <td>1.000000</td>\n",
       "      <td>155.720291</td>\n",
       "      <td>42.337498</td>\n",
       "      <td>55.893065</td>\n",
       "      <td>4.997530</td>\n",
       "      <td>34.044743</td>\n",
       "      <td>167.260082</td>\n",
       "      <td>67.0</td>\n",
       "      <td>NaN</td>\n",
       "      <td>...</td>\n",
       "      <td>12.7600</td>\n",
       "      <td>NaN</td>\n",
       "      <td>N</td>\n",
       "      <td>NaN</td>\n",
       "      <td>NaN</td>\n",
       "      <td>4.063860</td>\n",
       "      <td>PAA</td>\n",
       "      <td>0.005893</td>\n",
       "      <td>61091.744882</td>\n",
       "      <td>283.309071</td>\n",
       "    </tr>\n",
       "    <tr>\n",
       "      <th>839354</th>\n",
       "      <td>69.118531</td>\n",
       "      <td>1.001016</td>\n",
       "      <td>113.525939</td>\n",
       "      <td>2.699366</td>\n",
       "      <td>181.618474</td>\n",
       "      <td>3.618257</td>\n",
       "      <td>101.406892</td>\n",
       "      <td>574.645422</td>\n",
       "      <td>18.0</td>\n",
       "      <td>NaN</td>\n",
       "      <td>...</td>\n",
       "      <td>10.4200</td>\n",
       "      <td>NaN</td>\n",
       "      <td>N</td>\n",
       "      <td>NaN</td>\n",
       "      <td>NaN</td>\n",
       "      <td>2.621050</td>\n",
       "      <td>HYA</td>\n",
       "      <td>0.001715</td>\n",
       "      <td>209889.240382</td>\n",
       "      <td>3.562422</td>\n",
       "    </tr>\n",
       "  </tbody>\n",
       "</table>\n",
       "<p>6 rows × 21 columns</p>\n",
       "</div>"
      ],
      "text/plain": [
       "                a         e           i          om           w         q  \\\n",
       "824768   3.225987  1.201134  122.741706   24.596910  241.810536  0.255912   \n",
       "824906   3.974994  1.000826  142.636401  276.230222  326.001880  6.417550   \n",
       "836687  39.377318  1.000056  138.380218  130.468071  287.870052  5.858483   \n",
       "838330  47.952767  1.000000   89.826795  300.387873   59.801951  8.828361   \n",
       "838493  30.356806  1.000000  155.720291   42.337498   55.893065  4.997530   \n",
       "839354  69.118531  1.001016  113.525939    2.699366  181.618474  3.618257   \n",
       "\n",
       "                ad       per_y  data_arc condition_code  ...        H  neo  \\\n",
       "824768    3.346375    5.794315      80.0            NaN  ...  22.0800  NaN   \n",
       "824906    4.596751    7.925248     798.0            NaN  ...  10.6440  NaN   \n",
       "836687   43.797854  247.102654     201.0            NaN  ...  13.4340  NaN   \n",
       "838330   56.797913  332.069285     111.0            NaN  ...   9.5996  NaN   \n",
       "838493   34.044743  167.260082      67.0            NaN  ...  12.7600  NaN   \n",
       "839354  101.406892  574.645422      18.0            NaN  ...  10.4200  NaN   \n",
       "\n",
       "       pha diameter albedo      moid  class         n            per  \\\n",
       "824768   N      NaN    NaN  0.095821    HYA  0.170102    2116.373688   \n",
       "824906   N      NaN    NaN  5.464480    HYA  0.124365    2894.696852   \n",
       "836687   N      NaN    NaN  5.116310    HYA  0.003989   90254.244354   \n",
       "838330   N      NaN    NaN  8.276200    PAA  0.002968  121288.306433   \n",
       "838493   N      NaN    NaN  4.063860    PAA  0.005893   61091.744882   \n",
       "839354   N      NaN    NaN  2.621050    HYA  0.001715  209889.240382   \n",
       "\n",
       "                ma  \n",
       "824768  120.046605  \n",
       "824906  234.401961  \n",
       "836687  156.398311  \n",
       "838330   75.896315  \n",
       "838493  283.309071  \n",
       "839354    3.562422  \n",
       "\n",
       "[6 rows x 21 columns]"
      ]
     },
     "execution_count": 18,
     "metadata": {},
     "output_type": "execute_result"
    }
   ],
   "source": [
    "df[df.neo.isna()]"
   ]
  },
  {
   "cell_type": "markdown",
   "metadata": {},
   "source": [
    "I can use `pha` column to group and impute. Other categorical columns, \n",
    "\n",
    "* `condition_code` is null for all these rows.\n",
    "* `class` can't be used. Because all instances of the groups have null `neo` values."
   ]
  },
  {
   "cell_type": "code",
   "execution_count": 22,
   "metadata": {},
   "outputs": [
    {
     "data": {
      "text/plain": [
       "pha\n",
       "N    N\n",
       "Y    Y\n",
       "Name: neo, dtype: object"
      ]
     },
     "execution_count": 22,
     "metadata": {},
     "output_type": "execute_result"
    }
   ],
   "source": [
    "df.groupby(\"pha\").neo.apply(lambda x: x.mode().iloc[0])"
   ]
  },
  {
   "cell_type": "markdown",
   "metadata": {},
   "source": [
    "Rows with `pha` of **N** has a `neo` mode of **N**. So, I'll impute the missing `neo` values with this."
   ]
  },
  {
   "cell_type": "code",
   "execution_count": 23,
   "metadata": {},
   "outputs": [],
   "source": [
    "df.neo.fillna(\"N\", inplace=True)"
   ]
  },
  {
   "cell_type": "markdown",
   "metadata": {},
   "source": [
    "To confirm, I should have zero missing values now."
   ]
  },
  {
   "cell_type": "code",
   "execution_count": 24,
   "metadata": {},
   "outputs": [
    {
     "data": {
      "text/plain": [
       "0"
      ]
     },
     "execution_count": 24,
     "metadata": {},
     "output_type": "execute_result"
    }
   ],
   "source": [
    "df.neo.isna().sum()"
   ]
  },
  {
   "cell_type": "markdown",
   "metadata": {},
   "source": [
    "##### `condition_code` column"
   ]
  },
  {
   "cell_type": "code",
   "execution_count": 27,
   "metadata": {},
   "outputs": [],
   "source": [
    "df[\"condition_code\"] = (\n",
    "    df.groupby([\"class\", \"neo\"])\n",
    "    .transform(lambda x: x.fillna(x.mode().iloc[0]))\n",
    "    .condition_code\n",
    ")"
   ]
  },
  {
   "cell_type": "code",
   "execution_count": 28,
   "metadata": {},
   "outputs": [
    {
     "data": {
      "text/html": [
       "<div>\n",
       "<style scoped>\n",
       "    .dataframe tbody tr th:only-of-type {\n",
       "        vertical-align: middle;\n",
       "    }\n",
       "\n",
       "    .dataframe tbody tr th {\n",
       "        vertical-align: top;\n",
       "    }\n",
       "\n",
       "    .dataframe thead th {\n",
       "        text-align: right;\n",
       "    }\n",
       "</style>\n",
       "<table border=\"1\" class=\"dataframe\">\n",
       "  <thead>\n",
       "    <tr style=\"text-align: right;\">\n",
       "      <th></th>\n",
       "      <th>a</th>\n",
       "      <th>e</th>\n",
       "      <th>i</th>\n",
       "      <th>om</th>\n",
       "      <th>w</th>\n",
       "      <th>q</th>\n",
       "      <th>ad</th>\n",
       "      <th>per_y</th>\n",
       "      <th>data_arc</th>\n",
       "      <th>condition_code</th>\n",
       "      <th>...</th>\n",
       "      <th>H</th>\n",
       "      <th>neo</th>\n",
       "      <th>pha</th>\n",
       "      <th>diameter</th>\n",
       "      <th>albedo</th>\n",
       "      <th>moid</th>\n",
       "      <th>class</th>\n",
       "      <th>n</th>\n",
       "      <th>per</th>\n",
       "      <th>ma</th>\n",
       "    </tr>\n",
       "  </thead>\n",
       "  <tbody>\n",
       "    <tr>\n",
       "      <th>824768</th>\n",
       "      <td>3.225987</td>\n",
       "      <td>1.201134</td>\n",
       "      <td>122.741706</td>\n",
       "      <td>24.596910</td>\n",
       "      <td>241.810536</td>\n",
       "      <td>0.255912</td>\n",
       "      <td>3.346375</td>\n",
       "      <td>5.794315</td>\n",
       "      <td>80.0</td>\n",
       "      <td>NaN</td>\n",
       "      <td>...</td>\n",
       "      <td>22.0800</td>\n",
       "      <td>N</td>\n",
       "      <td>N</td>\n",
       "      <td>NaN</td>\n",
       "      <td>NaN</td>\n",
       "      <td>0.095821</td>\n",
       "      <td>HYA</td>\n",
       "      <td>0.170102</td>\n",
       "      <td>2116.373688</td>\n",
       "      <td>120.046605</td>\n",
       "    </tr>\n",
       "    <tr>\n",
       "      <th>824906</th>\n",
       "      <td>3.974994</td>\n",
       "      <td>1.000826</td>\n",
       "      <td>142.636401</td>\n",
       "      <td>276.230222</td>\n",
       "      <td>326.001880</td>\n",
       "      <td>6.417550</td>\n",
       "      <td>4.596751</td>\n",
       "      <td>7.925248</td>\n",
       "      <td>798.0</td>\n",
       "      <td>NaN</td>\n",
       "      <td>...</td>\n",
       "      <td>10.6440</td>\n",
       "      <td>N</td>\n",
       "      <td>N</td>\n",
       "      <td>NaN</td>\n",
       "      <td>NaN</td>\n",
       "      <td>5.464480</td>\n",
       "      <td>HYA</td>\n",
       "      <td>0.124365</td>\n",
       "      <td>2894.696852</td>\n",
       "      <td>234.401961</td>\n",
       "    </tr>\n",
       "    <tr>\n",
       "      <th>836687</th>\n",
       "      <td>39.377318</td>\n",
       "      <td>1.000056</td>\n",
       "      <td>138.380218</td>\n",
       "      <td>130.468071</td>\n",
       "      <td>287.870052</td>\n",
       "      <td>5.858483</td>\n",
       "      <td>43.797854</td>\n",
       "      <td>247.102654</td>\n",
       "      <td>201.0</td>\n",
       "      <td>NaN</td>\n",
       "      <td>...</td>\n",
       "      <td>13.4340</td>\n",
       "      <td>N</td>\n",
       "      <td>N</td>\n",
       "      <td>NaN</td>\n",
       "      <td>NaN</td>\n",
       "      <td>5.116310</td>\n",
       "      <td>HYA</td>\n",
       "      <td>0.003989</td>\n",
       "      <td>90254.244354</td>\n",
       "      <td>156.398311</td>\n",
       "    </tr>\n",
       "    <tr>\n",
       "      <th>838330</th>\n",
       "      <td>47.952767</td>\n",
       "      <td>1.000000</td>\n",
       "      <td>89.826795</td>\n",
       "      <td>300.387873</td>\n",
       "      <td>59.801951</td>\n",
       "      <td>8.828361</td>\n",
       "      <td>56.797913</td>\n",
       "      <td>332.069285</td>\n",
       "      <td>111.0</td>\n",
       "      <td>NaN</td>\n",
       "      <td>...</td>\n",
       "      <td>9.5996</td>\n",
       "      <td>N</td>\n",
       "      <td>N</td>\n",
       "      <td>NaN</td>\n",
       "      <td>NaN</td>\n",
       "      <td>8.276200</td>\n",
       "      <td>PAA</td>\n",
       "      <td>0.002968</td>\n",
       "      <td>121288.306433</td>\n",
       "      <td>75.896315</td>\n",
       "    </tr>\n",
       "    <tr>\n",
       "      <th>838493</th>\n",
       "      <td>30.356806</td>\n",
       "      <td>1.000000</td>\n",
       "      <td>155.720291</td>\n",
       "      <td>42.337498</td>\n",
       "      <td>55.893065</td>\n",
       "      <td>4.997530</td>\n",
       "      <td>34.044743</td>\n",
       "      <td>167.260082</td>\n",
       "      <td>67.0</td>\n",
       "      <td>NaN</td>\n",
       "      <td>...</td>\n",
       "      <td>12.7600</td>\n",
       "      <td>N</td>\n",
       "      <td>N</td>\n",
       "      <td>NaN</td>\n",
       "      <td>NaN</td>\n",
       "      <td>4.063860</td>\n",
       "      <td>PAA</td>\n",
       "      <td>0.005893</td>\n",
       "      <td>61091.744882</td>\n",
       "      <td>283.309071</td>\n",
       "    </tr>\n",
       "    <tr>\n",
       "      <th>839354</th>\n",
       "      <td>69.118531</td>\n",
       "      <td>1.001016</td>\n",
       "      <td>113.525939</td>\n",
       "      <td>2.699366</td>\n",
       "      <td>181.618474</td>\n",
       "      <td>3.618257</td>\n",
       "      <td>101.406892</td>\n",
       "      <td>574.645422</td>\n",
       "      <td>18.0</td>\n",
       "      <td>NaN</td>\n",
       "      <td>...</td>\n",
       "      <td>10.4200</td>\n",
       "      <td>N</td>\n",
       "      <td>N</td>\n",
       "      <td>NaN</td>\n",
       "      <td>NaN</td>\n",
       "      <td>2.621050</td>\n",
       "      <td>HYA</td>\n",
       "      <td>0.001715</td>\n",
       "      <td>209889.240382</td>\n",
       "      <td>3.562422</td>\n",
       "    </tr>\n",
       "  </tbody>\n",
       "</table>\n",
       "<p>6 rows × 21 columns</p>\n",
       "</div>"
      ],
      "text/plain": [
       "                a         e           i          om           w         q  \\\n",
       "824768   3.225987  1.201134  122.741706   24.596910  241.810536  0.255912   \n",
       "824906   3.974994  1.000826  142.636401  276.230222  326.001880  6.417550   \n",
       "836687  39.377318  1.000056  138.380218  130.468071  287.870052  5.858483   \n",
       "838330  47.952767  1.000000   89.826795  300.387873   59.801951  8.828361   \n",
       "838493  30.356806  1.000000  155.720291   42.337498   55.893065  4.997530   \n",
       "839354  69.118531  1.001016  113.525939    2.699366  181.618474  3.618257   \n",
       "\n",
       "                ad       per_y  data_arc condition_code  ...        H  neo  \\\n",
       "824768    3.346375    5.794315      80.0            NaN  ...  22.0800    N   \n",
       "824906    4.596751    7.925248     798.0            NaN  ...  10.6440    N   \n",
       "836687   43.797854  247.102654     201.0            NaN  ...  13.4340    N   \n",
       "838330   56.797913  332.069285     111.0            NaN  ...   9.5996    N   \n",
       "838493   34.044743  167.260082      67.0            NaN  ...  12.7600    N   \n",
       "839354  101.406892  574.645422      18.0            NaN  ...  10.4200    N   \n",
       "\n",
       "       pha diameter albedo      moid  class         n            per  \\\n",
       "824768   N      NaN    NaN  0.095821    HYA  0.170102    2116.373688   \n",
       "824906   N      NaN    NaN  5.464480    HYA  0.124365    2894.696852   \n",
       "836687   N      NaN    NaN  5.116310    HYA  0.003989   90254.244354   \n",
       "838330   N      NaN    NaN  8.276200    PAA  0.002968  121288.306433   \n",
       "838493   N      NaN    NaN  4.063860    PAA  0.005893   61091.744882   \n",
       "839354   N      NaN    NaN  2.621050    HYA  0.001715  209889.240382   \n",
       "\n",
       "                ma  \n",
       "824768  120.046605  \n",
       "824906  234.401961  \n",
       "836687  156.398311  \n",
       "838330   75.896315  \n",
       "838493  283.309071  \n",
       "839354    3.562422  \n",
       "\n",
       "[6 rows x 21 columns]"
      ]
     },
     "execution_count": 28,
     "metadata": {},
     "output_type": "execute_result"
    }
   ],
   "source": [
    "df[df.condition_code.isna()]"
   ]
  },
  {
   "cell_type": "code",
   "execution_count": 30,
   "metadata": {},
   "outputs": [
    {
     "data": {
      "text/plain": [
       "neo\n",
       "N    0\n",
       "Y    0\n",
       "Name: condition_code, dtype: object"
      ]
     },
     "execution_count": 30,
     "metadata": {},
     "output_type": "execute_result"
    }
   ],
   "source": [
    "df.groupby(\"neo\").apply(lambda x: x.mode().iloc[0]).condition_code"
   ]
  },
  {
   "cell_type": "markdown",
   "metadata": {},
   "source": [
    "Rows with `neo` value **N** has mostly have a `condition_code` value of 0."
   ]
  },
  {
   "cell_type": "code",
   "execution_count": 31,
   "metadata": {},
   "outputs": [],
   "source": [
    "df.condition_code.fillna(0, inplace=True)"
   ]
  },
  {
   "cell_type": "code",
   "execution_count": 32,
   "metadata": {},
   "outputs": [
    {
     "data": {
      "text/plain": [
       "0"
      ]
     },
     "execution_count": 32,
     "metadata": {},
     "output_type": "execute_result"
    }
   ],
   "source": [
    "df.condition_code.isna().sum()"
   ]
  },
  {
   "cell_type": "markdown",
   "metadata": {},
   "source": [
    "##### `pha` column"
   ]
  },
  {
   "cell_type": "code",
   "execution_count": 39,
   "metadata": {},
   "outputs": [
    {
     "data": {
      "text/plain": [
       "0"
      ]
     },
     "execution_count": 39,
     "metadata": {},
     "output_type": "execute_result"
    }
   ],
   "source": [
    "df[\"pha\"] = (\n",
    "    df.groupby([\"neo\", \"class\"])\n",
    "    .transform(lambda x: x.fillna(x.mode().iloc[0]))\n",
    "    .pha\n",
    ")\n",
    "\n",
    "df.pha.isna().sum()"
   ]
  },
  {
   "cell_type": "code",
   "execution_count": null,
   "metadata": {},
   "outputs": [],
   "source": []
  }
 ],
 "metadata": {
  "kernelspec": {
   "display_name": ".venv",
   "language": "python",
   "name": "python3"
  },
  "language_info": {
   "codemirror_mode": {
    "name": "ipython",
    "version": 3
   },
   "file_extension": ".py",
   "mimetype": "text/x-python",
   "name": "python",
   "nbconvert_exporter": "python",
   "pygments_lexer": "ipython3",
   "version": "3.11.6"
  }
 },
 "nbformat": 4,
 "nbformat_minor": 2
}
