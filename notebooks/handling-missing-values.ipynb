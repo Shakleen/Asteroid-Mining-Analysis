{
 "cells": [
  {
   "cell_type": "code",
   "execution_count": 1,
   "metadata": {},
   "outputs": [],
   "source": [
    "import os\n",
    "\n",
    "os.chdir(\"../\")"
   ]
  },
  {
   "cell_type": "markdown",
   "metadata": {},
   "source": [
    "# Data Cleaning - Handling Missing Values\n",
    "\n",
    "The purpose of this notebook is to deal with missing values in the raw data collected from Jet Propulsion Laboratory."
   ]
  },
  {
   "cell_type": "markdown",
   "metadata": {},
   "source": [
    "## Loading Dataset\n",
    "\n",
    "In this section, I load the raw dataset and look at it's shape and column data types."
   ]
  },
  {
   "cell_type": "code",
   "execution_count": 2,
   "metadata": {},
   "outputs": [],
   "source": [
    "import pandas as pd\n",
    "import plotly.express as px"
   ]
  },
  {
   "cell_type": "code",
   "execution_count": 3,
   "metadata": {},
   "outputs": [
    {
     "name": "stdout",
     "output_type": "stream",
     "text": [
      "Number of (rows, columns) = (1340607, 43)\n"
     ]
    }
   ],
   "source": [
    "df = pd.read_csv(\"data/Asteroid_Data.csv\", low_memory=False)\n",
    "print(f\"Number of (rows, columns) = {df.shape}\")"
   ]
  },
  {
   "cell_type": "code",
   "execution_count": 4,
   "metadata": {},
   "outputs": [
    {
     "data": {
      "text/html": [
       "<div>\n",
       "<style scoped>\n",
       "    .dataframe tbody tr th:only-of-type {\n",
       "        vertical-align: middle;\n",
       "    }\n",
       "\n",
       "    .dataframe tbody tr th {\n",
       "        vertical-align: top;\n",
       "    }\n",
       "\n",
       "    .dataframe thead th {\n",
       "        text-align: right;\n",
       "    }\n",
       "</style>\n",
       "<table border=\"1\" class=\"dataframe\">\n",
       "  <thead>\n",
       "    <tr style=\"text-align: right;\">\n",
       "      <th></th>\n",
       "      <th>full_name</th>\n",
       "      <th>a</th>\n",
       "      <th>e</th>\n",
       "      <th>i</th>\n",
       "      <th>om</th>\n",
       "      <th>w</th>\n",
       "      <th>q</th>\n",
       "      <th>ad</th>\n",
       "      <th>per_y</th>\n",
       "      <th>data_arc</th>\n",
       "      <th>...</th>\n",
       "      <th>moid</th>\n",
       "      <th>moid_ld</th>\n",
       "      <th>sigma_e</th>\n",
       "      <th>sigma_a</th>\n",
       "      <th>sigma_q</th>\n",
       "      <th>sigma_i</th>\n",
       "      <th>sigma_per</th>\n",
       "      <th>class</th>\n",
       "      <th>first_obs</th>\n",
       "      <th>last_obs</th>\n",
       "    </tr>\n",
       "  </thead>\n",
       "  <tbody>\n",
       "    <tr>\n",
       "      <th>892442</th>\n",
       "      <td>(2014 KW141)</td>\n",
       "      <td>3.179</td>\n",
       "      <td>0.2239</td>\n",
       "      <td>16.58</td>\n",
       "      <td>236.92</td>\n",
       "      <td>112.95</td>\n",
       "      <td>2.467</td>\n",
       "      <td>3.89</td>\n",
       "      <td>5.67</td>\n",
       "      <td>6220.0</td>\n",
       "      <td>...</td>\n",
       "      <td>1.52</td>\n",
       "      <td>591.0</td>\n",
       "      <td>2.100000e-07</td>\n",
       "      <td>9.300000e-08</td>\n",
       "      <td>6.200000e-07</td>\n",
       "      <td>0.000035</td>\n",
       "      <td>0.000091</td>\n",
       "      <td>MBA</td>\n",
       "      <td>2004-11-19</td>\n",
       "      <td>2021-11-30</td>\n",
       "    </tr>\n",
       "    <tr>\n",
       "      <th>688827</th>\n",
       "      <td>(2006 ST162)</td>\n",
       "      <td>2.673</td>\n",
       "      <td>0.2350</td>\n",
       "      <td>12.62</td>\n",
       "      <td>195.22</td>\n",
       "      <td>236.32</td>\n",
       "      <td>2.045</td>\n",
       "      <td>3.30</td>\n",
       "      <td>4.37</td>\n",
       "      <td>4813.0</td>\n",
       "      <td>...</td>\n",
       "      <td>1.09</td>\n",
       "      <td>423.0</td>\n",
       "      <td>5.600000e-07</td>\n",
       "      <td>5.800000e-08</td>\n",
       "      <td>1.500000e-06</td>\n",
       "      <td>0.000014</td>\n",
       "      <td>0.000052</td>\n",
       "      <td>MBA</td>\n",
       "      <td>2006-09-24</td>\n",
       "      <td>2019-11-28</td>\n",
       "    </tr>\n",
       "    <tr>\n",
       "      <th>1019622</th>\n",
       "      <td>(2015 YA23)</td>\n",
       "      <td>2.596</td>\n",
       "      <td>0.2037</td>\n",
       "      <td>15.13</td>\n",
       "      <td>116.04</td>\n",
       "      <td>340.45</td>\n",
       "      <td>2.067</td>\n",
       "      <td>3.13</td>\n",
       "      <td>4.18</td>\n",
       "      <td>4374.0</td>\n",
       "      <td>...</td>\n",
       "      <td>1.09</td>\n",
       "      <td>424.0</td>\n",
       "      <td>7.500000e-07</td>\n",
       "      <td>1.800000e-07</td>\n",
       "      <td>2.100000e-06</td>\n",
       "      <td>0.000009</td>\n",
       "      <td>0.000160</td>\n",
       "      <td>MBA</td>\n",
       "      <td>2011-12-26</td>\n",
       "      <td>2023-12-17</td>\n",
       "    </tr>\n",
       "  </tbody>\n",
       "</table>\n",
       "<p>3 rows × 43 columns</p>\n",
       "</div>"
      ],
      "text/plain": [
       "                   full_name      a       e      i      om       w      q  \\\n",
       "892442          (2014 KW141)  3.179  0.2239  16.58  236.92  112.95  2.467   \n",
       "688827          (2006 ST162)  2.673  0.2350  12.62  195.22  236.32  2.045   \n",
       "1019622          (2015 YA23)  2.596  0.2037  15.13  116.04  340.45  2.067   \n",
       "\n",
       "           ad  per_y  data_arc  ...  moid  moid_ld       sigma_e  \\\n",
       "892442   3.89   5.67    6220.0  ...  1.52    591.0  2.100000e-07   \n",
       "688827   3.30   4.37    4813.0  ...  1.09    423.0  5.600000e-07   \n",
       "1019622  3.13   4.18    4374.0  ...  1.09    424.0  7.500000e-07   \n",
       "\n",
       "              sigma_a       sigma_q   sigma_i  sigma_per  class   first_obs  \\\n",
       "892442   9.300000e-08  6.200000e-07  0.000035   0.000091    MBA  2004-11-19   \n",
       "688827   5.800000e-08  1.500000e-06  0.000014   0.000052    MBA  2006-09-24   \n",
       "1019622  1.800000e-07  2.100000e-06  0.000009   0.000160    MBA  2011-12-26   \n",
       "\n",
       "           last_obs  \n",
       "892442   2021-11-30  \n",
       "688827   2019-11-28  \n",
       "1019622  2023-12-17  \n",
       "\n",
       "[3 rows x 43 columns]"
      ]
     },
     "execution_count": 4,
     "metadata": {},
     "output_type": "execute_result"
    }
   ],
   "source": [
    "df.sample(3)"
   ]
  },
  {
   "cell_type": "code",
   "execution_count": 5,
   "metadata": {},
   "outputs": [
    {
     "name": "stdout",
     "output_type": "stream",
     "text": [
      "<class 'pandas.core.frame.DataFrame'>\n",
      "RangeIndex: 1340607 entries, 0 to 1340606\n",
      "Data columns (total 43 columns):\n",
      " #   Column          Non-Null Count    Dtype  \n",
      "---  ------          --------------    -----  \n",
      " 0   full_name       1340607 non-null  object \n",
      " 1   a               1340607 non-null  float64\n",
      " 2   e               1340607 non-null  float64\n",
      " 3   i               1340607 non-null  float64\n",
      " 4   om              1340607 non-null  float64\n",
      " 5   w               1340607 non-null  float64\n",
      " 6   q               1340607 non-null  float64\n",
      " 7   ad              1340602 non-null  float64\n",
      " 8   per_y           1340602 non-null  float64\n",
      " 9   data_arc        1340063 non-null  float64\n",
      " 10  condition_code  1340584 non-null  object \n",
      " 11  n_obs_used      1340607 non-null  int64  \n",
      " 12  n_del_obs_used  1034 non-null     float64\n",
      " 13  n_dop_obs_used  1034 non-null     float64\n",
      " 14  H               1339457 non-null  float64\n",
      " 15  epoch_mjd       1340607 non-null  int64  \n",
      " 16  ma              1340606 non-null  float64\n",
      " 17  diameter        139624 non-null   float64\n",
      " 18  extent          20 non-null       object \n",
      " 19  albedo          138496 non-null   float64\n",
      " 20  rot_per         34103 non-null    float64\n",
      " 21  GM              15 non-null       float64\n",
      " 22  BV              1021 non-null     float64\n",
      " 23  UB              979 non-null      float64\n",
      " 24  IR              1 non-null        float64\n",
      " 25  spec_B          1666 non-null     object \n",
      " 26  spec_T          980 non-null      object \n",
      " 27  neo             1340602 non-null  object \n",
      " 28  pha             1338494 non-null  object \n",
      " 29  G               119 non-null      float64\n",
      " 30  diameter_sigma  139499 non-null   float64\n",
      " 31  n               1340607 non-null  float64\n",
      " 32  per             1340602 non-null  float64\n",
      " 33  moid            1338495 non-null  float64\n",
      " 34  moid_ld         1338495 non-null  float64\n",
      " 35  sigma_e         1338494 non-null  float64\n",
      " 36  sigma_a         1338494 non-null  float64\n",
      " 37  sigma_q         1338494 non-null  float64\n",
      " 38  sigma_i         1338494 non-null  float64\n",
      " 39  sigma_per       1338489 non-null  float64\n",
      " 40  class           1340607 non-null  object \n",
      " 41  first_obs       1340607 non-null  object \n",
      " 42  last_obs        1340607 non-null  object \n",
      "dtypes: float64(31), int64(2), object(10)\n",
      "memory usage: 439.8+ MB\n"
     ]
    }
   ],
   "source": [
    "df.info()"
   ]
  },
  {
   "cell_type": "markdown",
   "metadata": {},
   "source": [
    "## Identify Missing Columns\n",
    "\n",
    "In this section, I'll identify which columns have missing values. What percentage of the values are missing. I visualize the missing statistics in a bar plot. I, then, chart a course on how to handle the different levels of missing values."
   ]
  },
  {
   "cell_type": "code",
   "execution_count": 6,
   "metadata": {},
   "outputs": [],
   "source": [
    "missing = pd.DataFrame(\n",
    "    df.apply(lambda x: x.isna(), axis=1).sum().sort_values(ascending=True)\n",
    ").reset_index()\n",
    "\n",
    "missing.rename(columns={0: \"Missing\", \"index\": \"Column\"}, inplace=True)\n",
    "missing[\"Percent\"] = missing[\"Missing\"] / df.shape[0] * 100"
   ]
  },
  {
   "cell_type": "code",
   "execution_count": 7,
   "metadata": {},
   "outputs": [
    {
     "data": {
      "application/vnd.plotly.v1+json": {
       "config": {
        "plotlyServerURL": "https://plot.ly"
       },
       "data": [
        {
         "alignmentgroup": "True",
         "hovertemplate": "Column=%{x}<br>Percent=%{y}<br>Missing=%{text}<extra></extra>",
         "legendgroup": "",
         "marker": {
          "color": "#636efa",
          "pattern": {
           "shape": ""
          }
         },
         "name": "",
         "offsetgroup": "",
         "orientation": "v",
         "showlegend": false,
         "text": [
          1,
          5,
          5,
          5,
          5,
          23,
          544,
          1150,
          2112,
          2112,
          2113,
          2113,
          2113,
          2113,
          2113,
          2118,
          1200983,
          1201108,
          1202111,
          1306504,
          1338941,
          1339573,
          1339573,
          1339586,
          1339627,
          1339628,
          1340488,
          1340587,
          1340592,
          1340606
         ],
         "textposition": "auto",
         "type": "bar",
         "x": [
          "ma",
          "per",
          "neo",
          "ad",
          "per_y",
          "condition_code",
          "data_arc",
          "H",
          "moid_ld",
          "moid",
          "pha",
          "sigma_i",
          "sigma_q",
          "sigma_a",
          "sigma_e",
          "sigma_per",
          "diameter",
          "diameter_sigma",
          "albedo",
          "rot_per",
          "spec_B",
          "n_del_obs_used",
          "n_dop_obs_used",
          "BV",
          "spec_T",
          "UB",
          "G",
          "extent",
          "GM",
          "IR"
         ],
         "xaxis": "x",
         "y": [
          0.00007459307612148826,
          0.0003729653806074413,
          0.0003729653806074413,
          0.0003729653806074413,
          0.0003729653806074413,
          0.0017156407507942298,
          0.04057863341008961,
          0.08578203753971149,
          0.15754057676858318,
          0.15754057676858318,
          0.15761516984470467,
          0.15761516984470467,
          0.15761516984470467,
          0.15761516984470467,
          0.15761516984470467,
          0.15798813522531213,
          89.58501633961332,
          89.59434047412851,
          89.66915732947837,
          97.45615232502888,
          99.8757279351816,
          99.92287075929039,
          99.92287075929039,
          99.92384046927995,
          99.92689878540094,
          99.92697337847706,
          99.99112342394154,
          99.99850813847758,
          99.99888110385817,
          99.99992540692388
         ],
         "yaxis": "y"
        }
       ],
       "layout": {
        "barmode": "relative",
        "height": 600,
        "legend": {
         "tracegroupgap": 0
        },
        "margin": {
         "t": 60
        },
        "template": {
         "data": {
          "bar": [
           {
            "error_x": {
             "color": "#2a3f5f"
            },
            "error_y": {
             "color": "#2a3f5f"
            },
            "marker": {
             "line": {
              "color": "#E5ECF6",
              "width": 0.5
             },
             "pattern": {
              "fillmode": "overlay",
              "size": 10,
              "solidity": 0.2
             }
            },
            "type": "bar"
           }
          ],
          "barpolar": [
           {
            "marker": {
             "line": {
              "color": "#E5ECF6",
              "width": 0.5
             },
             "pattern": {
              "fillmode": "overlay",
              "size": 10,
              "solidity": 0.2
             }
            },
            "type": "barpolar"
           }
          ],
          "carpet": [
           {
            "aaxis": {
             "endlinecolor": "#2a3f5f",
             "gridcolor": "white",
             "linecolor": "white",
             "minorgridcolor": "white",
             "startlinecolor": "#2a3f5f"
            },
            "baxis": {
             "endlinecolor": "#2a3f5f",
             "gridcolor": "white",
             "linecolor": "white",
             "minorgridcolor": "white",
             "startlinecolor": "#2a3f5f"
            },
            "type": "carpet"
           }
          ],
          "choropleth": [
           {
            "colorbar": {
             "outlinewidth": 0,
             "ticks": ""
            },
            "type": "choropleth"
           }
          ],
          "contour": [
           {
            "colorbar": {
             "outlinewidth": 0,
             "ticks": ""
            },
            "colorscale": [
             [
              0,
              "#0d0887"
             ],
             [
              0.1111111111111111,
              "#46039f"
             ],
             [
              0.2222222222222222,
              "#7201a8"
             ],
             [
              0.3333333333333333,
              "#9c179e"
             ],
             [
              0.4444444444444444,
              "#bd3786"
             ],
             [
              0.5555555555555556,
              "#d8576b"
             ],
             [
              0.6666666666666666,
              "#ed7953"
             ],
             [
              0.7777777777777778,
              "#fb9f3a"
             ],
             [
              0.8888888888888888,
              "#fdca26"
             ],
             [
              1,
              "#f0f921"
             ]
            ],
            "type": "contour"
           }
          ],
          "contourcarpet": [
           {
            "colorbar": {
             "outlinewidth": 0,
             "ticks": ""
            },
            "type": "contourcarpet"
           }
          ],
          "heatmap": [
           {
            "colorbar": {
             "outlinewidth": 0,
             "ticks": ""
            },
            "colorscale": [
             [
              0,
              "#0d0887"
             ],
             [
              0.1111111111111111,
              "#46039f"
             ],
             [
              0.2222222222222222,
              "#7201a8"
             ],
             [
              0.3333333333333333,
              "#9c179e"
             ],
             [
              0.4444444444444444,
              "#bd3786"
             ],
             [
              0.5555555555555556,
              "#d8576b"
             ],
             [
              0.6666666666666666,
              "#ed7953"
             ],
             [
              0.7777777777777778,
              "#fb9f3a"
             ],
             [
              0.8888888888888888,
              "#fdca26"
             ],
             [
              1,
              "#f0f921"
             ]
            ],
            "type": "heatmap"
           }
          ],
          "heatmapgl": [
           {
            "colorbar": {
             "outlinewidth": 0,
             "ticks": ""
            },
            "colorscale": [
             [
              0,
              "#0d0887"
             ],
             [
              0.1111111111111111,
              "#46039f"
             ],
             [
              0.2222222222222222,
              "#7201a8"
             ],
             [
              0.3333333333333333,
              "#9c179e"
             ],
             [
              0.4444444444444444,
              "#bd3786"
             ],
             [
              0.5555555555555556,
              "#d8576b"
             ],
             [
              0.6666666666666666,
              "#ed7953"
             ],
             [
              0.7777777777777778,
              "#fb9f3a"
             ],
             [
              0.8888888888888888,
              "#fdca26"
             ],
             [
              1,
              "#f0f921"
             ]
            ],
            "type": "heatmapgl"
           }
          ],
          "histogram": [
           {
            "marker": {
             "pattern": {
              "fillmode": "overlay",
              "size": 10,
              "solidity": 0.2
             }
            },
            "type": "histogram"
           }
          ],
          "histogram2d": [
           {
            "colorbar": {
             "outlinewidth": 0,
             "ticks": ""
            },
            "colorscale": [
             [
              0,
              "#0d0887"
             ],
             [
              0.1111111111111111,
              "#46039f"
             ],
             [
              0.2222222222222222,
              "#7201a8"
             ],
             [
              0.3333333333333333,
              "#9c179e"
             ],
             [
              0.4444444444444444,
              "#bd3786"
             ],
             [
              0.5555555555555556,
              "#d8576b"
             ],
             [
              0.6666666666666666,
              "#ed7953"
             ],
             [
              0.7777777777777778,
              "#fb9f3a"
             ],
             [
              0.8888888888888888,
              "#fdca26"
             ],
             [
              1,
              "#f0f921"
             ]
            ],
            "type": "histogram2d"
           }
          ],
          "histogram2dcontour": [
           {
            "colorbar": {
             "outlinewidth": 0,
             "ticks": ""
            },
            "colorscale": [
             [
              0,
              "#0d0887"
             ],
             [
              0.1111111111111111,
              "#46039f"
             ],
             [
              0.2222222222222222,
              "#7201a8"
             ],
             [
              0.3333333333333333,
              "#9c179e"
             ],
             [
              0.4444444444444444,
              "#bd3786"
             ],
             [
              0.5555555555555556,
              "#d8576b"
             ],
             [
              0.6666666666666666,
              "#ed7953"
             ],
             [
              0.7777777777777778,
              "#fb9f3a"
             ],
             [
              0.8888888888888888,
              "#fdca26"
             ],
             [
              1,
              "#f0f921"
             ]
            ],
            "type": "histogram2dcontour"
           }
          ],
          "mesh3d": [
           {
            "colorbar": {
             "outlinewidth": 0,
             "ticks": ""
            },
            "type": "mesh3d"
           }
          ],
          "parcoords": [
           {
            "line": {
             "colorbar": {
              "outlinewidth": 0,
              "ticks": ""
             }
            },
            "type": "parcoords"
           }
          ],
          "pie": [
           {
            "automargin": true,
            "type": "pie"
           }
          ],
          "scatter": [
           {
            "fillpattern": {
             "fillmode": "overlay",
             "size": 10,
             "solidity": 0.2
            },
            "type": "scatter"
           }
          ],
          "scatter3d": [
           {
            "line": {
             "colorbar": {
              "outlinewidth": 0,
              "ticks": ""
             }
            },
            "marker": {
             "colorbar": {
              "outlinewidth": 0,
              "ticks": ""
             }
            },
            "type": "scatter3d"
           }
          ],
          "scattercarpet": [
           {
            "marker": {
             "colorbar": {
              "outlinewidth": 0,
              "ticks": ""
             }
            },
            "type": "scattercarpet"
           }
          ],
          "scattergeo": [
           {
            "marker": {
             "colorbar": {
              "outlinewidth": 0,
              "ticks": ""
             }
            },
            "type": "scattergeo"
           }
          ],
          "scattergl": [
           {
            "marker": {
             "colorbar": {
              "outlinewidth": 0,
              "ticks": ""
             }
            },
            "type": "scattergl"
           }
          ],
          "scattermapbox": [
           {
            "marker": {
             "colorbar": {
              "outlinewidth": 0,
              "ticks": ""
             }
            },
            "type": "scattermapbox"
           }
          ],
          "scatterpolar": [
           {
            "marker": {
             "colorbar": {
              "outlinewidth": 0,
              "ticks": ""
             }
            },
            "type": "scatterpolar"
           }
          ],
          "scatterpolargl": [
           {
            "marker": {
             "colorbar": {
              "outlinewidth": 0,
              "ticks": ""
             }
            },
            "type": "scatterpolargl"
           }
          ],
          "scatterternary": [
           {
            "marker": {
             "colorbar": {
              "outlinewidth": 0,
              "ticks": ""
             }
            },
            "type": "scatterternary"
           }
          ],
          "surface": [
           {
            "colorbar": {
             "outlinewidth": 0,
             "ticks": ""
            },
            "colorscale": [
             [
              0,
              "#0d0887"
             ],
             [
              0.1111111111111111,
              "#46039f"
             ],
             [
              0.2222222222222222,
              "#7201a8"
             ],
             [
              0.3333333333333333,
              "#9c179e"
             ],
             [
              0.4444444444444444,
              "#bd3786"
             ],
             [
              0.5555555555555556,
              "#d8576b"
             ],
             [
              0.6666666666666666,
              "#ed7953"
             ],
             [
              0.7777777777777778,
              "#fb9f3a"
             ],
             [
              0.8888888888888888,
              "#fdca26"
             ],
             [
              1,
              "#f0f921"
             ]
            ],
            "type": "surface"
           }
          ],
          "table": [
           {
            "cells": {
             "fill": {
              "color": "#EBF0F8"
             },
             "line": {
              "color": "white"
             }
            },
            "header": {
             "fill": {
              "color": "#C8D4E3"
             },
             "line": {
              "color": "white"
             }
            },
            "type": "table"
           }
          ]
         },
         "layout": {
          "annotationdefaults": {
           "arrowcolor": "#2a3f5f",
           "arrowhead": 0,
           "arrowwidth": 1
          },
          "autotypenumbers": "strict",
          "coloraxis": {
           "colorbar": {
            "outlinewidth": 0,
            "ticks": ""
           }
          },
          "colorscale": {
           "diverging": [
            [
             0,
             "#8e0152"
            ],
            [
             0.1,
             "#c51b7d"
            ],
            [
             0.2,
             "#de77ae"
            ],
            [
             0.3,
             "#f1b6da"
            ],
            [
             0.4,
             "#fde0ef"
            ],
            [
             0.5,
             "#f7f7f7"
            ],
            [
             0.6,
             "#e6f5d0"
            ],
            [
             0.7,
             "#b8e186"
            ],
            [
             0.8,
             "#7fbc41"
            ],
            [
             0.9,
             "#4d9221"
            ],
            [
             1,
             "#276419"
            ]
           ],
           "sequential": [
            [
             0,
             "#0d0887"
            ],
            [
             0.1111111111111111,
             "#46039f"
            ],
            [
             0.2222222222222222,
             "#7201a8"
            ],
            [
             0.3333333333333333,
             "#9c179e"
            ],
            [
             0.4444444444444444,
             "#bd3786"
            ],
            [
             0.5555555555555556,
             "#d8576b"
            ],
            [
             0.6666666666666666,
             "#ed7953"
            ],
            [
             0.7777777777777778,
             "#fb9f3a"
            ],
            [
             0.8888888888888888,
             "#fdca26"
            ],
            [
             1,
             "#f0f921"
            ]
           ],
           "sequentialminus": [
            [
             0,
             "#0d0887"
            ],
            [
             0.1111111111111111,
             "#46039f"
            ],
            [
             0.2222222222222222,
             "#7201a8"
            ],
            [
             0.3333333333333333,
             "#9c179e"
            ],
            [
             0.4444444444444444,
             "#bd3786"
            ],
            [
             0.5555555555555556,
             "#d8576b"
            ],
            [
             0.6666666666666666,
             "#ed7953"
            ],
            [
             0.7777777777777778,
             "#fb9f3a"
            ],
            [
             0.8888888888888888,
             "#fdca26"
            ],
            [
             1,
             "#f0f921"
            ]
           ]
          },
          "colorway": [
           "#636efa",
           "#EF553B",
           "#00cc96",
           "#ab63fa",
           "#FFA15A",
           "#19d3f3",
           "#FF6692",
           "#B6E880",
           "#FF97FF",
           "#FECB52"
          ],
          "font": {
           "color": "#2a3f5f"
          },
          "geo": {
           "bgcolor": "white",
           "lakecolor": "white",
           "landcolor": "#E5ECF6",
           "showlakes": true,
           "showland": true,
           "subunitcolor": "white"
          },
          "hoverlabel": {
           "align": "left"
          },
          "hovermode": "closest",
          "mapbox": {
           "style": "light"
          },
          "paper_bgcolor": "white",
          "plot_bgcolor": "#E5ECF6",
          "polar": {
           "angularaxis": {
            "gridcolor": "white",
            "linecolor": "white",
            "ticks": ""
           },
           "bgcolor": "#E5ECF6",
           "radialaxis": {
            "gridcolor": "white",
            "linecolor": "white",
            "ticks": ""
           }
          },
          "scene": {
           "xaxis": {
            "backgroundcolor": "#E5ECF6",
            "gridcolor": "white",
            "gridwidth": 2,
            "linecolor": "white",
            "showbackground": true,
            "ticks": "",
            "zerolinecolor": "white"
           },
           "yaxis": {
            "backgroundcolor": "#E5ECF6",
            "gridcolor": "white",
            "gridwidth": 2,
            "linecolor": "white",
            "showbackground": true,
            "ticks": "",
            "zerolinecolor": "white"
           },
           "zaxis": {
            "backgroundcolor": "#E5ECF6",
            "gridcolor": "white",
            "gridwidth": 2,
            "linecolor": "white",
            "showbackground": true,
            "ticks": "",
            "zerolinecolor": "white"
           }
          },
          "shapedefaults": {
           "line": {
            "color": "#2a3f5f"
           }
          },
          "ternary": {
           "aaxis": {
            "gridcolor": "white",
            "linecolor": "white",
            "ticks": ""
           },
           "baxis": {
            "gridcolor": "white",
            "linecolor": "white",
            "ticks": ""
           },
           "bgcolor": "#E5ECF6",
           "caxis": {
            "gridcolor": "white",
            "linecolor": "white",
            "ticks": ""
           }
          },
          "title": {
           "x": 0.05
          },
          "xaxis": {
           "automargin": true,
           "gridcolor": "white",
           "linecolor": "white",
           "ticks": "",
           "title": {
            "standoff": 15
           },
           "zerolinecolor": "white",
           "zerolinewidth": 2
          },
          "yaxis": {
           "automargin": true,
           "gridcolor": "white",
           "linecolor": "white",
           "ticks": "",
           "title": {
            "standoff": 15
           },
           "zerolinecolor": "white",
           "zerolinewidth": 2
          }
         }
        },
        "title": {
         "text": "Bar Chart<br><sup>Missing Values of each column</sup>",
         "x": 0.5
        },
        "width": 800,
        "xaxis": {
         "anchor": "y",
         "domain": [
          0,
          1
         ],
         "title": {
          "text": "Column"
         }
        },
        "yaxis": {
         "anchor": "x",
         "domain": [
          0,
          1
         ],
         "title": {
          "text": "Percent"
         }
        }
       }
      }
     },
     "metadata": {},
     "output_type": "display_data"
    }
   ],
   "source": [
    "fig = px.bar(missing[missing.Missing > 0], x=\"Column\", y=\"Percent\", text=\"Missing\")\n",
    "fig.update_layout(\n",
    "    height=600,\n",
    "    width=800,\n",
    "    title_x=0.5,\n",
    "    title_text=f\"Bar Chart<br><sup>Missing Values of each column</sup>\",\n",
    ")\n",
    "fig.show()"
   ]
  },
  {
   "cell_type": "markdown",
   "metadata": {},
   "source": [
    "### Observation 1\n",
    "\n",
    "Nearly all values in `rot_per` to `IR` are missing. Predicting them from the existing ones will be hard as there isn't enough data. \n",
    "\n",
    "    The best way to deal with these columns is to drop them. If I learn of a better way to handle these missing values, \n",
    "    I'll come and deal with them later on."
   ]
  },
  {
   "cell_type": "code",
   "execution_count": 8,
   "metadata": {},
   "outputs": [
    {
     "data": {
      "text/html": [
       "<div>\n",
       "<style scoped>\n",
       "    .dataframe tbody tr th:only-of-type {\n",
       "        vertical-align: middle;\n",
       "    }\n",
       "\n",
       "    .dataframe tbody tr th {\n",
       "        vertical-align: top;\n",
       "    }\n",
       "\n",
       "    .dataframe thead th {\n",
       "        text-align: right;\n",
       "    }\n",
       "</style>\n",
       "<table border=\"1\" class=\"dataframe\">\n",
       "  <thead>\n",
       "    <tr style=\"text-align: right;\">\n",
       "      <th></th>\n",
       "      <th>Column</th>\n",
       "      <th>Missing</th>\n",
       "      <th>Percent</th>\n",
       "    </tr>\n",
       "  </thead>\n",
       "  <tbody>\n",
       "    <tr>\n",
       "      <th>32</th>\n",
       "      <td>rot_per</td>\n",
       "      <td>1306504</td>\n",
       "      <td>97.456152</td>\n",
       "    </tr>\n",
       "    <tr>\n",
       "      <th>33</th>\n",
       "      <td>spec_B</td>\n",
       "      <td>1338941</td>\n",
       "      <td>99.875728</td>\n",
       "    </tr>\n",
       "    <tr>\n",
       "      <th>34</th>\n",
       "      <td>n_del_obs_used</td>\n",
       "      <td>1339573</td>\n",
       "      <td>99.922871</td>\n",
       "    </tr>\n",
       "    <tr>\n",
       "      <th>35</th>\n",
       "      <td>n_dop_obs_used</td>\n",
       "      <td>1339573</td>\n",
       "      <td>99.922871</td>\n",
       "    </tr>\n",
       "    <tr>\n",
       "      <th>36</th>\n",
       "      <td>BV</td>\n",
       "      <td>1339586</td>\n",
       "      <td>99.923840</td>\n",
       "    </tr>\n",
       "    <tr>\n",
       "      <th>37</th>\n",
       "      <td>spec_T</td>\n",
       "      <td>1339627</td>\n",
       "      <td>99.926899</td>\n",
       "    </tr>\n",
       "    <tr>\n",
       "      <th>38</th>\n",
       "      <td>UB</td>\n",
       "      <td>1339628</td>\n",
       "      <td>99.926973</td>\n",
       "    </tr>\n",
       "    <tr>\n",
       "      <th>39</th>\n",
       "      <td>G</td>\n",
       "      <td>1340488</td>\n",
       "      <td>99.991123</td>\n",
       "    </tr>\n",
       "    <tr>\n",
       "      <th>40</th>\n",
       "      <td>extent</td>\n",
       "      <td>1340587</td>\n",
       "      <td>99.998508</td>\n",
       "    </tr>\n",
       "    <tr>\n",
       "      <th>41</th>\n",
       "      <td>GM</td>\n",
       "      <td>1340592</td>\n",
       "      <td>99.998881</td>\n",
       "    </tr>\n",
       "    <tr>\n",
       "      <th>42</th>\n",
       "      <td>IR</td>\n",
       "      <td>1340606</td>\n",
       "      <td>99.999925</td>\n",
       "    </tr>\n",
       "  </tbody>\n",
       "</table>\n",
       "</div>"
      ],
      "text/plain": [
       "            Column  Missing    Percent\n",
       "32         rot_per  1306504  97.456152\n",
       "33          spec_B  1338941  99.875728\n",
       "34  n_del_obs_used  1339573  99.922871\n",
       "35  n_dop_obs_used  1339573  99.922871\n",
       "36              BV  1339586  99.923840\n",
       "37          spec_T  1339627  99.926899\n",
       "38              UB  1339628  99.926973\n",
       "39               G  1340488  99.991123\n",
       "40          extent  1340587  99.998508\n",
       "41              GM  1340592  99.998881\n",
       "42              IR  1340606  99.999925"
      ]
     },
     "execution_count": 8,
     "metadata": {},
     "output_type": "execute_result"
    }
   ],
   "source": [
    "missing[missing.Percent > 90]"
   ]
  },
  {
   "cell_type": "markdown",
   "metadata": {},
   "source": [
    "### Observation 2\n",
    "\n",
    "A big chunk of `diameter` and `albedo` values are missing. \n",
    "\n",
    "    Predicting them with a Machine Learning model should be possible from the 20\\% data that is available. \n",
    "    I'll use a deep learning model to do this."
   ]
  },
  {
   "cell_type": "code",
   "execution_count": 9,
   "metadata": {},
   "outputs": [
    {
     "data": {
      "text/html": [
       "<div>\n",
       "<style scoped>\n",
       "    .dataframe tbody tr th:only-of-type {\n",
       "        vertical-align: middle;\n",
       "    }\n",
       "\n",
       "    .dataframe tbody tr th {\n",
       "        vertical-align: top;\n",
       "    }\n",
       "\n",
       "    .dataframe thead th {\n",
       "        text-align: right;\n",
       "    }\n",
       "</style>\n",
       "<table border=\"1\" class=\"dataframe\">\n",
       "  <thead>\n",
       "    <tr style=\"text-align: right;\">\n",
       "      <th></th>\n",
       "      <th>Column</th>\n",
       "      <th>Missing</th>\n",
       "      <th>Percent</th>\n",
       "    </tr>\n",
       "  </thead>\n",
       "  <tbody>\n",
       "    <tr>\n",
       "      <th>29</th>\n",
       "      <td>diameter</td>\n",
       "      <td>1200983</td>\n",
       "      <td>89.585016</td>\n",
       "    </tr>\n",
       "    <tr>\n",
       "      <th>31</th>\n",
       "      <td>albedo</td>\n",
       "      <td>1202111</td>\n",
       "      <td>89.669157</td>\n",
       "    </tr>\n",
       "  </tbody>\n",
       "</table>\n",
       "</div>"
      ],
      "text/plain": [
       "      Column  Missing    Percent\n",
       "29  diameter  1200983  89.585016\n",
       "31    albedo  1202111  89.669157"
      ]
     },
     "execution_count": 9,
     "metadata": {},
     "output_type": "execute_result"
    }
   ],
   "source": [
    "missing[missing.Column.isin([\"diameter\", \"albedo\"])]"
   ]
  },
  {
   "cell_type": "markdown",
   "metadata": {},
   "source": [
    "### Observation 3\n",
    "\n",
    "Some columns have absolutely no missing values. \n",
    "\n",
    "    Nothing needs to be done for these columns. I'll use these to help me in imputing other missing values."
   ]
  },
  {
   "cell_type": "code",
   "execution_count": 10,
   "metadata": {},
   "outputs": [
    {
     "data": {
      "text/html": [
       "<div>\n",
       "<style scoped>\n",
       "    .dataframe tbody tr th:only-of-type {\n",
       "        vertical-align: middle;\n",
       "    }\n",
       "\n",
       "    .dataframe tbody tr th {\n",
       "        vertical-align: top;\n",
       "    }\n",
       "\n",
       "    .dataframe thead th {\n",
       "        text-align: right;\n",
       "    }\n",
       "</style>\n",
       "<table border=\"1\" class=\"dataframe\">\n",
       "  <thead>\n",
       "    <tr style=\"text-align: right;\">\n",
       "      <th></th>\n",
       "      <th>Column</th>\n",
       "      <th>Missing</th>\n",
       "      <th>Percent</th>\n",
       "    </tr>\n",
       "  </thead>\n",
       "  <tbody>\n",
       "    <tr>\n",
       "      <th>0</th>\n",
       "      <td>full_name</td>\n",
       "      <td>0</td>\n",
       "      <td>0.0</td>\n",
       "    </tr>\n",
       "    <tr>\n",
       "      <th>1</th>\n",
       "      <td>class</td>\n",
       "      <td>0</td>\n",
       "      <td>0.0</td>\n",
       "    </tr>\n",
       "    <tr>\n",
       "      <th>2</th>\n",
       "      <td>n</td>\n",
       "      <td>0</td>\n",
       "      <td>0.0</td>\n",
       "    </tr>\n",
       "    <tr>\n",
       "      <th>3</th>\n",
       "      <td>first_obs</td>\n",
       "      <td>0</td>\n",
       "      <td>0.0</td>\n",
       "    </tr>\n",
       "    <tr>\n",
       "      <th>4</th>\n",
       "      <td>epoch_mjd</td>\n",
       "      <td>0</td>\n",
       "      <td>0.0</td>\n",
       "    </tr>\n",
       "    <tr>\n",
       "      <th>5</th>\n",
       "      <td>n_obs_used</td>\n",
       "      <td>0</td>\n",
       "      <td>0.0</td>\n",
       "    </tr>\n",
       "    <tr>\n",
       "      <th>6</th>\n",
       "      <td>last_obs</td>\n",
       "      <td>0</td>\n",
       "      <td>0.0</td>\n",
       "    </tr>\n",
       "    <tr>\n",
       "      <th>7</th>\n",
       "      <td>a</td>\n",
       "      <td>0</td>\n",
       "      <td>0.0</td>\n",
       "    </tr>\n",
       "    <tr>\n",
       "      <th>8</th>\n",
       "      <td>e</td>\n",
       "      <td>0</td>\n",
       "      <td>0.0</td>\n",
       "    </tr>\n",
       "    <tr>\n",
       "      <th>9</th>\n",
       "      <td>w</td>\n",
       "      <td>0</td>\n",
       "      <td>0.0</td>\n",
       "    </tr>\n",
       "    <tr>\n",
       "      <th>10</th>\n",
       "      <td>q</td>\n",
       "      <td>0</td>\n",
       "      <td>0.0</td>\n",
       "    </tr>\n",
       "    <tr>\n",
       "      <th>11</th>\n",
       "      <td>i</td>\n",
       "      <td>0</td>\n",
       "      <td>0.0</td>\n",
       "    </tr>\n",
       "    <tr>\n",
       "      <th>12</th>\n",
       "      <td>om</td>\n",
       "      <td>0</td>\n",
       "      <td>0.0</td>\n",
       "    </tr>\n",
       "  </tbody>\n",
       "</table>\n",
       "</div>"
      ],
      "text/plain": [
       "        Column  Missing  Percent\n",
       "0    full_name        0      0.0\n",
       "1        class        0      0.0\n",
       "2            n        0      0.0\n",
       "3    first_obs        0      0.0\n",
       "4    epoch_mjd        0      0.0\n",
       "5   n_obs_used        0      0.0\n",
       "6     last_obs        0      0.0\n",
       "7            a        0      0.0\n",
       "8            e        0      0.0\n",
       "9            w        0      0.0\n",
       "10           q        0      0.0\n",
       "11           i        0      0.0\n",
       "12          om        0      0.0"
      ]
     },
     "execution_count": 10,
     "metadata": {},
     "output_type": "execute_result"
    }
   ],
   "source": [
    "missing[missing.Missing == 0]"
   ]
  },
  {
   "cell_type": "markdown",
   "metadata": {},
   "source": [
    "### Observation 4\n",
    "\n",
    "Most columns have $<5\\%$ data is missing. \n",
    "\n",
    "    These can be filled in using imputation techniques. \n",
    "    \n",
    "* For numerical columns, I'll use imputation by group median. \n",
    "\n",
    "* For categorical, I'll impute by group mode."
   ]
  },
  {
   "cell_type": "code",
   "execution_count": 11,
   "metadata": {},
   "outputs": [
    {
     "data": {
      "text/html": [
       "<div>\n",
       "<style scoped>\n",
       "    .dataframe tbody tr th:only-of-type {\n",
       "        vertical-align: middle;\n",
       "    }\n",
       "\n",
       "    .dataframe tbody tr th {\n",
       "        vertical-align: top;\n",
       "    }\n",
       "\n",
       "    .dataframe thead th {\n",
       "        text-align: right;\n",
       "    }\n",
       "</style>\n",
       "<table border=\"1\" class=\"dataframe\">\n",
       "  <thead>\n",
       "    <tr style=\"text-align: right;\">\n",
       "      <th></th>\n",
       "      <th>Column</th>\n",
       "      <th>Missing</th>\n",
       "      <th>Percent</th>\n",
       "    </tr>\n",
       "  </thead>\n",
       "  <tbody>\n",
       "    <tr>\n",
       "      <th>13</th>\n",
       "      <td>ma</td>\n",
       "      <td>1</td>\n",
       "      <td>0.000075</td>\n",
       "    </tr>\n",
       "    <tr>\n",
       "      <th>14</th>\n",
       "      <td>per</td>\n",
       "      <td>5</td>\n",
       "      <td>0.000373</td>\n",
       "    </tr>\n",
       "    <tr>\n",
       "      <th>15</th>\n",
       "      <td>neo</td>\n",
       "      <td>5</td>\n",
       "      <td>0.000373</td>\n",
       "    </tr>\n",
       "    <tr>\n",
       "      <th>16</th>\n",
       "      <td>ad</td>\n",
       "      <td>5</td>\n",
       "      <td>0.000373</td>\n",
       "    </tr>\n",
       "    <tr>\n",
       "      <th>17</th>\n",
       "      <td>per_y</td>\n",
       "      <td>5</td>\n",
       "      <td>0.000373</td>\n",
       "    </tr>\n",
       "    <tr>\n",
       "      <th>18</th>\n",
       "      <td>condition_code</td>\n",
       "      <td>23</td>\n",
       "      <td>0.001716</td>\n",
       "    </tr>\n",
       "    <tr>\n",
       "      <th>19</th>\n",
       "      <td>data_arc</td>\n",
       "      <td>544</td>\n",
       "      <td>0.040579</td>\n",
       "    </tr>\n",
       "    <tr>\n",
       "      <th>20</th>\n",
       "      <td>H</td>\n",
       "      <td>1150</td>\n",
       "      <td>0.085782</td>\n",
       "    </tr>\n",
       "    <tr>\n",
       "      <th>21</th>\n",
       "      <td>moid_ld</td>\n",
       "      <td>2112</td>\n",
       "      <td>0.157541</td>\n",
       "    </tr>\n",
       "    <tr>\n",
       "      <th>22</th>\n",
       "      <td>moid</td>\n",
       "      <td>2112</td>\n",
       "      <td>0.157541</td>\n",
       "    </tr>\n",
       "    <tr>\n",
       "      <th>23</th>\n",
       "      <td>pha</td>\n",
       "      <td>2113</td>\n",
       "      <td>0.157615</td>\n",
       "    </tr>\n",
       "    <tr>\n",
       "      <th>24</th>\n",
       "      <td>sigma_i</td>\n",
       "      <td>2113</td>\n",
       "      <td>0.157615</td>\n",
       "    </tr>\n",
       "    <tr>\n",
       "      <th>25</th>\n",
       "      <td>sigma_q</td>\n",
       "      <td>2113</td>\n",
       "      <td>0.157615</td>\n",
       "    </tr>\n",
       "    <tr>\n",
       "      <th>26</th>\n",
       "      <td>sigma_a</td>\n",
       "      <td>2113</td>\n",
       "      <td>0.157615</td>\n",
       "    </tr>\n",
       "    <tr>\n",
       "      <th>27</th>\n",
       "      <td>sigma_e</td>\n",
       "      <td>2113</td>\n",
       "      <td>0.157615</td>\n",
       "    </tr>\n",
       "    <tr>\n",
       "      <th>28</th>\n",
       "      <td>sigma_per</td>\n",
       "      <td>2118</td>\n",
       "      <td>0.157988</td>\n",
       "    </tr>\n",
       "  </tbody>\n",
       "</table>\n",
       "</div>"
      ],
      "text/plain": [
       "            Column  Missing   Percent\n",
       "13              ma        1  0.000075\n",
       "14             per        5  0.000373\n",
       "15             neo        5  0.000373\n",
       "16              ad        5  0.000373\n",
       "17           per_y        5  0.000373\n",
       "18  condition_code       23  0.001716\n",
       "19        data_arc      544  0.040579\n",
       "20               H     1150  0.085782\n",
       "21         moid_ld     2112  0.157541\n",
       "22            moid     2112  0.157541\n",
       "23             pha     2113  0.157615\n",
       "24         sigma_i     2113  0.157615\n",
       "25         sigma_q     2113  0.157615\n",
       "26         sigma_a     2113  0.157615\n",
       "27         sigma_e     2113  0.157615\n",
       "28       sigma_per     2118  0.157988"
      ]
     },
     "execution_count": 11,
     "metadata": {},
     "output_type": "execute_result"
    }
   ],
   "source": [
    "missing[(missing.Percent < 5) & (missing.Missing > 0)]"
   ]
  },
  {
   "cell_type": "markdown",
   "metadata": {},
   "source": [
    "## Dropping Columns\n",
    "\n",
    "In this subsection, I drop the columns that have more than 90\\% of their values missing. Additionally, I remove columns that aren't necessary for my objective. These include `full_name`, `sigma_i`, `sigma_q`, `sigma_a`, `sigma_e`, `sigma_per`, and `diameter_sigma`."
   ]
  },
  {
   "cell_type": "code",
   "execution_count": 12,
   "metadata": {},
   "outputs": [
    {
     "name": "stdout",
     "output_type": "stream",
     "text": [
      "After dropping, dataframe shape = (1340607, 25)\n"
     ]
    }
   ],
   "source": [
    "df.drop(\n",
    "    columns=[\n",
    "        \"full_name\",\n",
    "        \"rot_per\",\n",
    "        \"spec_B\",\n",
    "        \"spec_T\",\n",
    "        \"G\",\n",
    "        \"BV\",\n",
    "        \"UB\",\n",
    "        \"IR\",\n",
    "        \"GM\",\n",
    "        \"extent\",\n",
    "        \"n_del_obs_used\",\n",
    "        \"n_dop_obs_used\",\n",
    "        \"sigma_i\",\n",
    "        \"sigma_q\",\n",
    "        \"sigma_a\",\n",
    "        \"sigma_e\",\n",
    "        \"sigma_per\",\n",
    "        \"diameter_sigma\",\n",
    "    ],\n",
    "    inplace=True,\n",
    ")\n",
    "\n",
    "print(f\"After dropping, dataframe shape = {df.shape}\")"
   ]
  },
  {
   "cell_type": "markdown",
   "metadata": {},
   "source": [
    "## Imputation\n",
    "\n",
    "This section fills in missing values based on existing values. In particular, I employ two strategies:\n",
    "\n",
    "1. **Impute by Group**: Except for `albedo` and `diameter`, most columns have a very small percentage of missing values. I fill in these values using groups central tendency which are\n",
    "\n",
    "    * _Median_ for numerical columns. Median because the values have a lot of outliers.\n",
    "    \n",
    "    * _Mode_ for categorical columns. This is basically majority category of a group.\n",
    "\n",
    "2. **Impute using MLP**: I design and train a Multi Layer Perceptron (MLP) on existing data for `albedo` and `diameter` columns separately. Then use the model to predict the missing values and impute using predictions."
   ]
  },
  {
   "cell_type": "markdown",
   "metadata": {},
   "source": [
    "### Imputation by Group\n",
    "\n",
    "In this subsection, I'll impute missing values for columns with less than 5\\% of their data missing."
   ]
  },
  {
   "cell_type": "markdown",
   "metadata": {},
   "source": [
    "#### Categorical Columns\n",
    "\n",
    "These columns are imputed using group mode."
   ]
  },
  {
   "cell_type": "markdown",
   "metadata": {},
   "source": [
    "##### `neo` column"
   ]
  },
  {
   "cell_type": "code",
   "execution_count": 13,
   "metadata": {},
   "outputs": [
    {
     "data": {
      "text/html": [
       "<div>\n",
       "<style scoped>\n",
       "    .dataframe tbody tr th:only-of-type {\n",
       "        vertical-align: middle;\n",
       "    }\n",
       "\n",
       "    .dataframe tbody tr th {\n",
       "        vertical-align: top;\n",
       "    }\n",
       "\n",
       "    .dataframe thead th {\n",
       "        text-align: right;\n",
       "    }\n",
       "</style>\n",
       "<table border=\"1\" class=\"dataframe\">\n",
       "  <thead>\n",
       "    <tr style=\"text-align: right;\">\n",
       "      <th></th>\n",
       "      <th>a</th>\n",
       "      <th>e</th>\n",
       "      <th>i</th>\n",
       "      <th>om</th>\n",
       "      <th>w</th>\n",
       "      <th>q</th>\n",
       "      <th>ad</th>\n",
       "      <th>per_y</th>\n",
       "      <th>data_arc</th>\n",
       "      <th>condition_code</th>\n",
       "      <th>...</th>\n",
       "      <th>albedo</th>\n",
       "      <th>neo</th>\n",
       "      <th>pha</th>\n",
       "      <th>n</th>\n",
       "      <th>per</th>\n",
       "      <th>moid</th>\n",
       "      <th>moid_ld</th>\n",
       "      <th>class</th>\n",
       "      <th>first_obs</th>\n",
       "      <th>last_obs</th>\n",
       "    </tr>\n",
       "  </thead>\n",
       "  <tbody>\n",
       "    <tr>\n",
       "      <th>1084193</th>\n",
       "      <td>-57.170</td>\n",
       "      <td>1.0219</td>\n",
       "      <td>145.42</td>\n",
       "      <td>166.04</td>\n",
       "      <td>77.96</td>\n",
       "      <td>1.250</td>\n",
       "      <td>NaN</td>\n",
       "      <td>NaN</td>\n",
       "      <td>17.0</td>\n",
       "      <td>NaN</td>\n",
       "      <td>...</td>\n",
       "      <td>NaN</td>\n",
       "      <td>NaN</td>\n",
       "      <td>N</td>\n",
       "      <td>2.280000e-03</td>\n",
       "      <td>NaN</td>\n",
       "      <td>0.6010</td>\n",
       "      <td>234.0</td>\n",
       "      <td>HYA</td>\n",
       "      <td>2016-12-11</td>\n",
       "      <td>2016-12-28</td>\n",
       "    </tr>\n",
       "    <tr>\n",
       "      <th>1125900</th>\n",
       "      <td>-1.272</td>\n",
       "      <td>1.2011</td>\n",
       "      <td>122.74</td>\n",
       "      <td>24.60</td>\n",
       "      <td>241.81</td>\n",
       "      <td>0.256</td>\n",
       "      <td>NaN</td>\n",
       "      <td>NaN</td>\n",
       "      <td>80.0</td>\n",
       "      <td>NaN</td>\n",
       "      <td>...</td>\n",
       "      <td>NaN</td>\n",
       "      <td>NaN</td>\n",
       "      <td>N</td>\n",
       "      <td>6.867000e-01</td>\n",
       "      <td>NaN</td>\n",
       "      <td>0.0958</td>\n",
       "      <td>37.3</td>\n",
       "      <td>HYA</td>\n",
       "      <td>2017-10-14</td>\n",
       "      <td>2018-01-02</td>\n",
       "    </tr>\n",
       "    <tr>\n",
       "      <th>1220367</th>\n",
       "      <td>-50670.000</td>\n",
       "      <td>1.0011</td>\n",
       "      <td>72.83</td>\n",
       "      <td>287.13</td>\n",
       "      <td>29.58</td>\n",
       "      <td>53.433</td>\n",
       "      <td>NaN</td>\n",
       "      <td>NaN</td>\n",
       "      <td>56.0</td>\n",
       "      <td>NaN</td>\n",
       "      <td>...</td>\n",
       "      <td>NaN</td>\n",
       "      <td>NaN</td>\n",
       "      <td>N</td>\n",
       "      <td>8.641000e-08</td>\n",
       "      <td>NaN</td>\n",
       "      <td>52.5000</td>\n",
       "      <td>20400.0</td>\n",
       "      <td>HYA</td>\n",
       "      <td>2020-06-20</td>\n",
       "      <td>2020-08-15</td>\n",
       "    </tr>\n",
       "    <tr>\n",
       "      <th>1285026</th>\n",
       "      <td>-2290.000</td>\n",
       "      <td>1.0013</td>\n",
       "      <td>137.14</td>\n",
       "      <td>228.80</td>\n",
       "      <td>193.28</td>\n",
       "      <td>2.995</td>\n",
       "      <td>NaN</td>\n",
       "      <td>NaN</td>\n",
       "      <td>389.0</td>\n",
       "      <td>NaN</td>\n",
       "      <td>...</td>\n",
       "      <td>NaN</td>\n",
       "      <td>NaN</td>\n",
       "      <td>N</td>\n",
       "      <td>8.991000e-06</td>\n",
       "      <td>NaN</td>\n",
       "      <td>2.0100</td>\n",
       "      <td>784.0</td>\n",
       "      <td>HYA</td>\n",
       "      <td>2021-10-30</td>\n",
       "      <td>2022-11-23</td>\n",
       "    </tr>\n",
       "    <tr>\n",
       "      <th>1328329</th>\n",
       "      <td>-15820.000</td>\n",
       "      <td>1.0001</td>\n",
       "      <td>12.11</td>\n",
       "      <td>347.39</td>\n",
       "      <td>86.85</td>\n",
       "      <td>1.358</td>\n",
       "      <td>NaN</td>\n",
       "      <td>NaN</td>\n",
       "      <td>25.0</td>\n",
       "      <td>NaN</td>\n",
       "      <td>...</td>\n",
       "      <td>NaN</td>\n",
       "      <td>NaN</td>\n",
       "      <td>N</td>\n",
       "      <td>4.955000e-07</td>\n",
       "      <td>NaN</td>\n",
       "      <td>0.4450</td>\n",
       "      <td>173.0</td>\n",
       "      <td>HYA</td>\n",
       "      <td>2023-09-15</td>\n",
       "      <td>2023-10-10</td>\n",
       "    </tr>\n",
       "  </tbody>\n",
       "</table>\n",
       "<p>5 rows × 25 columns</p>\n",
       "</div>"
      ],
      "text/plain": [
       "                 a       e       i      om       w       q  ad  per_y  \\\n",
       "1084193    -57.170  1.0219  145.42  166.04   77.96   1.250 NaN    NaN   \n",
       "1125900     -1.272  1.2011  122.74   24.60  241.81   0.256 NaN    NaN   \n",
       "1220367 -50670.000  1.0011   72.83  287.13   29.58  53.433 NaN    NaN   \n",
       "1285026  -2290.000  1.0013  137.14  228.80  193.28   2.995 NaN    NaN   \n",
       "1328329 -15820.000  1.0001   12.11  347.39   86.85   1.358 NaN    NaN   \n",
       "\n",
       "         data_arc condition_code  ...  albedo  neo  pha             n  per  \\\n",
       "1084193      17.0            NaN  ...     NaN  NaN    N  2.280000e-03  NaN   \n",
       "1125900      80.0            NaN  ...     NaN  NaN    N  6.867000e-01  NaN   \n",
       "1220367      56.0            NaN  ...     NaN  NaN    N  8.641000e-08  NaN   \n",
       "1285026     389.0            NaN  ...     NaN  NaN    N  8.991000e-06  NaN   \n",
       "1328329      25.0            NaN  ...     NaN  NaN    N  4.955000e-07  NaN   \n",
       "\n",
       "            moid  moid_ld class   first_obs    last_obs  \n",
       "1084193   0.6010    234.0   HYA  2016-12-11  2016-12-28  \n",
       "1125900   0.0958     37.3   HYA  2017-10-14  2018-01-02  \n",
       "1220367  52.5000  20400.0   HYA  2020-06-20  2020-08-15  \n",
       "1285026   2.0100    784.0   HYA  2021-10-30  2022-11-23  \n",
       "1328329   0.4450    173.0   HYA  2023-09-15  2023-10-10  \n",
       "\n",
       "[5 rows x 25 columns]"
      ]
     },
     "execution_count": 13,
     "metadata": {},
     "output_type": "execute_result"
    }
   ],
   "source": [
    "df[df.neo.isna()]"
   ]
  },
  {
   "cell_type": "markdown",
   "metadata": {},
   "source": [
    "I can use `pha` column to group and impute. Other categorical columns, \n",
    "\n",
    "* `condition_code` is null for all these rows.\n",
    "* `class` can't be used. Because all instances of the groups have null `neo` values."
   ]
  },
  {
   "cell_type": "code",
   "execution_count": 13,
   "metadata": {},
   "outputs": [
    {
     "data": {
      "text/plain": [
       "pha\n",
       "N    N\n",
       "Y    Y\n",
       "Name: neo, dtype: object"
      ]
     },
     "execution_count": 13,
     "metadata": {},
     "output_type": "execute_result"
    }
   ],
   "source": [
    "df.groupby(\"pha\").neo.apply(lambda x: x.mode().iloc[0])"
   ]
  },
  {
   "cell_type": "markdown",
   "metadata": {},
   "source": [
    "Rows with `pha` of **N** has a `neo` mode of **N**. So, I'll impute the missing `neo` values with this."
   ]
  },
  {
   "cell_type": "code",
   "execution_count": 14,
   "metadata": {},
   "outputs": [],
   "source": [
    "df.neo.fillna(\"N\", inplace=True)"
   ]
  },
  {
   "cell_type": "markdown",
   "metadata": {},
   "source": [
    "To confirm, I should have zero missing values now."
   ]
  },
  {
   "cell_type": "code",
   "execution_count": 15,
   "metadata": {},
   "outputs": [
    {
     "data": {
      "text/plain": [
       "0"
      ]
     },
     "execution_count": 15,
     "metadata": {},
     "output_type": "execute_result"
    }
   ],
   "source": [
    "df.neo.isna().sum()"
   ]
  },
  {
   "cell_type": "markdown",
   "metadata": {},
   "source": [
    "##### `condition_code` column"
   ]
  },
  {
   "cell_type": "markdown",
   "metadata": {},
   "source": [
    "Impute using `class` and `neo` group mode."
   ]
  },
  {
   "cell_type": "code",
   "execution_count": 16,
   "metadata": {},
   "outputs": [],
   "source": [
    "df[\"condition_code\"] = (\n",
    "    df.groupby([\"class\", \"neo\"])\n",
    "    .transform(lambda x: x.fillna(x.mode().iloc[0]))\n",
    "    .condition_code\n",
    ")"
   ]
  },
  {
   "cell_type": "markdown",
   "metadata": {},
   "source": [
    "Let's check if there are null values after imputation."
   ]
  },
  {
   "cell_type": "code",
   "execution_count": 18,
   "metadata": {},
   "outputs": [
    {
     "data": {
      "text/html": [
       "<div>\n",
       "<style scoped>\n",
       "    .dataframe tbody tr th:only-of-type {\n",
       "        vertical-align: middle;\n",
       "    }\n",
       "\n",
       "    .dataframe tbody tr th {\n",
       "        vertical-align: top;\n",
       "    }\n",
       "\n",
       "    .dataframe thead th {\n",
       "        text-align: right;\n",
       "    }\n",
       "</style>\n",
       "<table border=\"1\" class=\"dataframe\">\n",
       "  <thead>\n",
       "    <tr style=\"text-align: right;\">\n",
       "      <th></th>\n",
       "      <th>a</th>\n",
       "      <th>e</th>\n",
       "      <th>i</th>\n",
       "      <th>om</th>\n",
       "      <th>w</th>\n",
       "      <th>q</th>\n",
       "      <th>ad</th>\n",
       "      <th>per_y</th>\n",
       "      <th>data_arc</th>\n",
       "      <th>condition_code</th>\n",
       "      <th>...</th>\n",
       "      <th>albedo</th>\n",
       "      <th>neo</th>\n",
       "      <th>pha</th>\n",
       "      <th>n</th>\n",
       "      <th>per</th>\n",
       "      <th>moid</th>\n",
       "      <th>moid_ld</th>\n",
       "      <th>class</th>\n",
       "      <th>first_obs</th>\n",
       "      <th>last_obs</th>\n",
       "    </tr>\n",
       "  </thead>\n",
       "  <tbody>\n",
       "    <tr>\n",
       "      <th>1084193</th>\n",
       "      <td>-57.170</td>\n",
       "      <td>1.0219</td>\n",
       "      <td>145.42</td>\n",
       "      <td>166.04</td>\n",
       "      <td>77.96</td>\n",
       "      <td>1.250</td>\n",
       "      <td>NaN</td>\n",
       "      <td>NaN</td>\n",
       "      <td>17.0</td>\n",
       "      <td>NaN</td>\n",
       "      <td>...</td>\n",
       "      <td>NaN</td>\n",
       "      <td>N</td>\n",
       "      <td>N</td>\n",
       "      <td>2.280000e-03</td>\n",
       "      <td>NaN</td>\n",
       "      <td>0.6010</td>\n",
       "      <td>234.0</td>\n",
       "      <td>HYA</td>\n",
       "      <td>2016-12-11</td>\n",
       "      <td>2016-12-28</td>\n",
       "    </tr>\n",
       "    <tr>\n",
       "      <th>1125900</th>\n",
       "      <td>-1.272</td>\n",
       "      <td>1.2011</td>\n",
       "      <td>122.74</td>\n",
       "      <td>24.60</td>\n",
       "      <td>241.81</td>\n",
       "      <td>0.256</td>\n",
       "      <td>NaN</td>\n",
       "      <td>NaN</td>\n",
       "      <td>80.0</td>\n",
       "      <td>NaN</td>\n",
       "      <td>...</td>\n",
       "      <td>NaN</td>\n",
       "      <td>N</td>\n",
       "      <td>N</td>\n",
       "      <td>6.867000e-01</td>\n",
       "      <td>NaN</td>\n",
       "      <td>0.0958</td>\n",
       "      <td>37.3</td>\n",
       "      <td>HYA</td>\n",
       "      <td>2017-10-14</td>\n",
       "      <td>2018-01-02</td>\n",
       "    </tr>\n",
       "    <tr>\n",
       "      <th>1220367</th>\n",
       "      <td>-50670.000</td>\n",
       "      <td>1.0011</td>\n",
       "      <td>72.83</td>\n",
       "      <td>287.13</td>\n",
       "      <td>29.58</td>\n",
       "      <td>53.433</td>\n",
       "      <td>NaN</td>\n",
       "      <td>NaN</td>\n",
       "      <td>56.0</td>\n",
       "      <td>NaN</td>\n",
       "      <td>...</td>\n",
       "      <td>NaN</td>\n",
       "      <td>N</td>\n",
       "      <td>N</td>\n",
       "      <td>8.641000e-08</td>\n",
       "      <td>NaN</td>\n",
       "      <td>52.5000</td>\n",
       "      <td>20400.0</td>\n",
       "      <td>HYA</td>\n",
       "      <td>2020-06-20</td>\n",
       "      <td>2020-08-15</td>\n",
       "    </tr>\n",
       "    <tr>\n",
       "      <th>1285026</th>\n",
       "      <td>-2290.000</td>\n",
       "      <td>1.0013</td>\n",
       "      <td>137.14</td>\n",
       "      <td>228.80</td>\n",
       "      <td>193.28</td>\n",
       "      <td>2.995</td>\n",
       "      <td>NaN</td>\n",
       "      <td>NaN</td>\n",
       "      <td>389.0</td>\n",
       "      <td>NaN</td>\n",
       "      <td>...</td>\n",
       "      <td>NaN</td>\n",
       "      <td>N</td>\n",
       "      <td>N</td>\n",
       "      <td>8.991000e-06</td>\n",
       "      <td>NaN</td>\n",
       "      <td>2.0100</td>\n",
       "      <td>784.0</td>\n",
       "      <td>HYA</td>\n",
       "      <td>2021-10-30</td>\n",
       "      <td>2022-11-23</td>\n",
       "    </tr>\n",
       "    <tr>\n",
       "      <th>1328329</th>\n",
       "      <td>-15820.000</td>\n",
       "      <td>1.0001</td>\n",
       "      <td>12.11</td>\n",
       "      <td>347.39</td>\n",
       "      <td>86.85</td>\n",
       "      <td>1.358</td>\n",
       "      <td>NaN</td>\n",
       "      <td>NaN</td>\n",
       "      <td>25.0</td>\n",
       "      <td>NaN</td>\n",
       "      <td>...</td>\n",
       "      <td>NaN</td>\n",
       "      <td>N</td>\n",
       "      <td>N</td>\n",
       "      <td>4.955000e-07</td>\n",
       "      <td>NaN</td>\n",
       "      <td>0.4450</td>\n",
       "      <td>173.0</td>\n",
       "      <td>HYA</td>\n",
       "      <td>2023-09-15</td>\n",
       "      <td>2023-10-10</td>\n",
       "    </tr>\n",
       "  </tbody>\n",
       "</table>\n",
       "<p>5 rows × 25 columns</p>\n",
       "</div>"
      ],
      "text/plain": [
       "                 a       e       i      om       w       q  ad  per_y  \\\n",
       "1084193    -57.170  1.0219  145.42  166.04   77.96   1.250 NaN    NaN   \n",
       "1125900     -1.272  1.2011  122.74   24.60  241.81   0.256 NaN    NaN   \n",
       "1220367 -50670.000  1.0011   72.83  287.13   29.58  53.433 NaN    NaN   \n",
       "1285026  -2290.000  1.0013  137.14  228.80  193.28   2.995 NaN    NaN   \n",
       "1328329 -15820.000  1.0001   12.11  347.39   86.85   1.358 NaN    NaN   \n",
       "\n",
       "         data_arc condition_code  ...  albedo  neo  pha             n  per  \\\n",
       "1084193      17.0            NaN  ...     NaN    N    N  2.280000e-03  NaN   \n",
       "1125900      80.0            NaN  ...     NaN    N    N  6.867000e-01  NaN   \n",
       "1220367      56.0            NaN  ...     NaN    N    N  8.641000e-08  NaN   \n",
       "1285026     389.0            NaN  ...     NaN    N    N  8.991000e-06  NaN   \n",
       "1328329      25.0            NaN  ...     NaN    N    N  4.955000e-07  NaN   \n",
       "\n",
       "            moid  moid_ld class   first_obs    last_obs  \n",
       "1084193   0.6010    234.0   HYA  2016-12-11  2016-12-28  \n",
       "1125900   0.0958     37.3   HYA  2017-10-14  2018-01-02  \n",
       "1220367  52.5000  20400.0   HYA  2020-06-20  2020-08-15  \n",
       "1285026   2.0100    784.0   HYA  2021-10-30  2022-11-23  \n",
       "1328329   0.4450    173.0   HYA  2023-09-15  2023-10-10  \n",
       "\n",
       "[5 rows x 25 columns]"
      ]
     },
     "execution_count": 18,
     "metadata": {},
     "output_type": "execute_result"
    }
   ],
   "source": [
    "df[df.condition_code.isna()]"
   ]
  },
  {
   "cell_type": "markdown",
   "metadata": {},
   "source": [
    "All `condition_code` values for **HYA** `class` type is null. Which is why it wasn't imputed. So, I'll impute by `neo` group."
   ]
  },
  {
   "cell_type": "code",
   "execution_count": 17,
   "metadata": {},
   "outputs": [
    {
     "data": {
      "text/plain": [
       "neo\n",
       "N    0\n",
       "Y    7\n",
       "Name: condition_code, dtype: object"
      ]
     },
     "execution_count": 17,
     "metadata": {},
     "output_type": "execute_result"
    }
   ],
   "source": [
    "df.groupby(\"neo\").apply(lambda x: x.mode().iloc[0]).condition_code"
   ]
  },
  {
   "cell_type": "markdown",
   "metadata": {},
   "source": [
    "Rows with `neo` value **N** has mostly have a `condition_code` value of 0."
   ]
  },
  {
   "cell_type": "code",
   "execution_count": 18,
   "metadata": {},
   "outputs": [],
   "source": [
    "df.condition_code.fillna(\"0\", inplace=True)"
   ]
  },
  {
   "cell_type": "markdown",
   "metadata": {},
   "source": [
    "Check if there are any missing values."
   ]
  },
  {
   "cell_type": "code",
   "execution_count": 19,
   "metadata": {},
   "outputs": [
    {
     "data": {
      "text/plain": [
       "0"
      ]
     },
     "execution_count": 19,
     "metadata": {},
     "output_type": "execute_result"
    }
   ],
   "source": [
    "df.condition_code.isna().sum()"
   ]
  },
  {
   "cell_type": "markdown",
   "metadata": {},
   "source": [
    "##### `pha` column"
   ]
  },
  {
   "cell_type": "code",
   "execution_count": 20,
   "metadata": {},
   "outputs": [
    {
     "data": {
      "text/plain": [
       "0"
      ]
     },
     "execution_count": 20,
     "metadata": {},
     "output_type": "execute_result"
    }
   ],
   "source": [
    "df[\"pha\"] = (\n",
    "    df.groupby([\"class\", \"neo\"]).transform(lambda x: x.fillna(x.mode().iloc[0])).pha\n",
    ")\n",
    "\n",
    "df[\"pha\"].isnull().sum()"
   ]
  },
  {
   "cell_type": "markdown",
   "metadata": {},
   "source": [
    "#### Numerical Columns"
   ]
  },
  {
   "cell_type": "markdown",
   "metadata": {},
   "source": [
    "As before, I first impute by group median. And check if there are missing values after imputation."
   ]
  },
  {
   "cell_type": "code",
   "execution_count": 21,
   "metadata": {},
   "outputs": [
    {
     "data": {
      "text/plain": [
       "ma          0\n",
       "per         0\n",
       "ad          0\n",
       "per_y       0\n",
       "data_arc    0\n",
       "H           1\n",
       "moid        1\n",
       "moid_ld     1\n",
       "dtype: int64"
      ]
     },
     "execution_count": 21,
     "metadata": {},
     "output_type": "execute_result"
    }
   ],
   "source": [
    "impute_columns = [\"ma\", \"per\", \"ad\", \"per_y\", \"data_arc\", \"H\", \"moid\", \"moid_ld\"]\n",
    "\n",
    "df[impute_columns] = (\n",
    "    df.groupby(by=[\"neo\", \"condition_code\"])[impute_columns]\n",
    "    .apply(lambda x: x.fillna(x.median()))\n",
    "    .reset_index()[impute_columns]\n",
    ")\n",
    "\n",
    "df[impute_columns].isnull().sum()"
   ]
  },
  {
   "cell_type": "markdown",
   "metadata": {},
   "source": [
    "Then I look at what are the missing values. In this case, the same row has all 3 values missing."
   ]
  },
  {
   "cell_type": "code",
   "execution_count": 22,
   "metadata": {},
   "outputs": [
    {
     "data": {
      "text/html": [
       "<div>\n",
       "<style scoped>\n",
       "    .dataframe tbody tr th:only-of-type {\n",
       "        vertical-align: middle;\n",
       "    }\n",
       "\n",
       "    .dataframe tbody tr th {\n",
       "        vertical-align: top;\n",
       "    }\n",
       "\n",
       "    .dataframe thead th {\n",
       "        text-align: right;\n",
       "    }\n",
       "</style>\n",
       "<table border=\"1\" class=\"dataframe\">\n",
       "  <thead>\n",
       "    <tr style=\"text-align: right;\">\n",
       "      <th></th>\n",
       "      <th>a</th>\n",
       "      <th>e</th>\n",
       "      <th>i</th>\n",
       "      <th>om</th>\n",
       "      <th>w</th>\n",
       "      <th>q</th>\n",
       "      <th>ad</th>\n",
       "      <th>per_y</th>\n",
       "      <th>data_arc</th>\n",
       "      <th>condition_code</th>\n",
       "      <th>...</th>\n",
       "      <th>albedo</th>\n",
       "      <th>neo</th>\n",
       "      <th>pha</th>\n",
       "      <th>n</th>\n",
       "      <th>per</th>\n",
       "      <th>moid</th>\n",
       "      <th>moid_ld</th>\n",
       "      <th>class</th>\n",
       "      <th>first_obs</th>\n",
       "      <th>last_obs</th>\n",
       "    </tr>\n",
       "  </thead>\n",
       "  <tbody>\n",
       "    <tr>\n",
       "      <th>1306656</th>\n",
       "      <td>3.171</td>\n",
       "      <td>0.1008</td>\n",
       "      <td>8.52</td>\n",
       "      <td>342.48</td>\n",
       "      <td>8.14</td>\n",
       "      <td>2.851</td>\n",
       "      <td>3.53</td>\n",
       "      <td>4.62</td>\n",
       "      <td>2.0</td>\n",
       "      <td>7</td>\n",
       "      <td>...</td>\n",
       "      <td>NaN</td>\n",
       "      <td>N</td>\n",
       "      <td>N</td>\n",
       "      <td>0.1745</td>\n",
       "      <td>1690.0</td>\n",
       "      <td>NaN</td>\n",
       "      <td>NaN</td>\n",
       "      <td>MBA</td>\n",
       "      <td>2022-09-16</td>\n",
       "      <td>2022-09-28</td>\n",
       "    </tr>\n",
       "  </tbody>\n",
       "</table>\n",
       "<p>1 rows × 25 columns</p>\n",
       "</div>"
      ],
      "text/plain": [
       "             a       e     i      om     w      q    ad  per_y  data_arc  \\\n",
       "1306656  3.171  0.1008  8.52  342.48  8.14  2.851  3.53   4.62       2.0   \n",
       "\n",
       "        condition_code  ...  albedo  neo  pha       n     per  moid moid_ld  \\\n",
       "1306656              7  ...     NaN    N    N  0.1745  1690.0   NaN     NaN   \n",
       "\n",
       "        class   first_obs    last_obs  \n",
       "1306656   MBA  2022-09-16  2022-09-28  \n",
       "\n",
       "[1 rows x 25 columns]"
      ]
     },
     "execution_count": 22,
     "metadata": {},
     "output_type": "execute_result"
    }
   ],
   "source": [
    "df[(df[\"H\"].isnull())|(df[\"moid\"].isnull())|(df[\"moid_ld\"].isnull())].dropna(how=\"all\")"
   ]
  },
  {
   "cell_type": "markdown",
   "metadata": {},
   "source": [
    "Next, I see what the median is for `condition_code` of 7."
   ]
  },
  {
   "cell_type": "code",
   "execution_count": 23,
   "metadata": {},
   "outputs": [
    {
     "data": {
      "text/plain": [
       "H           18.62\n",
       "moid         1.10\n",
       "moid_ld    428.00\n",
       "Name: 7, dtype: float64"
      ]
     },
     "execution_count": 23,
     "metadata": {},
     "output_type": "execute_result"
    }
   ],
   "source": [
    "df.groupby(\"condition_code\")[impute_columns].apply(lambda x: x.median()).loc[\n",
    "    \"7\", [\"H\", \"moid\", \"moid_ld\"]\n",
    "]"
   ]
  },
  {
   "cell_type": "markdown",
   "metadata": {},
   "source": [
    "Then, I impute using these values."
   ]
  },
  {
   "cell_type": "code",
   "execution_count": 24,
   "metadata": {},
   "outputs": [],
   "source": [
    "df.H.fillna(18.62, inplace=True)\n",
    "df.moid.fillna(1.10, inplace=True)\n",
    "df.moid_ld.fillna(428.00, inplace=True)"
   ]
  },
  {
   "cell_type": "markdown",
   "metadata": {},
   "source": [
    "Finally, one last check to see if there are any more missing values."
   ]
  },
  {
   "cell_type": "code",
   "execution_count": 25,
   "metadata": {},
   "outputs": [
    {
     "data": {
      "text/plain": [
       "ma          0\n",
       "per         0\n",
       "ad          0\n",
       "per_y       0\n",
       "data_arc    0\n",
       "H           0\n",
       "moid        0\n",
       "moid_ld     0\n",
       "dtype: int64"
      ]
     },
     "execution_count": 25,
     "metadata": {},
     "output_type": "execute_result"
    }
   ],
   "source": [
    "df[impute_columns].isnull().sum()"
   ]
  },
  {
   "cell_type": "markdown",
   "metadata": {},
   "source": [
    "### Impute using MLP\n",
    "\n",
    "In this subsection, I use my custom `mlp` architecture to fill in missing values for `albedo` and `diameter` columns."
   ]
  },
  {
   "cell_type": "markdown",
   "metadata": {},
   "source": [
    "##### `albedo` column"
   ]
  },
  {
   "cell_type": "code",
   "execution_count": 26,
   "metadata": {},
   "outputs": [],
   "source": [
    "import torch\n",
    "\n",
    "torch.manual_seed(29)\n",
    "\n",
    "from src.deep_learning import mlp, train_script, create_dataloader"
   ]
  },
  {
   "cell_type": "markdown",
   "metadata": {},
   "source": [
    "I first specify which columns will be included and what their types are."
   ]
  },
  {
   "cell_type": "code",
   "execution_count": 28,
   "metadata": {},
   "outputs": [],
   "source": [
    "categorical_columns = [\"pha\", \"neo\", \"condition_code\", \"class\"]\n",
    "numerical_columns = df.columns.drop(categorical_columns).drop(\n",
    "    [\"first_obs\", \"last_obs\", \"diameter\"]\n",
    ")\n",
    "target_column = \"albedo\"\n",
    "exclude_columns = [\"first_obs\", \"last_obs\", \"diameter\"]"
   ]
  },
  {
   "cell_type": "markdown",
   "metadata": {},
   "source": [
    "Then I create data loaders to feed into the model for training, validation, and inferencing."
   ]
  },
  {
   "cell_type": "code",
   "execution_count": 34,
   "metadata": {},
   "outputs": [
    {
     "name": "stdout",
     "output_type": "stream",
     "text": [
      "Number of examples for training purposes: 138496\n",
      "Number of examples for inference purposes: 1202111\n",
      "Training X shape: torch.Size([128256, 45])\n",
      "Training y shape: torch.Size([128256])\n",
      "Validation X shape: torch.Size([10240, 45])\n",
      "Validation y shape: torch.Size([10240])\n",
      "Inference X shape: torch.Size([1202111, 45])\n",
      "Inference y shape: torch.Size([1202111])\n"
     ]
    }
   ],
   "source": [
    "train_loader, valid_loader, inf_loader = create_dataloader.create_dataloader(\n",
    "    df,\n",
    "    numerical_columns,\n",
    "    categorical_columns,\n",
    "    target_column,\n",
    "    exclude_columns,\n",
    "    2048,\n",
    "    False,\n",
    ")"
   ]
  },
  {
   "cell_type": "markdown",
   "metadata": {},
   "source": [
    "Next, I create and train the model."
   ]
  },
  {
   "cell_type": "code",
   "execution_count": 36,
   "metadata": {},
   "outputs": [
    {
     "name": "stderr",
     "output_type": "stream",
     "text": [
      "/home/ishrak/Documents/Asteroid-Mining-Analysis/.venv/lib/python3.11/site-packages/torch/nn/modules/lazy.py:180: UserWarning:\n",
      "\n",
      "Lazy modules are a new feature under heavy development so changes to the API or functionality can happen at any moment.\n",
      "\n"
     ]
    },
    {
     "name": "stdout",
     "output_type": "stream",
     "text": [
      "The training process has done!\n"
     ]
    }
   ],
   "source": [
    "model = mlp.MLP_Albedo(\n",
    "    n=3,\n",
    "    num_output_list=[256, 128, 64],\n",
    "    dropout_list=[0.2, 0.15, 0.1],\n",
    "    device=mlp.device,\n",
    ")\n",
    "\n",
    "model = train_script.train_epoch(\n",
    "    model,\n",
    "    device=mlp.device,\n",
    "    num_epochs=10000,\n",
    "    learning_rate=1e-2,\n",
    "    gamma=0.999,\n",
    "    patience=50,\n",
    "    root_save_dir=\"model_dir/model_albedo\",\n",
    "    model_name=\"resnet\",\n",
    "    train_loader=train_loader,\n",
    "    valid_loader=valid_loader,\n",
    ")"
   ]
  },
  {
   "cell_type": "markdown",
   "metadata": {},
   "source": [
    "I did this step a couple of times, checking the logs for loss values and overall performance. I also check the model's performance on the inference set. I check to see if the model is predicting values within the acceptable range of `albedo` values, which is between $[0.0, 1.0]$."
   ]
  },
  {
   "cell_type": "code",
   "execution_count": 37,
   "metadata": {},
   "outputs": [
    {
     "data": {
      "text/plain": [
       "<All keys matched successfully>"
      ]
     },
     "execution_count": 37,
     "metadata": {},
     "output_type": "execute_result"
    }
   ],
   "source": [
    "model.load_state_dict(torch.load(\"model_dir/model_albedo/resnet\"))"
   ]
  },
  {
   "cell_type": "code",
   "execution_count": 39,
   "metadata": {},
   "outputs": [
    {
     "data": {
      "text/plain": [
       "1202111"
      ]
     },
     "execution_count": 39,
     "metadata": {},
     "output_type": "execute_result"
    }
   ],
   "source": [
    "predictions = []\n",
    "\n",
    "for X, _ in inf_loader:\n",
    "    X = X.to(mlp.device)\n",
    "    predictions += model(X).cpu().tolist()\n",
    "\n",
    "len(predictions)"
   ]
  },
  {
   "cell_type": "code",
   "execution_count": 38,
   "metadata": {},
   "outputs": [
    {
     "data": {
      "text/plain": [
       "count    138496.000000\n",
       "mean          0.130099\n",
       "std           0.110358\n",
       "min           0.001000\n",
       "25%           0.053000\n",
       "50%           0.078000\n",
       "75%           0.189000\n",
       "max           1.000000\n",
       "Name: albedo, dtype: float64"
      ]
     },
     "execution_count": 38,
     "metadata": {},
     "output_type": "execute_result"
    }
   ],
   "source": [
    "df[target_column].describe()"
   ]
  },
  {
   "cell_type": "code",
   "execution_count": 40,
   "metadata": {},
   "outputs": [
    {
     "data": {
      "text/plain": [
       "count    1.340607e+06\n",
       "mean     3.300324e-02\n",
       "std      7.646102e-02\n",
       "min     -4.001474e-01\n",
       "25%     -8.701958e-03\n",
       "50%      2.037045e-02\n",
       "75%      5.300000e-02\n",
       "max      1.000000e+00\n",
       "Name: albedo, dtype: float64"
      ]
     },
     "execution_count": 40,
     "metadata": {},
     "output_type": "execute_result"
    }
   ],
   "source": [
    "df.loc[(df[\"albedo\"].isnull()), \"albedo\"] = predictions\n",
    "df[\"albedo\"].describe()"
   ]
  },
  {
   "cell_type": "markdown",
   "metadata": {},
   "source": [
    "I check how many of the values are out of range."
   ]
  },
  {
   "cell_type": "code",
   "execution_count": 44,
   "metadata": {},
   "outputs": [
    {
     "data": {
      "text/plain": [
       "528"
      ]
     },
     "execution_count": 44,
     "metadata": {},
     "output_type": "execute_result"
    }
   ],
   "source": [
    "df[(df[\"albedo\"] < 0) | (df[\"albedo\"] > 1)].dropna().albedo.count()"
   ]
  },
  {
   "cell_type": "markdown",
   "metadata": {},
   "source": [
    "It's easier for now to drop these values and move on. Ideally, the model shouldn't be outputting unacceptable values at all. However, the model has seen a very small fraction of values compared to the amount it's inferencing. Thus, it is struggling to generalize well."
   ]
  },
  {
   "cell_type": "code",
   "execution_count": 45,
   "metadata": {},
   "outputs": [],
   "source": [
    "df.drop(index=df[df.albedo < 0].index, inplace=True)"
   ]
  },
  {
   "cell_type": "markdown",
   "metadata": {},
   "source": [
    "##### `diameter` column\n",
    "\n",
    "The same process is carried out for this column as well."
   ]
  },
  {
   "cell_type": "code",
   "execution_count": 124,
   "metadata": {},
   "outputs": [],
   "source": [
    "categorical_columns = [\"pha\", \"neo\", \"condition_code\", \"class\"]\n",
    "numerical_columns = df.columns.drop(categorical_columns).drop([\"first_obs\", \"last_obs\"])\n",
    "target_column = [\"diameter\"]\n",
    "exclude_columns = [\"first_obs\", \"last_obs\"]"
   ]
  },
  {
   "cell_type": "code",
   "execution_count": 125,
   "metadata": {},
   "outputs": [
    {
     "name": "stdout",
     "output_type": "stream",
     "text": [
      "Number of examples for training purposes: 139624\n",
      "Number of examples for inference purposes: 1200975\n",
      "Training X shape: torch.Size([129384, 46])\n",
      "Training y shape: torch.Size([129384, 1])\n",
      "Validation X shape: torch.Size([10240, 46])\n",
      "Validation y shape: torch.Size([10240, 1])\n",
      "Inference X shape: torch.Size([1200975, 46])\n",
      "Inference y shape: torch.Size([1200975, 1])\n"
     ]
    }
   ],
   "source": [
    "train_loader, valid_loader, inf_loader = create_dataloader.create_dataloader(\n",
    "    df,\n",
    "    numerical_columns,\n",
    "    categorical_columns,\n",
    "    target_column,\n",
    "    exclude_columns,\n",
    "    2048,\n",
    "    False,\n",
    ")"
   ]
  },
  {
   "cell_type": "code",
   "execution_count": 151,
   "metadata": {},
   "outputs": [
    {
     "name": "stderr",
     "output_type": "stream",
     "text": [
      "/home/ishrak/Documents/Asteroid-Mining-Analysis/.venv/lib/python3.11/site-packages/torch/nn/modules/lazy.py:180: UserWarning:\n",
      "\n",
      "Lazy modules are a new feature under heavy development so changes to the API or functionality can happen at any moment.\n",
      "\n"
     ]
    },
    {
     "name": "stdout",
     "output_type": "stream",
     "text": [
      "The training process has done!\n"
     ]
    }
   ],
   "source": [
    "model = mlp.MLP_Diameter(\n",
    "    n=3,\n",
    "    num_output_list=[256, 128, 64],\n",
    "    dropout_list=[0.2, 0.15, 0.1],\n",
    "    device=mlp.device,\n",
    ")\n",
    "\n",
    "model = train_script.train_epoch(\n",
    "    model,\n",
    "    device=mlp.device,\n",
    "    num_epochs=1000,\n",
    "    learning_rate=1e-4,\n",
    "    gamma=0.99,\n",
    "    patience=50,\n",
    "    root_save_dir=\"model_dir/model_diameter\",\n",
    "    model_name=\"resnet\",\n",
    "    train_loader=train_loader,\n",
    "    valid_loader=valid_loader,\n",
    ")"
   ]
  },
  {
   "cell_type": "code",
   "execution_count": 152,
   "metadata": {},
   "outputs": [
    {
     "data": {
      "text/plain": [
       "<All keys matched successfully>"
      ]
     },
     "execution_count": 152,
     "metadata": {},
     "output_type": "execute_result"
    }
   ],
   "source": [
    "model.load_state_dict(torch.load(\"model_dir/model_diameter/resnet\"))"
   ]
  },
  {
   "cell_type": "code",
   "execution_count": 153,
   "metadata": {},
   "outputs": [
    {
     "data": {
      "text/plain": [
       "1200975"
      ]
     },
     "execution_count": 153,
     "metadata": {},
     "output_type": "execute_result"
    }
   ],
   "source": [
    "predictions = []\n",
    "\n",
    "for X, _ in inf_loader:\n",
    "    X = X.to(mlp.device)\n",
    "    predictions += model(X).cpu().tolist()\n",
    "\n",
    "len(predictions)"
   ]
  },
  {
   "cell_type": "code",
   "execution_count": 154,
   "metadata": {},
   "outputs": [
    {
     "data": {
      "text/html": [
       "<div>\n",
       "<style scoped>\n",
       "    .dataframe tbody tr th:only-of-type {\n",
       "        vertical-align: middle;\n",
       "    }\n",
       "\n",
       "    .dataframe tbody tr th {\n",
       "        vertical-align: top;\n",
       "    }\n",
       "\n",
       "    .dataframe thead th {\n",
       "        text-align: right;\n",
       "    }\n",
       "</style>\n",
       "<table border=\"1\" class=\"dataframe\">\n",
       "  <thead>\n",
       "    <tr style=\"text-align: right;\">\n",
       "      <th></th>\n",
       "      <th>diameter</th>\n",
       "    </tr>\n",
       "  </thead>\n",
       "  <tbody>\n",
       "    <tr>\n",
       "      <th>count</th>\n",
       "      <td>139624.000000</td>\n",
       "    </tr>\n",
       "    <tr>\n",
       "      <th>mean</th>\n",
       "      <td>5.458924</td>\n",
       "    </tr>\n",
       "    <tr>\n",
       "      <th>std</th>\n",
       "      <td>9.308008</td>\n",
       "    </tr>\n",
       "    <tr>\n",
       "      <th>min</th>\n",
       "      <td>0.002500</td>\n",
       "    </tr>\n",
       "    <tr>\n",
       "      <th>25%</th>\n",
       "      <td>2.763000</td>\n",
       "    </tr>\n",
       "    <tr>\n",
       "      <th>50%</th>\n",
       "      <td>3.949000</td>\n",
       "    </tr>\n",
       "    <tr>\n",
       "      <th>75%</th>\n",
       "      <td>5.731000</td>\n",
       "    </tr>\n",
       "    <tr>\n",
       "      <th>max</th>\n",
       "      <td>939.400000</td>\n",
       "    </tr>\n",
       "  </tbody>\n",
       "</table>\n",
       "</div>"
      ],
      "text/plain": [
       "            diameter\n",
       "count  139624.000000\n",
       "mean        5.458924\n",
       "std         9.308008\n",
       "min         0.002500\n",
       "25%         2.763000\n",
       "50%         3.949000\n",
       "75%         5.731000\n",
       "max       939.400000"
      ]
     },
     "execution_count": 154,
     "metadata": {},
     "output_type": "execute_result"
    }
   ],
   "source": [
    "df[target_column].describe()"
   ]
  },
  {
   "cell_type": "code",
   "execution_count": 157,
   "metadata": {},
   "outputs": [
    {
     "data": {
      "text/plain": [
       "count    1.340599e+06\n",
       "mean     2.968320e+00\n",
       "std      3.139675e+00\n",
       "min      2.500000e-03\n",
       "25%      2.616776e+00\n",
       "50%      2.807216e+00\n",
       "75%      2.922971e+00\n",
       "max      9.394000e+02\n",
       "Name: diameter, dtype: float64"
      ]
     },
     "execution_count": 157,
     "metadata": {},
     "output_type": "execute_result"
    }
   ],
   "source": [
    "df.loc[(df[\"diameter\"].isnull()), \"diameter\"] = predictions\n",
    "df[\"diameter\"].describe()"
   ]
  },
  {
   "cell_type": "code",
   "execution_count": 158,
   "metadata": {},
   "outputs": [
    {
     "data": {
      "text/plain": [
       "a                 0\n",
       "e                 0\n",
       "i                 0\n",
       "om                0\n",
       "w                 0\n",
       "q                 0\n",
       "ad                0\n",
       "per_y             0\n",
       "data_arc          0\n",
       "condition_code    0\n",
       "n_obs_used        0\n",
       "H                 0\n",
       "epoch_mjd         0\n",
       "ma                0\n",
       "diameter          0\n",
       "albedo            0\n",
       "neo               0\n",
       "pha               0\n",
       "n                 0\n",
       "per               0\n",
       "moid              0\n",
       "moid_ld           0\n",
       "class             0\n",
       "first_obs         0\n",
       "last_obs          0\n",
       "dtype: int64"
      ]
     },
     "execution_count": 158,
     "metadata": {},
     "output_type": "execute_result"
    }
   ],
   "source": [
    "df.isna().sum()"
   ]
  },
  {
   "cell_type": "markdown",
   "metadata": {},
   "source": [
    "Finally, I save the data to load for other data cleaning procedures."
   ]
  },
  {
   "cell_type": "code",
   "execution_count": 159,
   "metadata": {},
   "outputs": [],
   "source": [
    "df.to_csv(\"data/Asteroid_Imputed.csv\")"
   ]
  }
 ],
 "metadata": {
  "kernelspec": {
   "display_name": ".venv",
   "language": "python",
   "name": "python3"
  },
  "language_info": {
   "codemirror_mode": {
    "name": "ipython",
    "version": 3
   },
   "file_extension": ".py",
   "mimetype": "text/x-python",
   "name": "python",
   "nbconvert_exporter": "python",
   "pygments_lexer": "ipython3",
   "version": "3.11.6"
  }
 },
 "nbformat": 4,
 "nbformat_minor": 2
}
