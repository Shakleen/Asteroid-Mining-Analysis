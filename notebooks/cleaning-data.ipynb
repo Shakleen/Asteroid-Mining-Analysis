{
 "cells": [
  {
   "cell_type": "code",
   "execution_count": 1,
   "metadata": {},
   "outputs": [],
   "source": [
    "import os\n",
    "os.chdir(\"../\")"
   ]
  },
  {
   "cell_type": "markdown",
   "metadata": {},
   "source": [
    "# Cleaning Data\n",
    "\n",
    "This notebook deals with **noise**, **outliers**, and **inconsistancies** present in the data."
   ]
  },
  {
   "cell_type": "code",
   "execution_count": 2,
   "metadata": {},
   "outputs": [],
   "source": [
    "import pandas as pd\n",
    "import plotly.express as px"
   ]
  },
  {
   "cell_type": "code",
   "execution_count": 3,
   "metadata": {},
   "outputs": [
    {
     "data": {
      "text/plain": [
       "(1340599, 25)"
      ]
     },
     "execution_count": 3,
     "metadata": {},
     "output_type": "execute_result"
    }
   ],
   "source": [
    "df = pd.read_csv(\"data/Asteroid_Imputed.csv\", low_memory=False, index_col=0)\n",
    "df.shape"
   ]
  },
  {
   "cell_type": "code",
   "execution_count": 4,
   "metadata": {},
   "outputs": [
    {
     "data": {
      "text/plain": [
       "array(['a', 'e', 'i', 'om', 'w', 'q', 'ad', 'per_y', 'data_arc',\n",
       "       'condition_code', 'n_obs_used', 'H', 'epoch_mjd', 'ma', 'diameter',\n",
       "       'albedo', 'neo', 'pha', 'n', 'per', 'moid', 'moid_ld', 'class',\n",
       "       'first_obs', 'last_obs'], dtype=object)"
      ]
     },
     "execution_count": 4,
     "metadata": {},
     "output_type": "execute_result"
    }
   ],
   "source": [
    "df.columns.values"
   ]
  },
  {
   "cell_type": "markdown",
   "metadata": {},
   "source": [
    "I know that `pha`, `neo`, `class` and `condition_code` are numerical columns."
   ]
  },
  {
   "cell_type": "markdown",
   "metadata": {},
   "source": [
    "## Categorical Columns"
   ]
  },
  {
   "cell_type": "markdown",
   "metadata": {},
   "source": [
    "### `pha` and `neo`\n",
    "\n",
    "These are binary attributes. I'll replace the **N** and **Y** with 0 and 1 respectively. And set the data type to be **int**."
   ]
  },
  {
   "cell_type": "code",
   "execution_count": 5,
   "metadata": {},
   "outputs": [
    {
     "data": {
      "text/plain": [
       "pha\n",
       "N    1338200\n",
       "Y       2399\n",
       "Name: count, dtype: int64"
      ]
     },
     "execution_count": 5,
     "metadata": {},
     "output_type": "execute_result"
    }
   ],
   "source": [
    "df.pha.value_counts()"
   ]
  },
  {
   "cell_type": "code",
   "execution_count": 6,
   "metadata": {},
   "outputs": [
    {
     "data": {
      "text/plain": [
       "neo\n",
       "N    1306649\n",
       "Y      33950\n",
       "Name: count, dtype: int64"
      ]
     },
     "execution_count": 6,
     "metadata": {},
     "output_type": "execute_result"
    }
   ],
   "source": [
    "df.neo.value_counts()"
   ]
  },
  {
   "cell_type": "code",
   "execution_count": 7,
   "metadata": {},
   "outputs": [],
   "source": [
    "df.loc[:, [\"neo\", \"pha\"]] = df.loc[:, [\"neo\", \"pha\"]].replace({\"N\": 0, \"Y\": 1}).astype(int)"
   ]
  },
  {
   "cell_type": "markdown",
   "metadata": {},
   "source": [
    "### `condition_code`\n",
    "\n",
    "This takes on values from **0** to **9**. An orbital condition code of **0** stands for the most certainty we have about the orbital path of a celestial space object. The more the condition code trends towards higher values, the less confident we are. However, there isn't an exact difference between each condition code in terms of certainty. Which is why it's an ordinal attribute.\n",
    "\n",
    "Condition Code | Orbit Longitude runoff\n",
    "------- | -------\n",
    "0      | < 1.0 arc seconds\n",
    "1      | < 4.4 arc seconds\n",
    "2      | < 19.6 arc seconds\n",
    "3      | < 1.4 arc minutes\n",
    "4      | < 6.4 arc minutes\n",
    "5      | < 28.2 arc minutes\n",
    "6      | < 2.1 degrees\n",
    "7      | < 9.2 degrees\n",
    "8      | < 40.7 degrees\n",
    "9      | > 40.7 degrees"
   ]
  },
  {
   "cell_type": "code",
   "execution_count": 8,
   "metadata": {},
   "outputs": [
    {
     "data": {
      "text/plain": [
       "condition_code\n",
       "0    1026990\n",
       "1      90234\n",
       "2      59380\n",
       "5      30619\n",
       "4      27015\n",
       "6      24559\n",
       "3      22834\n",
       "7      20780\n",
       "9      19845\n",
       "8      18342\n",
       "E          1\n",
       "Name: count, dtype: int64"
      ]
     },
     "execution_count": 8,
     "metadata": {},
     "output_type": "execute_result"
    }
   ],
   "source": [
    "df.condition_code.value_counts()"
   ]
  },
  {
   "cell_type": "markdown",
   "metadata": {},
   "source": [
    "Here, there is a mis-labeled asteroid having condition code of **E**."
   ]
  },
  {
   "cell_type": "code",
   "execution_count": 9,
   "metadata": {},
   "outputs": [
    {
     "data": {
      "text/html": [
       "<div>\n",
       "<style scoped>\n",
       "    .dataframe tbody tr th:only-of-type {\n",
       "        vertical-align: middle;\n",
       "    }\n",
       "\n",
       "    .dataframe tbody tr th {\n",
       "        vertical-align: top;\n",
       "    }\n",
       "\n",
       "    .dataframe thead th {\n",
       "        text-align: right;\n",
       "    }\n",
       "</style>\n",
       "<table border=\"1\" class=\"dataframe\">\n",
       "  <thead>\n",
       "    <tr style=\"text-align: right;\">\n",
       "      <th></th>\n",
       "      <th>a</th>\n",
       "      <th>e</th>\n",
       "      <th>i</th>\n",
       "      <th>om</th>\n",
       "      <th>w</th>\n",
       "      <th>q</th>\n",
       "      <th>ad</th>\n",
       "      <th>per_y</th>\n",
       "      <th>data_arc</th>\n",
       "      <th>condition_code</th>\n",
       "      <th>...</th>\n",
       "      <th>albedo</th>\n",
       "      <th>neo</th>\n",
       "      <th>pha</th>\n",
       "      <th>n</th>\n",
       "      <th>per</th>\n",
       "      <th>moid</th>\n",
       "      <th>moid_ld</th>\n",
       "      <th>class</th>\n",
       "      <th>first_obs</th>\n",
       "      <th>last_obs</th>\n",
       "    </tr>\n",
       "  </thead>\n",
       "  <tbody>\n",
       "    <tr>\n",
       "      <th>764883</th>\n",
       "      <td>2.775</td>\n",
       "      <td>0.2737</td>\n",
       "      <td>13.78</td>\n",
       "      <td>270.1</td>\n",
       "      <td>11.37</td>\n",
       "      <td>2.015</td>\n",
       "      <td>2.51</td>\n",
       "      <td>3.65</td>\n",
       "      <td>6532.0</td>\n",
       "      <td>E</td>\n",
       "      <td>...</td>\n",
       "      <td>0.200889</td>\n",
       "      <td>0</td>\n",
       "      <td>0</td>\n",
       "      <td>0.2132</td>\n",
       "      <td>1330.0</td>\n",
       "      <td>1.24</td>\n",
       "      <td>484.0</td>\n",
       "      <td>MBA</td>\n",
       "      <td>2010-04-29</td>\n",
       "      <td>2010-05-01</td>\n",
       "    </tr>\n",
       "  </tbody>\n",
       "</table>\n",
       "<p>1 rows × 25 columns</p>\n",
       "</div>"
      ],
      "text/plain": [
       "            a       e      i     om      w      q    ad  per_y  data_arc  \\\n",
       "764883  2.775  0.2737  13.78  270.1  11.37  2.015  2.51   3.65    6532.0   \n",
       "\n",
       "       condition_code  ...    albedo  neo  pha       n     per  moid moid_ld  \\\n",
       "764883              E  ...  0.200889    0    0  0.2132  1330.0  1.24   484.0   \n",
       "\n",
       "       class   first_obs    last_obs  \n",
       "764883   MBA  2010-04-29  2010-05-01  \n",
       "\n",
       "[1 rows x 25 columns]"
      ]
     },
     "execution_count": 9,
     "metadata": {},
     "output_type": "execute_result"
    }
   ],
   "source": [
    "df[df.condition_code == 'E']"
   ]
  },
  {
   "cell_type": "markdown",
   "metadata": {},
   "source": [
    "I'll replace this value with an appropriate one. I'll group the rows by `neo`, `pha` and `class`. Then replace the value by group mode."
   ]
  },
  {
   "cell_type": "code",
   "execution_count": 10,
   "metadata": {},
   "outputs": [
    {
     "data": {
      "text/plain": [
       "'0'"
      ]
     },
     "execution_count": 10,
     "metadata": {},
     "output_type": "execute_result"
    }
   ],
   "source": [
    "df.groupby([\"neo\", \"pha\", \"class\"]).condition_code.apply(lambda x: x.mode().iloc[0])[0, 0, \"MBA\"]"
   ]
  },
  {
   "cell_type": "markdown",
   "metadata": {},
   "source": [
    "So this row should have a condition code of **0**."
   ]
  },
  {
   "cell_type": "code",
   "execution_count": 11,
   "metadata": {},
   "outputs": [
    {
     "data": {
      "text/plain": [
       "condition_code\n",
       "0    1026991\n",
       "1      90234\n",
       "2      59380\n",
       "5      30619\n",
       "4      27015\n",
       "6      24559\n",
       "3      22834\n",
       "7      20780\n",
       "9      19845\n",
       "8      18342\n",
       "Name: count, dtype: int64"
      ]
     },
     "execution_count": 11,
     "metadata": {},
     "output_type": "execute_result"
    }
   ],
   "source": [
    "df.loc[df.condition_code == 'E', \"condition_code\"] = \"0\"\n",
    "df.condition_code.value_counts()"
   ]
  },
  {
   "cell_type": "markdown",
   "metadata": {},
   "source": [
    "Now, I'll convert the dtype of the column to be **int**."
   ]
  },
  {
   "cell_type": "code",
   "execution_count": 12,
   "metadata": {},
   "outputs": [
    {
     "data": {
      "text/plain": [
       "dtype('int64')"
      ]
     },
     "execution_count": 12,
     "metadata": {},
     "output_type": "execute_result"
    }
   ],
   "source": [
    "df.condition_code = df.condition_code.astype(int)\n",
    "df.condition_code.dtype"
   ]
  },
  {
   "cell_type": "markdown",
   "metadata": {},
   "source": [
    "### `class`\n",
    "\n",
    "Asteroids are classified based on various criteria, but the most common system uses their orbital characteristics and spectral properties.\n",
    "\n",
    "| Class | Orbit                          | Spectral Type | Examples                |\n",
    "| ----- | ------------------------------ | ------------- | ----------------------- |\n",
    "| MBA   | Main belt (Mars-Jupiter)       | Various       | Vesta, Ceres, Juno      |\n",
    "| OMB   | Outer main belt                | Various       | Psyche, Cybele          |\n",
    "| MCA   | Mars-crossing                  | Various       | Eros, Phobos            |\n",
    "| AMO   | Earth-crossing (outside)       | Various       | 433 Eros, Toutatis      |\n",
    "| IMB   | Inner main belt                | Various       | Vesta, Hidalgo          |\n",
    "| TJN   | Jupiter Trojan                 | Various       | Patroclus, Menelaus     |\n",
    "| CEN   | Centaur (Jupiter-Neptune)      | Icy           | Chiron, Pholus          |\n",
    "| APO   | Earth-crossing (inside 1 year) | Various       | 1036 Ganymede, Apophis  |\n",
    "| ATE   | Aten (Earth-crossing, < 1 AU)  | Various       | 1950 DA, Bennu          |\n",
    "| TNO   | Trans-Neptunian                | Icy           | Pluto, Eris, Makemake   |\n",
    "| IEO   | Inner Earth Object             | Various       | Aten, Apollo types      |\n",
    "| HYA   | Hungaria (Jupiter resonance)   | Various       | 434 Hungaria, 16 Psyche |\n",
    "\n",
    "[Source: Response from Google's Bard](https://g.co/bard/share/0951ce8978a0)"
   ]
  },
  {
   "cell_type": "code",
   "execution_count": 15,
   "metadata": {},
   "outputs": [
    {
     "data": {
      "text/plain": [
       "class\n",
       "MBA    1192472\n",
       "OMB      41141\n",
       "IMB      28803\n",
       "MCA      25654\n",
       "APO      19127\n",
       "TJN      13114\n",
       "AMO      12114\n",
       "TNO       4594\n",
       "ATE       2677\n",
       "CEN        742\n",
       "AST        126\n",
       "IEO         32\n",
       "HYA          3\n",
       "Name: count, dtype: int64"
      ]
     },
     "execution_count": 15,
     "metadata": {},
     "output_type": "execute_result"
    }
   ],
   "source": [
    "df[\"class\"].value_counts()"
   ]
  },
  {
   "cell_type": "markdown",
   "metadata": {},
   "source": [
    "I don't have a lot of data points for **HYA**. So, I'll remove them from the dataset and not consider them in my analysis."
   ]
  },
  {
   "cell_type": "code",
   "execution_count": 18,
   "metadata": {},
   "outputs": [],
   "source": [
    "df.drop(index=df[df[\"class\"] == \"HYA\"].index, inplace=True)"
   ]
  }
 ],
 "metadata": {
  "kernelspec": {
   "display_name": ".venv",
   "language": "python",
   "name": "python3"
  },
  "language_info": {
   "codemirror_mode": {
    "name": "ipython",
    "version": 3
   },
   "file_extension": ".py",
   "mimetype": "text/x-python",
   "name": "python",
   "nbconvert_exporter": "python",
   "pygments_lexer": "ipython3",
   "version": "3.11.6"
  }
 },
 "nbformat": 4,
 "nbformat_minor": 2
}
